{
 "cells": [
  {
   "cell_type": "code",
   "execution_count": 1,
   "id": "54045230-7b11-49d4-977e-6baeb6ec1093",
   "metadata": {},
   "outputs": [
    {
     "name": "stderr",
     "output_type": "stream",
     "text": [
      "/Users/svkov42/miniconda3/envs/ds/lib/python3.9/site-packages/scipy/__init__.py:146: UserWarning: A NumPy version >=1.16.5 and <1.23.0 is required for this version of SciPy (detected version 1.26.1\n",
      "  warnings.warn(f\"A NumPy version >={np_minversion} and <{np_maxversion}\"\n"
     ]
    }
   ],
   "source": [
    "import pandas as pd\n",
    "import numpy as np\n",
    "import matplotlib.pyplot as plt\n",
    "\n",
    "from scipy.optimize import minimize\n",
    "from sklearn.datasets import make_regression"
   ]
  },
  {
   "cell_type": "code",
   "execution_count": 2,
   "id": "2524f849-ba76-4db6-ab4d-7978fcad44ab",
   "metadata": {},
   "outputs": [
    {
     "data": {
      "text/plain": [
       "(10000, 4)"
      ]
     },
     "execution_count": 2,
     "metadata": {},
     "output_type": "execute_result"
    }
   ],
   "source": [
    "n = 10000\n",
    "m = 4\n",
    "bias = 10\n",
    "x, y, coef = make_regression(n, m - 1, bias=bias, coef=True)\n",
    "coef = np.hstack(([bias], coef)).reshape(-1, 1)\n",
    "y = y.reshape(-1, 1)\n",
    "x_ones = np.ones((n, 1))\n",
    "x = np.hstack((x_ones, x))\n",
    "x.shape"
   ]
  },
  {
   "cell_type": "markdown",
   "id": "a846b0ee-6c52-42d9-ada6-5cb8305ee6c8",
   "metadata": {},
   "source": [
    "## Задача\n",
    "\n",
    "Научимся применять модель с любыми весами"
   ]
  },
  {
   "cell_type": "code",
   "execution_count": 3,
   "id": "8b27ede7-9cf9-42e8-85f5-949bcfff1d2f",
   "metadata": {},
   "outputs": [],
   "source": [
    "def forward(X, w):\n",
    "    return X @ w"
   ]
  },
  {
   "cell_type": "code",
   "execution_count": 4,
   "id": "702fb56e-3307-4c9d-a16e-13f45489707c",
   "metadata": {},
   "outputs": [
    {
     "name": "stdout",
     "output_type": "stream",
     "text": [
      "Прогноз для нулей\n",
      "[0. 0. 0. 0. 0.]\n",
      "Прогноз для единиц\n",
      "[ 3.22252898  4.38089189  3.73077617 -0.01778321 -0.84497553]\n",
      "Прогноз линейной регрессии\n",
      "[ 111.18509369  178.48866008   87.0763532    -4.57872402 -123.59787986]\n"
     ]
    }
   ],
   "source": [
    "w = np.zeros((m, 1))\n",
    "print(f'Прогноз для нулей\\n{forward(x, w)[:5].flatten()}')\n",
    "\n",
    "w = np.ones((m, 1))\n",
    "print(f'Прогноз для единиц\\n{forward(x, w)[:5].flatten()}')\n",
    "\n",
    "w = coef.copy()\n",
    "print(f'Прогноз линейной регрессии\\n{forward(x, w)[:5].flatten()}')"
   ]
  },
  {
   "cell_type": "markdown",
   "id": "87093251-5260-4209-a9c7-0d4a9792bccd",
   "metadata": {},
   "source": [
    "## Задача\n",
    "\n",
    "Написать лосс-функцию для линейной регрессии"
   ]
  },
  {
   "cell_type": "code",
   "execution_count": 5,
   "id": "e38740ea-f7b7-4f6d-8c17-c2bb6a909ecd",
   "metadata": {},
   "outputs": [],
   "source": [
    "def loss(X, y, w):\n",
    "    return np.linalg.norm(forward(X, w) - y) / len(y)"
   ]
  },
  {
   "cell_type": "code",
   "execution_count": 6,
   "id": "64edd406-65c9-46e7-b20b-26e7d475536e",
   "metadata": {},
   "outputs": [
    {
     "name": "stdout",
     "output_type": "stream",
     "text": [
      "Лосс большой 1.02\n",
      "Лосс поменбше 1.01\n",
      "Лосс ваще маленький жесть 0.00\n"
     ]
    }
   ],
   "source": [
    "w = np.zeros((m, 1))\n",
    "print(f'Лосс большой {loss(x, y, w):.2f}')\n",
    "\n",
    "w = np.ones((m, 1))\n",
    "print(f'Лосс поменбше {loss(x, y, w):.2f}')\n",
    "\n",
    "w = coef.copy()\n",
    "print(f'Лосс ваще маленький жесть {loss(x, y, w):.2f}')"
   ]
  },
  {
   "cell_type": "markdown",
   "id": "ba993875-b2cf-4ec3-bb4c-c4053089fc7d",
   "metadata": {},
   "source": [
    "## Задача\n",
    "\n",
    "Написать градиент лосс-функции\n",
    "\n",
    "Есть два варианта, выбираем какой больше нравится:\n",
    "\n",
    "- Аналитический\n",
    "- Численный\n",
    "\n",
    "Формула для аналитического градиента:\n",
    "\n",
    "$$\n",
    "\\frac{2}{N} X^T(\\hat{y} - y)\n",
    "$$"
   ]
  },
  {
   "cell_type": "code",
   "execution_count": 7,
   "id": "f756c1f5-ad71-4b01-953e-2ac0a2201394",
   "metadata": {},
   "outputs": [],
   "source": [
    "def grad_loss(X, y, w):\n",
    "    return (2 / len(y)) * X.T @ (forward(X, w) - y)\n",
    "    \n",
    "def grad_norm(X, y, w):\n",
    "    return np.linalg.norm(grad_loss(X, y, w))"
   ]
  },
  {
   "cell_type": "code",
   "execution_count": 8,
   "id": "c7d70945-1423-4e1a-9ad8-b31553fdfbd2",
   "metadata": {},
   "outputs": [
    {
     "name": "stdout",
     "output_type": "stream",
     "text": [
      "Градиент большой [[ -21.94330223]\n",
      " [-137.61294834]\n",
      " [-148.4793108 ]\n",
      " [ -21.86531903]]\n",
      "Градиент поменбше [[ -19.90190644]\n",
      " [-135.62496489]\n",
      " [-146.45420539]\n",
      " [ -19.87218928]]\n",
      "Градиент ваще маленький жесть [[-1.39244172e-16]\n",
      " [-5.21483041e-17]\n",
      " [ 2.91401846e-17]\n",
      " [ 7.64230034e-17]]\n"
     ]
    }
   ],
   "source": [
    "w = np.zeros((m, 1))\n",
    "print(f'Градиент большой {grad_loss(x, y, w)}')\n",
    "\n",
    "w = np.ones((m, 1))\n",
    "print(f'Градиент поменбше {grad_loss(x, y, w)}')\n",
    "\n",
    "w = coef.copy()\n",
    "print(f'Градиент ваще маленький жесть {grad_loss(x, y, w)}')"
   ]
  },
  {
   "cell_type": "code",
   "execution_count": 9,
   "id": "c18352be-9481-4413-82ad-f23798d4a47b",
   "metadata": {},
   "outputs": [
    {
     "name": "stdout",
     "output_type": "stream",
     "text": [
      "Норма градиента большая 204.79997552777454\n",
      "Норма градиента поменбше 201.57865751602148\n",
      "Норма градиента ваще маленький жесть 1.6969976661026071e-16\n"
     ]
    }
   ],
   "source": [
    "w = np.zeros((m, 1))\n",
    "print(f'Норма градиента большая {grad_norm(x, y, w)}')\n",
    "\n",
    "w = np.ones((m, 1))\n",
    "print(f'Норма градиента поменбше {grad_norm(x, y, w)}')\n",
    "\n",
    "w = coef.copy()\n",
    "print(f'Норма градиента ваще маленький жесть {grad_norm(x, y, w)}')"
   ]
  },
  {
   "cell_type": "code",
   "execution_count": 10,
   "id": "2dc6a3ce-a43b-4ac2-9267-3610c21d1a04",
   "metadata": {},
   "outputs": [],
   "source": [
    "def random_row(x ,y):\n",
    "    row_num = np.random.randint(0, x.shape[0])\n",
    "    random_x = x[row_num, :].reshape(1, -1)\n",
    "    random_y = y[row_num, :].reshape(1, -1)\n",
    "    return random_x, random_y"
   ]
  },
  {
   "cell_type": "code",
   "execution_count": 11,
   "id": "5dff6233-f9b2-49c9-9eba-d9f034972618",
   "metadata": {},
   "outputs": [],
   "source": [
    "def sgd_full(x, y, w_start, n_iters=1000, lr=0.1, tol=0.0001):\n",
    "    # Ваш код здесь\n",
    "    i = 0\n",
    "    while grad_norm(x, y, w_start) > tol and i < n_iters:\n",
    "        x_k, y_k = random_row(x ,y)\n",
    "        w_start = w_start - lr * grad_loss(x_k, y_k, w_start)\n",
    "        i += 1\n",
    "    return w_start"
   ]
  },
  {
   "cell_type": "code",
   "execution_count": 12,
   "id": "bc3f1310-91b4-4373-8c70-132f9f151d77",
   "metadata": {},
   "outputs": [],
   "source": [
    "w = np.random.normal(size=(m, 1))\n",
    "lr = 0.01"
   ]
  },
  {
   "cell_type": "code",
   "execution_count": 13,
   "id": "8d5a8c65-aa04-4783-8ff9-2f3db533ac52",
   "metadata": {},
   "outputs": [
    {
     "data": {
      "text/plain": [
       "array([[10.        ],\n",
       "       [68.9274355 ],\n",
       "       [73.8098344 ],\n",
       "       [11.53343213]])"
      ]
     },
     "execution_count": 13,
     "metadata": {},
     "output_type": "execute_result"
    }
   ],
   "source": [
    "w = sgd_full(x, y, w, 10000, lr, tol=1e-9)\n",
    "w"
   ]
  },
  {
   "cell_type": "code",
   "execution_count": 14,
   "id": "31ebd9a5-99cf-4cf9-9796-442f70353016",
   "metadata": {},
   "outputs": [
    {
     "data": {
      "text/plain": [
       "(array([[ 0.        , 68.9274355 , 73.8098344 , 11.53343213]]), array([10.]))"
      ]
     },
     "execution_count": 14,
     "metadata": {},
     "output_type": "execute_result"
    }
   ],
   "source": [
    "from sklearn.linear_model import LinearRegression\n",
    "model = LinearRegression()\n",
    "model.fit(x, y)\n",
    "model.coef_, model.intercept_"
   ]
  },
  {
   "cell_type": "markdown",
   "id": "cd6f8390-5980-4a93-af4c-6804a3e35c53",
   "metadata": {},
   "source": [
    "нолик появился, потому что там вектор единиц"
   ]
  },
  {
   "cell_type": "code",
   "execution_count": null,
   "id": "4d0b30b3-add1-40d3-9e2a-1fa89ff4bd1a",
   "metadata": {},
   "outputs": [],
   "source": []
  }
 ],
 "metadata": {
  "kernelspec": {
   "display_name": "Python 3 (ipykernel)",
   "language": "python",
   "name": "python3"
  },
  "language_info": {
   "codemirror_mode": {
    "name": "ipython",
    "version": 3
   },
   "file_extension": ".py",
   "mimetype": "text/x-python",
   "name": "python",
   "nbconvert_exporter": "python",
   "pygments_lexer": "ipython3",
   "version": "3.9.12"
  }
 },
 "nbformat": 4,
 "nbformat_minor": 5
}
