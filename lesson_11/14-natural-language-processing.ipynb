{
 "cells": [
  {
   "cell_type": "markdown",
   "id": "9baead4a-d163-4425-8bce-35a2b116d39f",
   "metadata": {},
   "source": [
    "# NLP\n",
    "\n",
    "- как предобработать данные\n",
    "- как векторизовать текст\n",
    "- как решать задачу классификации"
   ]
  },
  {
   "cell_type": "code",
   "execution_count": 1,
   "id": "e02c65bd",
   "metadata": {
    "id": "e02c65bd"
   },
   "outputs": [],
   "source": [
    "import numpy as np\n",
    "import pandas as pd"
   ]
  },
  {
   "cell_type": "markdown",
   "id": "2d6e4a8c-8d91-43c5-b759-f53d31b08518",
   "metadata": {},
   "source": [
    "## Регулярные выражения"
   ]
  },
  {
   "cell_type": "markdown",
   "id": "8595795c",
   "metadata": {
    "id": "8595795c"
   },
   "source": [
    "При помощи регулярок можно находить сложные паттерны в строках.\n",
    "\n",
    "Ниже пример проверки на валидность адреса электронной почты. \n",
    "\n",
    "В реальном приложении лучше не использовать такую проверку."
   ]
  },
  {
   "cell_type": "code",
   "execution_count": null,
   "id": "542956b1",
   "metadata": {
    "colab": {
     "base_uri": "https://localhost:8080/"
    },
    "executionInfo": {
     "elapsed": 247,
     "status": "ok",
     "timestamp": 1647275136783,
     "user": {
      "displayName": "Святослав Ковалев",
      "photoUrl": "https://lh3.googleusercontent.com/a-/AOh14GiEo6uPSihsjHnpbADaIWFahVInjjkZWI6g2J1WnA=s64",
      "userId": "12477434656558976325"
     },
     "user_tz": -180
    },
    "id": "542956b1",
    "outputId": "16ce3510-ea6a-40ae-fc52-ae5e1c3c1db8"
   },
   "outputs": [
    {
     "name": "stdout",
     "output_type": "stream",
     "text": [
      "Valid Email\n",
      "Invalid Email\n",
      "Invalid Email\n",
      "Invalid Email\n"
     ]
    }
   ],
   "source": [
    "import re\n",
    "regex = r'\\b[A-Za-z0-9._%+-]+@[A-Za-z0-9.-]+\\.[A-Z|a-z]{2,}\\b'\n",
    "\n",
    "# Don't use it in prod\n",
    "def check(email):\n",
    "    if(re.fullmatch(regex, email)):\n",
    "        print(\"Valid Email\") \n",
    "    else:\n",
    "        print(\"Invalid Email\")\n",
    "        \n",
    "check('valid_email@mail.ru')\n",
    "check('invalid email')\n",
    "check('invalid_email@mail.21')\n",
    "check('valid_email@mail.c')"
   ]
  },
  {
   "cell_type": "markdown",
   "id": "005fec94",
   "metadata": {
    "id": "005fec94"
   },
   "source": [
    "## Задача\n",
    "\n",
    "Предобработать текст следующим способом:\n",
    "\n",
    "- разбить текст на слова\n",
    "- привести все к нижнему регистру\n",
    "- убрать из текста все точки, запятые и скобки\n",
    "\n",
    "Найти в тексте самое частовстречаемое слово."
   ]
  },
  {
   "cell_type": "code",
   "execution_count": 6,
   "id": "6c0f351a-c780-494f-a1b5-fabbdab166d2",
   "metadata": {},
   "outputs": [],
   "source": [
    "def preprocess_text(text):\n",
    "    # Ваш код здесь\n",
    "    pass"
   ]
  },
  {
   "cell_type": "code",
   "execution_count": null,
   "id": "4590e63a",
   "metadata": {
    "id": "4590e63a"
   },
   "outputs": [],
   "source": [
    "text = \"Разобьем этот текст на слова, приведем к нижнему регистру. Затем уберем пунктуацию (точки, запятые и скобки). А потом найдем слово, которое встречается чаще всего. текст текст текст.\"\n",
    "preprocess_text(text)"
   ]
  },
  {
   "cell_type": "markdown",
   "id": "4e4a383c",
   "metadata": {
    "id": "4e4a383c"
   },
   "source": [
    "## Bag of word\n",
    "\n",
    "Чтобы применять к тексту методы машинного обучения, его необходимо векторизовать (превратить в массив чисел). Это можно сделать разными способами. Самый простой способ - bag of word.\n",
    "\n",
    "Разбиваем весь текст на токены (слова). Затем формируем матрицу, в которой в строках храним предложения, а в колонках слова. За каждое вхождение слова в предложение добавляем 1 в соответствующую ячейку. Не забываем убрать знаки препинания, табуляцию, пробелы и знаки переноса строки."
   ]
  },
  {
   "cell_type": "code",
   "execution_count": 9,
   "id": "03241c2f",
   "metadata": {
    "id": "03241c2f"
   },
   "outputs": [],
   "source": [
    "from sklearn.feature_extraction.text import CountVectorizer"
   ]
  },
  {
   "cell_type": "code",
   "execution_count": 10,
   "id": "b14dc545",
   "metadata": {
    "colab": {
     "base_uri": "https://localhost:8080/",
     "height": 230
    },
    "executionInfo": {
     "elapsed": 7,
     "status": "ok",
     "timestamp": 1647276088795,
     "user": {
      "displayName": "Святослав Ковалев",
      "photoUrl": "https://lh3.googleusercontent.com/a-/AOh14GiEo6uPSihsjHnpbADaIWFahVInjjkZWI6g2J1WnA=s64",
      "userId": "12477434656558976325"
     },
     "user_tz": -180
    },
    "id": "b14dc545",
    "outputId": "69d8afa9-7fab-4940-8c71-f0559569cf92"
   },
   "outputs": [
    {
     "name": "stderr",
     "output_type": "stream",
     "text": [
      "/Users/svkov42/miniconda3/envs/ds/lib/python3.9/site-packages/sklearn/utils/deprecation.py:87: FutureWarning: Function get_feature_names is deprecated; get_feature_names is deprecated in 1.0 and will be removed in 1.2. Please use get_feature_names_out instead.\n",
      "  warnings.warn(msg, category=FutureWarning)\n"
     ]
    },
    {
     "data": {
      "text/html": [
       "<div>\n",
       "<style scoped>\n",
       "    .dataframe tbody tr th:only-of-type {\n",
       "        vertical-align: middle;\n",
       "    }\n",
       "\n",
       "    .dataframe tbody tr th {\n",
       "        vertical-align: top;\n",
       "    }\n",
       "\n",
       "    .dataframe thead th {\n",
       "        text-align: right;\n",
       "    }\n",
       "</style>\n",
       "<table border=\"1\" class=\"dataframe\">\n",
       "  <thead>\n",
       "    <tr style=\"text-align: right;\">\n",
       "      <th></th>\n",
       "      <th>and</th>\n",
       "      <th>document</th>\n",
       "      <th>first</th>\n",
       "      <th>is</th>\n",
       "      <th>one</th>\n",
       "      <th>second</th>\n",
       "      <th>the</th>\n",
       "      <th>third</th>\n",
       "      <th>this</th>\n",
       "    </tr>\n",
       "  </thead>\n",
       "  <tbody>\n",
       "    <tr>\n",
       "      <th>This is the first document.</th>\n",
       "      <td>0</td>\n",
       "      <td>1</td>\n",
       "      <td>1</td>\n",
       "      <td>1</td>\n",
       "      <td>0</td>\n",
       "      <td>0</td>\n",
       "      <td>1</td>\n",
       "      <td>0</td>\n",
       "      <td>1</td>\n",
       "    </tr>\n",
       "    <tr>\n",
       "      <th>This is the second second document.</th>\n",
       "      <td>0</td>\n",
       "      <td>1</td>\n",
       "      <td>0</td>\n",
       "      <td>1</td>\n",
       "      <td>0</td>\n",
       "      <td>2</td>\n",
       "      <td>1</td>\n",
       "      <td>0</td>\n",
       "      <td>1</td>\n",
       "    </tr>\n",
       "    <tr>\n",
       "      <th>And the third one.</th>\n",
       "      <td>1</td>\n",
       "      <td>0</td>\n",
       "      <td>0</td>\n",
       "      <td>0</td>\n",
       "      <td>1</td>\n",
       "      <td>0</td>\n",
       "      <td>1</td>\n",
       "      <td>1</td>\n",
       "      <td>0</td>\n",
       "    </tr>\n",
       "    <tr>\n",
       "      <th>Is this the first document?</th>\n",
       "      <td>0</td>\n",
       "      <td>1</td>\n",
       "      <td>1</td>\n",
       "      <td>1</td>\n",
       "      <td>0</td>\n",
       "      <td>0</td>\n",
       "      <td>1</td>\n",
       "      <td>0</td>\n",
       "      <td>1</td>\n",
       "    </tr>\n",
       "  </tbody>\n",
       "</table>\n",
       "</div>"
      ],
      "text/plain": [
       "                                     and  document  first  is  one  second  \\\n",
       "This is the first document.            0         1      1   1    0       0   \n",
       "This is the second second document.    0         1      0   1    0       2   \n",
       "And the third one.                     1         0      0   0    1       0   \n",
       "Is this the first document?            0         1      1   1    0       0   \n",
       "\n",
       "                                     the  third  this  \n",
       "This is the first document.            1      0     1  \n",
       "This is the second second document.    1      0     1  \n",
       "And the third one.                     1      1     0  \n",
       "Is this the first document?            1      0     1  "
      ]
     },
     "execution_count": 10,
     "metadata": {},
     "output_type": "execute_result"
    }
   ],
   "source": [
    "corpus = [\n",
    "    'This is the first document.',\n",
    "    'This is the second second document.',\n",
    "    'And the third one.',\n",
    "    'Is this the first document?',\n",
    "]\n",
    "\n",
    "bow = CountVectorizer()\n",
    "bow_result = bow.fit_transform(corpus).toarray()\n",
    "pd.DataFrame(bow_result, columns=bow.get_feature_names(), index=corpus)"
   ]
  },
  {
   "cell_type": "markdown",
   "id": "508cd70d",
   "metadata": {
    "id": "508cd70d"
   },
   "source": [
    "С русским текстом это будет работать не очень хорошо"
   ]
  },
  {
   "cell_type": "code",
   "execution_count": 11,
   "id": "fc5a56cb",
   "metadata": {
    "colab": {
     "base_uri": "https://localhost:8080/",
     "height": 230
    },
    "executionInfo": {
     "elapsed": 315,
     "status": "ok",
     "timestamp": 1647276776747,
     "user": {
      "displayName": "Святослав Ковалев",
      "photoUrl": "https://lh3.googleusercontent.com/a-/AOh14GiEo6uPSihsjHnpbADaIWFahVInjjkZWI6g2J1WnA=s64",
      "userId": "12477434656558976325"
     },
     "user_tz": -180
    },
    "id": "fc5a56cb",
    "outputId": "a448bf32-e5f6-46f0-f331-f4de8386a9b2"
   },
   "outputs": [
    {
     "name": "stderr",
     "output_type": "stream",
     "text": [
      "/Users/svkov42/miniconda3/envs/ds/lib/python3.9/site-packages/sklearn/utils/deprecation.py:87: FutureWarning: Function get_feature_names is deprecated; get_feature_names is deprecated in 1.0 and will be removed in 1.2. Please use get_feature_names_out instead.\n",
      "  warnings.warn(msg, category=FutureWarning)\n"
     ]
    },
    {
     "data": {
      "text/html": [
       "<div>\n",
       "<style scoped>\n",
       "    .dataframe tbody tr th:only-of-type {\n",
       "        vertical-align: middle;\n",
       "    }\n",
       "\n",
       "    .dataframe tbody tr th {\n",
       "        vertical-align: top;\n",
       "    }\n",
       "\n",
       "    .dataframe thead th {\n",
       "        text-align: right;\n",
       "    }\n",
       "</style>\n",
       "<table border=\"1\" class=\"dataframe\">\n",
       "  <thead>\n",
       "    <tr style=\"text-align: right;\">\n",
       "      <th></th>\n",
       "      <th>вот</th>\n",
       "      <th>всех</th>\n",
       "      <th>второй</th>\n",
       "      <th>документ</th>\n",
       "      <th>документов</th>\n",
       "      <th>документы</th>\n",
       "      <th>кончились</th>\n",
       "      <th>первый</th>\n",
       "      <th>среди</th>\n",
       "      <th>третий</th>\n",
       "      <th>это</th>\n",
       "    </tr>\n",
       "  </thead>\n",
       "  <tbody>\n",
       "    <tr>\n",
       "      <th>Это первый документ.</th>\n",
       "      <td>0</td>\n",
       "      <td>0</td>\n",
       "      <td>0</td>\n",
       "      <td>1</td>\n",
       "      <td>0</td>\n",
       "      <td>0</td>\n",
       "      <td>0</td>\n",
       "      <td>1</td>\n",
       "      <td>0</td>\n",
       "      <td>0</td>\n",
       "      <td>1</td>\n",
       "    </tr>\n",
       "    <tr>\n",
       "      <th>Это второй документ среди всех документов.</th>\n",
       "      <td>0</td>\n",
       "      <td>1</td>\n",
       "      <td>1</td>\n",
       "      <td>1</td>\n",
       "      <td>1</td>\n",
       "      <td>0</td>\n",
       "      <td>0</td>\n",
       "      <td>0</td>\n",
       "      <td>1</td>\n",
       "      <td>0</td>\n",
       "      <td>1</td>\n",
       "    </tr>\n",
       "    <tr>\n",
       "      <th>А вот и третий.</th>\n",
       "      <td>1</td>\n",
       "      <td>0</td>\n",
       "      <td>0</td>\n",
       "      <td>0</td>\n",
       "      <td>0</td>\n",
       "      <td>0</td>\n",
       "      <td>0</td>\n",
       "      <td>0</td>\n",
       "      <td>0</td>\n",
       "      <td>1</td>\n",
       "      <td>0</td>\n",
       "    </tr>\n",
       "    <tr>\n",
       "      <th>Вот и кончились документы.</th>\n",
       "      <td>1</td>\n",
       "      <td>0</td>\n",
       "      <td>0</td>\n",
       "      <td>0</td>\n",
       "      <td>0</td>\n",
       "      <td>1</td>\n",
       "      <td>1</td>\n",
       "      <td>0</td>\n",
       "      <td>0</td>\n",
       "      <td>0</td>\n",
       "      <td>0</td>\n",
       "    </tr>\n",
       "  </tbody>\n",
       "</table>\n",
       "</div>"
      ],
      "text/plain": [
       "                                            вот  всех  второй  документ  \\\n",
       "Это первый документ.                          0     0       0         1   \n",
       "Это второй документ среди всех документов.    0     1       1         1   \n",
       "А вот и третий.                               1     0       0         0   \n",
       "Вот и кончились документы.                    1     0       0         0   \n",
       "\n",
       "                                            документов  документы  кончились  \\\n",
       "Это первый документ.                                 0          0          0   \n",
       "Это второй документ среди всех документов.           1          0          0   \n",
       "А вот и третий.                                      0          0          0   \n",
       "Вот и кончились документы.                           0          1          1   \n",
       "\n",
       "                                            первый  среди  третий  это  \n",
       "Это первый документ.                             1      0       0    1  \n",
       "Это второй документ среди всех документов.       0      1       0    1  \n",
       "А вот и третий.                                  0      0       1    0  \n",
       "Вот и кончились документы.                       0      0       0    0  "
      ]
     },
     "execution_count": 11,
     "metadata": {},
     "output_type": "execute_result"
    }
   ],
   "source": [
    "corpus = [\n",
    "    'Это первый документ.',\n",
    "    'Это второй документ среди всех документов.',\n",
    "    'А вот и третий.',\n",
    "    'Вот и кончились документы.',\n",
    "]\n",
    "\n",
    "bow = CountVectorizer()\n",
    "bow_result = bow.fit_transform(corpus).toarray()\n",
    "pd.DataFrame(bow_result, columns=bow.get_feature_names(), index=corpus)"
   ]
  },
  {
   "cell_type": "markdown",
   "id": "05dd4ede",
   "metadata": {
    "id": "05dd4ede"
   },
   "source": [
    "\"документ\", \"документов\", \"документы\" - это все об одном, но колонки получились разные. Что делать с этим?\n",
    "\n",
    "Применить стемминг!"
   ]
  },
  {
   "cell_type": "markdown",
   "id": "a9e4b6e9",
   "metadata": {
    "id": "a9e4b6e9"
   },
   "source": [
    "## Стемминг\n",
    "\n",
    "Стемминг - процесс извлечения основы слова, потому что зачастую форма слова не влияет на смысл.\n",
    "\n",
    "В классе будем использовать довольно простой стеммер Портера. На практике лучше использовать библиотеку `nltk` для русского текста."
   ]
  },
  {
   "cell_type": "code",
   "execution_count": 3,
   "id": "6231b2a1",
   "metadata": {
    "id": "6231b2a1"
   },
   "outputs": [],
   "source": [
    "# Взято отсюда: https://gist.github.com/Kein1945/9111512\n",
    "import re\n",
    "\n",
    "class Porter:\n",
    "\tPERFECTIVEGROUND =  re.compile(u\"((ив|ивши|ившись|ыв|ывши|ывшись)|((?<=[ая])(в|вши|вшись)))$\")\n",
    "\tREFLEXIVE = re.compile(u\"(с[яь])$\")\n",
    "\tADJECTIVE = re.compile(u\"(ее|ие|ые|ое|ими|ыми|ей|ий|ый|ой|ем|им|ым|ом|его|ого|ему|ому|их|ых|ую|юю|ая|яя|ою|ею)$\")\n",
    "\tPARTICIPLE = re.compile(u\"((ивш|ывш|ующ)|((?<=[ая])(ем|нн|вш|ющ|щ)))$\")\n",
    "\tVERB = re.compile(u\"((ила|ыла|ена|ейте|уйте|ите|или|ыли|ей|уй|ил|ыл|им|ым|ен|ило|ыло|ено|ят|ует|уют|ит|ыт|ены|ить|ыть|ишь|ую|ю)|((?<=[ая])(ла|на|ете|йте|ли|й|л|ем|н|ло|но|ет|ют|ны|ть|ешь|нно)))$\")\n",
    "\tNOUN = re.compile(u\"(а|ев|ов|ие|ье|е|иями|ями|ами|еи|ии|и|ией|ей|ой|ий|й|иям|ям|ием|ем|ам|ом|о|у|ах|иях|ях|ы|ь|ию|ью|ю|ия|ья|я)$\")\n",
    "\tRVRE = re.compile(u\"^(.*?[аеиоуыэюя])(.*)$\")\n",
    "\tDERIVATIONAL = re.compile(u\".*[^аеиоуыэюя]+[аеиоуыэюя].*ость?$\")\n",
    "\tDER = re.compile(u\"ость?$\")\n",
    "\tSUPERLATIVE = re.compile(u\"(ейше|ейш)$\")\n",
    "\tI = re.compile(u\"и$\")\n",
    "\tP = re.compile(u\"ь$\")\n",
    "\tNN = re.compile(u\"нн$\")\n",
    "\n",
    "\tdef stem(word):\n",
    "\t\tword = word.lower()\n",
    "\t\tword = word.replace(u'ё', u'е')\n",
    "\t\tm = re.match(Porter.RVRE, word)\n",
    "\t\tif m and m.groups():\n",
    "\t\t\tpre = m.group(1)\n",
    "\t\t\trv = m.group(2)\n",
    "\t\t\ttemp = Porter.PERFECTIVEGROUND.sub('', rv, 1)\n",
    "\t\t\tif temp == rv:\n",
    "\t\t\t\trv = Porter.REFLEXIVE.sub('', rv, 1)\n",
    "\t\t\t\ttemp = Porter.ADJECTIVE.sub('', rv, 1)\n",
    "\t\t\t\tif temp != rv:\n",
    "\t\t\t\t\trv = temp\n",
    "\t\t\t\t\trv = Porter.PARTICIPLE.sub('', rv, 1)\n",
    "\t\t\t\telse:\n",
    "\t\t\t\t\ttemp = Porter.VERB.sub('', rv, 1)\n",
    "\t\t\t\t\tif temp == rv:\n",
    "\t\t\t\t\t\trv = Porter.NOUN.sub('', rv, 1)\n",
    "\t\t\t\t\telse:\n",
    "\t\t\t\t\t\trv = temp\n",
    "\t\t\telse:\n",
    "\t\t\t\trv = temp\n",
    "\t\t\t\n",
    "\t\t\trv = Porter.I.sub('', rv, 1)\n",
    "\n",
    "\t\t\tif re.match(Porter.DERIVATIONAL, rv):\n",
    "\t\t\t\trv = Porter.DER.sub('', rv, 1)\n",
    "\n",
    "\t\t\ttemp = Porter.P.sub('', rv, 1)\n",
    "\t\t\tif temp == rv:\n",
    "\t\t\t\trv = Porter.SUPERLATIVE.sub('', rv, 1)\n",
    "\t\t\t\trv = Porter.NN.sub(u'н', rv, 1)\n",
    "\t\t\telse:\n",
    "\t\t\t\trv = temp\n",
    "\t\t\tword = pre+rv\n",
    "\t\treturn word\n",
    "\tstem=staticmethod(stem)\n"
   ]
  },
  {
   "cell_type": "code",
   "execution_count": 4,
   "id": "fe292464",
   "metadata": {
    "colab": {
     "base_uri": "https://localhost:8080/"
    },
    "executionInfo": {
     "elapsed": 251,
     "status": "ok",
     "timestamp": 1647276543776,
     "user": {
      "displayName": "Святослав Ковалев",
      "photoUrl": "https://lh3.googleusercontent.com/a-/AOh14GiEo6uPSihsjHnpbADaIWFahVInjjkZWI6g2J1WnA=s64",
      "userId": "12477434656558976325"
     },
     "user_tz": -180
    },
    "id": "fe292464",
    "outputId": "c90404f0-3260-467a-a5dd-9c1aaa46f5e8"
   },
   "outputs": [
    {
     "data": {
      "text/plain": [
       "('документ', 'документ', 'документ')"
      ]
     },
     "execution_count": 4,
     "metadata": {},
     "output_type": "execute_result"
    }
   ],
   "source": [
    "Porter.stem('документа'), Porter.stem('документы'), Porter.stem('документов')"
   ]
  },
  {
   "cell_type": "code",
   "execution_count": null,
   "id": "cedcb919",
   "metadata": {
    "id": "cedcb919"
   },
   "outputs": [],
   "source": [
    "def preprocess_word(word):\n",
    "    return Porter.stem(word.replace('.', ''))"
   ]
  },
  {
   "cell_type": "code",
   "execution_count": 29,
   "id": "efe0c333-e8e2-4468-a20d-d001f1f0fbcb",
   "metadata": {},
   "outputs": [
    {
     "name": "stdout",
     "output_type": "stream",
     "text": [
      "Collecting nltk\n",
      "  Downloading nltk-3.8.1-py3-none-any.whl.metadata (2.8 kB)\n",
      "Collecting click (from nltk)\n",
      "  Downloading click-8.1.7-py3-none-any.whl.metadata (3.0 kB)\n",
      "Requirement already satisfied: joblib in /Users/svkov42/miniconda3/envs/ds/lib/python3.9/site-packages (from nltk) (1.2.0)\n",
      "Collecting regex>=2021.8.3 (from nltk)\n",
      "  Downloading regex-2023.12.25-cp39-cp39-macosx_11_0_arm64.whl.metadata (40 kB)\n",
      "\u001b[2K     \u001b[90m━━━━━━━━━━━━━━━━━━━━━━━━━━━━━━━━━━━━━━━\u001b[0m \u001b[32m40.9/40.9 kB\u001b[0m \u001b[31m667.5 kB/s\u001b[0m eta \u001b[36m0:00:00\u001b[0ma \u001b[36m0:00:01\u001b[0m\n",
      "\u001b[?25hRequirement already satisfied: tqdm in /Users/svkov42/miniconda3/envs/ds/lib/python3.9/site-packages (from nltk) (4.66.1)\n",
      "Downloading nltk-3.8.1-py3-none-any.whl (1.5 MB)\n",
      "\u001b[2K   \u001b[90m━━━━━━━━━━━━━━━━━━━━━━━━━━━━━━━━━━━━━━━━\u001b[0m \u001b[32m1.5/1.5 MB\u001b[0m \u001b[31m1.0 MB/s\u001b[0m eta \u001b[36m0:00:00\u001b[0m00:01\u001b[0m00:01\u001b[0m0m\n",
      "\u001b[?25hDownloading regex-2023.12.25-cp39-cp39-macosx_11_0_arm64.whl (291 kB)\n",
      "\u001b[2K   \u001b[90m━━━━━━━━━━━━━━━━━━━━━━━━━━━━━━━━━━━━━━━━\u001b[0m \u001b[32m291.0/291.0 kB\u001b[0m \u001b[31m1.7 MB/s\u001b[0m eta \u001b[36m0:00:00\u001b[0m00:01\u001b[0m00:01\u001b[0m\n",
      "\u001b[?25hDownloading click-8.1.7-py3-none-any.whl (97 kB)\n",
      "\u001b[2K   \u001b[90m━━━━━━━━━━━━━━━━━━━━━━━━━━━━━━━━━━━━━━━━\u001b[0m \u001b[32m97.9/97.9 kB\u001b[0m \u001b[31m1.9 MB/s\u001b[0m eta \u001b[36m0:00:00\u001b[0ma \u001b[36m0:00:01\u001b[0m\n",
      "\u001b[?25hInstalling collected packages: regex, click, nltk\n",
      "Successfully installed click-8.1.7 nltk-3.8.1 regex-2023.12.25\n"
     ]
    }
   ],
   "source": [
    "! pip install nltk"
   ]
  },
  {
   "cell_type": "markdown",
   "id": "db3d3270-e162-439f-aa08-2480729edd65",
   "metadata": {},
   "source": [
    "# Пример с nltk\n",
    "\n",
    "https://www.nltk.org/howto/stem.html"
   ]
  },
  {
   "cell_type": "code",
   "execution_count": 30,
   "id": "c60428a3-b774-4699-8174-2cdfab47bf7c",
   "metadata": {},
   "outputs": [],
   "source": [
    "from nltk.stem.porter import *"
   ]
  },
  {
   "cell_type": "code",
   "execution_count": 31,
   "id": "aa7b0556-4da8-4301-ab31-f443326af70a",
   "metadata": {},
   "outputs": [],
   "source": [
    "stemmer = PorterStemmer()"
   ]
  },
  {
   "cell_type": "code",
   "execution_count": 32,
   "id": "8673ea4d-e856-48c6-b322-f5a565236497",
   "metadata": {},
   "outputs": [],
   "source": [
    "plurals = ['caresses', 'flies', 'dies', 'mules', 'denied', \n",
    "           'died', 'agreed', 'owned', 'humbled', 'sized',\n",
    "           'meeting', 'stating', 'siezing', 'itemization',\n",
    "           'sensational', 'traditional', 'reference', 'colonizer',\n",
    "           'plotted']"
   ]
  },
  {
   "cell_type": "code",
   "execution_count": 33,
   "id": "5b531754-3ebe-4e3f-81aa-36ad130b65be",
   "metadata": {},
   "outputs": [],
   "source": [
    "singles = [stemmer.stem(plural) for plural in plurals]"
   ]
  },
  {
   "cell_type": "markdown",
   "id": "8515cea8",
   "metadata": {
    "id": "8515cea8"
   },
   "source": [
    "# Задача\n",
    "\n",
    "Написать функцию для обработки предложения при помощи стемминга для английского языка"
   ]
  },
  {
   "cell_type": "code",
   "execution_count": 7,
   "id": "cd7a99b9-7294-43f4-b55c-53a216ef3c9d",
   "metadata": {},
   "outputs": [],
   "source": [
    "def preprocess_sentence(text):\n",
    "    # Ваш код здесь\n",
    "    pass"
   ]
  },
  {
   "cell_type": "markdown",
   "id": "6b03cb72",
   "metadata": {
    "id": "6b03cb72"
   },
   "source": [
    "## Попробуем взять документ побольше"
   ]
  },
  {
   "cell_type": "code",
   "execution_count": 26,
   "id": "1d6ee2c9",
   "metadata": {
    "colab": {
     "base_uri": "https://localhost:8080/",
     "height": 206
    },
    "executionInfo": {
     "elapsed": 1219,
     "status": "ok",
     "timestamp": 1647277076038,
     "user": {
      "displayName": "Святослав Ковалев",
      "photoUrl": "https://lh3.googleusercontent.com/a-/AOh14GiEo6uPSihsjHnpbADaIWFahVInjjkZWI6g2J1WnA=s64",
      "userId": "12477434656558976325"
     },
     "user_tz": -180
    },
    "id": "1d6ee2c9",
    "outputId": "847b171d-5ab7-4904-f795-3b9d32efa65b"
   },
   "outputs": [
    {
     "data": {
      "text/html": [
       "<div>\n",
       "<style scoped>\n",
       "    .dataframe tbody tr th:only-of-type {\n",
       "        vertical-align: middle;\n",
       "    }\n",
       "\n",
       "    .dataframe tbody tr th {\n",
       "        vertical-align: top;\n",
       "    }\n",
       "\n",
       "    .dataframe thead th {\n",
       "        text-align: right;\n",
       "    }\n",
       "</style>\n",
       "<table border=\"1\" class=\"dataframe\">\n",
       "  <thead>\n",
       "    <tr style=\"text-align: right;\">\n",
       "      <th></th>\n",
       "      <th>text</th>\n",
       "      <th>target</th>\n",
       "    </tr>\n",
       "  </thead>\n",
       "  <tbody>\n",
       "    <tr>\n",
       "      <th>0</th>\n",
       "      <td>Go until jurong point, crazy.. Available only ...</td>\n",
       "      <td>ham</td>\n",
       "    </tr>\n",
       "    <tr>\n",
       "      <th>1</th>\n",
       "      <td>Ok lar... Joking wif u oni...</td>\n",
       "      <td>ham</td>\n",
       "    </tr>\n",
       "    <tr>\n",
       "      <th>2</th>\n",
       "      <td>Free entry in 2 a wkly comp to win FA Cup fina...</td>\n",
       "      <td>spam</td>\n",
       "    </tr>\n",
       "    <tr>\n",
       "      <th>3</th>\n",
       "      <td>U dun say so early hor... U c already then say...</td>\n",
       "      <td>ham</td>\n",
       "    </tr>\n",
       "    <tr>\n",
       "      <th>4</th>\n",
       "      <td>Nah I don't think he goes to usf, he lives aro...</td>\n",
       "      <td>ham</td>\n",
       "    </tr>\n",
       "    <tr>\n",
       "      <th>...</th>\n",
       "      <td>...</td>\n",
       "      <td>...</td>\n",
       "    </tr>\n",
       "    <tr>\n",
       "      <th>5567</th>\n",
       "      <td>This is the 2nd time we have tried 2 contact u...</td>\n",
       "      <td>spam</td>\n",
       "    </tr>\n",
       "    <tr>\n",
       "      <th>5568</th>\n",
       "      <td>Will ? b going to esplanade fr home?</td>\n",
       "      <td>ham</td>\n",
       "    </tr>\n",
       "    <tr>\n",
       "      <th>5569</th>\n",
       "      <td>Pity, * was in mood for that. So...any other s...</td>\n",
       "      <td>ham</td>\n",
       "    </tr>\n",
       "    <tr>\n",
       "      <th>5570</th>\n",
       "      <td>The guy did some bitching but I acted like i'd...</td>\n",
       "      <td>ham</td>\n",
       "    </tr>\n",
       "    <tr>\n",
       "      <th>5571</th>\n",
       "      <td>Rofl. Its true to its name</td>\n",
       "      <td>ham</td>\n",
       "    </tr>\n",
       "  </tbody>\n",
       "</table>\n",
       "<p>5572 rows × 2 columns</p>\n",
       "</div>"
      ],
      "text/plain": [
       "                                                   text target\n",
       "0     Go until jurong point, crazy.. Available only ...    ham\n",
       "1                         Ok lar... Joking wif u oni...    ham\n",
       "2     Free entry in 2 a wkly comp to win FA Cup fina...   spam\n",
       "3     U dun say so early hor... U c already then say...    ham\n",
       "4     Nah I don't think he goes to usf, he lives aro...    ham\n",
       "...                                                 ...    ...\n",
       "5567  This is the 2nd time we have tried 2 contact u...   spam\n",
       "5568               Will ? b going to esplanade fr home?    ham\n",
       "5569  Pity, * was in mood for that. So...any other s...    ham\n",
       "5570  The guy did some bitching but I acted like i'd...    ham\n",
       "5571                         Rofl. Its true to its name    ham\n",
       "\n",
       "[5572 rows x 2 columns]"
      ]
     },
     "execution_count": 26,
     "metadata": {},
     "output_type": "execute_result"
    }
   ],
   "source": [
    "df = pd.read_csv('../data/spam.csv')\n",
    "df"
   ]
  },
  {
   "cell_type": "markdown",
   "id": "924ee870-d81d-4962-b8da-9d8531cfb553",
   "metadata": {},
   "source": [
    "Посмотрим на сбалансированность классов"
   ]
  },
  {
   "cell_type": "code",
   "execution_count": 28,
   "id": "044ed1ea",
   "metadata": {
    "colab": {
     "base_uri": "https://localhost:8080/",
     "height": 282
    },
    "executionInfo": {
     "elapsed": 1242,
     "status": "ok",
     "timestamp": 1647277129876,
     "user": {
      "displayName": "Святослав Ковалев",
      "photoUrl": "https://lh3.googleusercontent.com/a-/AOh14GiEo6uPSihsjHnpbADaIWFahVInjjkZWI6g2J1WnA=s64",
      "userId": "12477434656558976325"
     },
     "user_tz": -180
    },
    "id": "044ed1ea",
    "outputId": "47c7d369-6adc-45aa-a2f7-49584da7c817"
   },
   "outputs": [
    {
     "data": {
      "text/plain": [
       "<AxesSubplot:>"
      ]
     },
     "execution_count": 28,
     "metadata": {},
     "output_type": "execute_result"
    },
    {
     "data": {
      "image/png": "[encoded data removed]",
      "text/plain": [
       "<Figure size 640x480 with 1 Axes>"
      ]
     },
     "metadata": {},
     "output_type": "display_data"
    }
   ],
   "source": [
    "df['target'].hist()"
   ]
  },
  {
   "cell_type": "markdown",
   "id": "5fa99071",
   "metadata": {
    "id": "5fa99071"
   },
   "source": [
    "## Задача\n",
    "\n",
    "Применить стемминг к тексту и добавить колонку `text_stemmed`"
   ]
  },
  {
   "cell_type": "code",
   "execution_count": null,
   "id": "oLnLmGpVZrVb",
   "metadata": {
    "id": "oLnLmGpVZrVb"
   },
   "outputs": [],
   "source": []
  },
  {
   "cell_type": "markdown",
   "id": "c12b174a",
   "metadata": {
    "id": "c12b174a"
   },
   "source": [
    "## Задача\n",
    "\n",
    "Выбрать метрику и модель, векторизовать текст и научиться искать спам"
   ]
  },
  {
   "cell_type": "code",
   "execution_count": null,
   "id": "d67c2187-6da5-4cc6-a565-8c0318a26a38",
   "metadata": {},
   "outputs": [],
   "source": []
  },
  {
   "cell_type": "markdown",
   "id": "6648508d",
   "metadata": {
    "id": "6648508d"
   },
   "source": [
    "## TF-IDF\n",
    "\n",
    "BOW - очень простой алгоритм, но даже он дает неплохой результат. Попробуем его улучшить. \n",
    "\n",
    "`TF-IDF` - формула, состоящая из двух частей **Term frequency - Inverse Document Frequency**\n",
    "\n",
    "`TF` - какой процент указанного слова по отношению ко всем словам в документе\n",
    "\n",
    "`IDF` - количество документов делим на количество документов, в которые входит данное слово\n",
    "\n",
    "`TF-IDF` = `TF` * `IDF`\n",
    "\n",
    "Класс `TfidfVectorizer` имеет такие же методы, как и `CountVectorizer`."
   ]
  },
  {
   "cell_type": "code",
   "execution_count": null,
   "id": "23c175c4",
   "metadata": {
    "id": "23c175c4"
   },
   "outputs": [],
   "source": [
    "from sklearn.feature_extraction.text import TfidfVectorizer"
   ]
  },
  {
   "cell_type": "markdown",
   "id": "6d688eec",
   "metadata": {
    "id": "6d688eec"
   },
   "source": [
    "## Задача \n",
    "\n",
    "Применить TF-IDF к тому же датасету, сравнить качество с BOW"
   ]
  },
  {
   "cell_type": "code",
   "execution_count": null,
   "id": "403afc2d",
   "metadata": {
    "id": "403afc2d"
   },
   "outputs": [],
   "source": [
    "# Ваш код здесь\n"
   ]
  },
  {
   "cell_type": "markdown",
   "id": "b1b4eddc",
   "metadata": {
    "id": "b1b4eddc",
    "tags": []
   },
   "source": [
    "## Пайплайны\n",
    "\n",
    "Можно использовать сложные преобразования и легко сравнивать качество моделей, а также подбирать гиперпараметры, используя пайплайны"
   ]
  },
  {
   "cell_type": "code",
   "execution_count": null,
   "id": "4b1efeb9",
   "metadata": {
    "id": "4b1efeb9"
   },
   "outputs": [],
   "source": [
    "from sklearn.pipeline import Pipeline\n",
    "from sklearn.feature_extraction.text import CountVectorizer\n",
    "from sklearn.feature_extraction.text import TfidfTransformer"
   ]
  },
  {
   "cell_type": "code",
   "execution_count": null,
   "id": "2b32d211",
   "metadata": {
    "id": "2b32d211"
   },
   "outputs": [],
   "source": [
    "pipeline = Pipeline(\n",
    "    [\n",
    "        (\"vect\", CountVectorizer()),\n",
    "        (\"tfidf\", TfidfTransformer()),\n",
    "        (\"clf\", LogisticRegression()),\n",
    "    ]\n",
    ")"
   ]
  },
  {
   "cell_type": "markdown",
   "id": "b1100121",
   "metadata": {
    "id": "b1100121"
   },
   "source": [
    "Подробнее можно посмотреть [тут](https://www.kaggle.com/sermakarevich/sklearn-pipelines-tutorial)\n",
    "\n",
    "Мы вернемся к пайплайнам через несколько занятий и рассмотрим инструменты, которые дают большую гибкость, чем sklearn"
   ]
  },
  {
   "cell_type": "markdown",
   "id": "bc1ca768",
   "metadata": {
    "id": "bc1ca768"
   },
   "source": [
    "## Задача\n",
    "\n",
    "Попробовать случайный лес для классификации документов. Использовать пайплайны для решения.\n",
    "\n",
    "Выборку необходимо как и раньше делить на треин и тест."
   ]
  },
  {
   "cell_type": "code",
   "execution_count": null,
   "id": "557b6ef7",
   "metadata": {
    "id": "557b6ef7"
   },
   "outputs": [],
   "source": [
    "# Ваш код здесь\n"
   ]
  },
  {
   "cell_type": "markdown",
   "id": "7abc45bb",
   "metadata": {
    "id": "7abc45bb"
   },
   "source": [
    "## Лемматизаторы\n",
    "\n",
    "Лемматизация - поиск начальной формы слова.\n",
    "\n",
    "Используя лемматизаторы можно более точно различать слова, но работают они медленнее, чем стемммеры"
   ]
  },
  {
   "cell_type": "code",
   "execution_count": null,
   "id": "d39ef4fb",
   "metadata": {
    "colab": {
     "base_uri": "https://localhost:8080/"
    },
    "executionInfo": {
     "elapsed": 5973,
     "status": "ok",
     "timestamp": 1647283135929,
     "user": {
      "displayName": "Святослав Ковалев",
      "photoUrl": "https://lh3.googleusercontent.com/a-/AOh14GiEo6uPSihsjHnpbADaIWFahVInjjkZWI6g2J1WnA=s64",
      "userId": "12477434656558976325"
     },
     "user_tz": -180
    },
    "id": "d39ef4fb",
    "outputId": "83e897a5-a9fa-449c-c014-6e1ffdaa8ced"
   },
   "outputs": [
    {
     "name": "stdout",
     "output_type": "stream",
     "text": [
      "Collecting pymorphy2\n",
      "  Downloading pymorphy2-0.9.1-py3-none-any.whl (55 kB)\n",
      "\u001b[K     |████████████████████████████████| 55 kB 2.4 MB/s eta 0:00:011\n",
      "\u001b[?25hCollecting dawg-python>=0.7.1\n",
      "  Downloading DAWG_Python-0.7.2-py2.py3-none-any.whl (11 kB)\n",
      "Requirement already satisfied: docopt>=0.6 in /usr/local/lib/python3.7/dist-packages (from pymorphy2) (0.6.2)\n",
      "Collecting pymorphy2-dicts-ru<3.0,>=2.4\n",
      "  Downloading pymorphy2_dicts_ru-2.4.417127.4579844-py2.py3-none-any.whl (8.2 MB)\n",
      "\u001b[K     |████████████████████████████████| 8.2 MB 27.3 MB/s \n",
      "\u001b[?25hInstalling collected packages: pymorphy2-dicts-ru, dawg-python, pymorphy2\n",
      "Successfully installed dawg-python-0.7.2 pymorphy2-0.9.1 pymorphy2-dicts-ru-2.4.417127.4579844\n"
     ]
    }
   ],
   "source": [
    "! pip install pymorphy2"
   ]
  },
  {
   "cell_type": "code",
   "execution_count": 47,
   "id": "3a560944-c301-44c6-b760-bf730a469fe4",
   "metadata": {
    "tags": []
   },
   "outputs": [
    {
     "data": {
      "text/html": [
       "<div>\n",
       "<style scoped>\n",
       "    .dataframe tbody tr th:only-of-type {\n",
       "        vertical-align: middle;\n",
       "    }\n",
       "\n",
       "    .dataframe tbody tr th {\n",
       "        vertical-align: top;\n",
       "    }\n",
       "\n",
       "    .dataframe thead th {\n",
       "        text-align: right;\n",
       "    }\n",
       "</style>\n",
       "<table border=\"1\" class=\"dataframe\">\n",
       "  <thead>\n",
       "    <tr style=\"text-align: right;\">\n",
       "      <th></th>\n",
       "      <th>original data</th>\n",
       "      <th>score</th>\n",
       "    </tr>\n",
       "  </thead>\n",
       "  <tbody>\n",
       "    <tr>\n",
       "      <th>0</th>\n",
       "      <td>Не рациональная системность, а интуитивный поз...</td>\n",
       "      <td>0</td>\n",
       "    </tr>\n",
       "    <tr>\n",
       "      <th>1</th>\n",
       "      <td>Когда возникнут трудности, они тебе не помогут...</td>\n",
       "      <td>0</td>\n",
       "    </tr>\n",
       "    <tr>\n",
       "      <th>2</th>\n",
       "      <td>Кривая национализация это политический компром...</td>\n",
       "      <td>-1</td>\n",
       "    </tr>\n",
       "    <tr>\n",
       "      <th>3</th>\n",
       "      <td>Такой вид биологического оружия не действует н...</td>\n",
       "      <td>-2</td>\n",
       "    </tr>\n",
       "    <tr>\n",
       "      <th>4</th>\n",
       "      <td>В Эль-Кусейре /к западу от Хомса/ сирийские по...</td>\n",
       "      <td>0</td>\n",
       "    </tr>\n",
       "  </tbody>\n",
       "</table>\n",
       "</div>"
      ],
      "text/plain": [
       "                                       original data  score\n",
       "0  Не рациональная системность, а интуитивный поз...      0\n",
       "1  Когда возникнут трудности, они тебе не помогут...      0\n",
       "2  Кривая национализация это политический компром...     -1\n",
       "3  Такой вид биологического оружия не действует н...     -2\n",
       "4  В Эль-Кусейре /к западу от Хомса/ сирийские по...      0"
      ]
     },
     "execution_count": 47,
     "metadata": {},
     "output_type": "execute_result"
    }
   ],
   "source": [
    "df = pd.read_csv('../data/rus_doc_sentiment.csv')\n",
    "df.head()"
   ]
  },
  {
   "cell_type": "code",
   "execution_count": null,
   "id": "5f88205b",
   "metadata": {
    "colab": {
     "base_uri": "https://localhost:8080/",
     "height": 35
    },
    "executionInfo": {
     "elapsed": 661,
     "status": "ok",
     "timestamp": 1647283165831,
     "user": {
      "displayName": "Святослав Ковалев",
      "photoUrl": "https://lh3.googleusercontent.com/a-/AOh14GiEo6uPSihsjHnpbADaIWFahVInjjkZWI6g2J1WnA=s64",
      "userId": "12477434656558976325"
     },
     "user_tz": -180
    },
    "id": "5f88205b",
    "outputId": "184ea276-bdca-48f3-b99a-360f2b8822c5"
   },
   "outputs": [
    {
     "data": {
      "application/vnd.google.colaboratory.intrinsic+json": {
       "type": "string"
      },
      "text/plain": [
       "'ребёнок'"
      ]
     },
     "execution_count": 94,
     "metadata": {},
     "output_type": "execute_result"
    }
   ],
   "source": [
    "import pymorphy2\n",
    "\n",
    "morph = pymorphy2.MorphAnalyzer()\n",
    "\n",
    "morph_res = morph.parse('дети')\n",
    "morph_res[0].normal_form\n"
   ]
  },
  {
   "cell_type": "code",
   "execution_count": null,
   "id": "gxGgv2gkurLm",
   "metadata": {
    "colab": {
     "base_uri": "https://localhost:8080/",
     "height": 35
    },
    "executionInfo": {
     "elapsed": 367,
     "status": "ok",
     "timestamp": 1647283527113,
     "user": {
      "displayName": "Святослав Ковалев",
      "photoUrl": "https://lh3.googleusercontent.com/a-/AOh14GiEo6uPSihsjHnpbADaIWFahVInjjkZWI6g2J1WnA=s64",
      "userId": "12477434656558976325"
     },
     "user_tz": -180
    },
    "id": "gxGgv2gkurLm",
    "outputId": "c6f71d36-90a8-41a8-9b5b-8b56ff49431f"
   },
   "outputs": [
    {
     "data": {
      "application/vnd.google.colaboratory.intrinsic+json": {
       "type": "string"
      },
      "text/plain": [
       "'ребёнок'"
      ]
     },
     "execution_count": 100,
     "metadata": {},
     "output_type": "execute_result"
    }
   ],
   "source": [
    "morph.parse('дети')[0].normal_form"
   ]
  },
  {
   "cell_type": "markdown",
   "id": "02a6fb31",
   "metadata": {
    "id": "02a6fb31"
   },
   "source": [
    "## Задача\n",
    "\n",
    "Применить лемматизацию перед TF-IDF. Решить задачу классификации. Сравнить результат со стеммингом."
   ]
  },
  {
   "cell_type": "code",
   "execution_count": 35,
   "id": "5f36aaef-b3e2-4fc7-9546-8076847903f5",
   "metadata": {},
   "outputs": [],
   "source": [
    "# Ваш код здесь"
   ]
  },
  {
   "cell_type": "markdown",
   "id": "5f17ae74",
   "metadata": {
    "id": "5f17ae74"
   },
   "source": [
    "## Word2Vec\n",
    "\n",
    "Все предыдущие методы позволяли посмотреть частоту вхождения слова, но при этом не учитывали смысл слова и похожесть слов.\n",
    "\n",
    "Метод word2vec пытается понять смысл слов.\n",
    "\n",
    "![](../images/word2vec.png)"
   ]
  },
  {
   "cell_type": "code",
   "execution_count": null,
   "id": "ee61b51f",
   "metadata": {
    "id": "ee61b51f"
   },
   "outputs": [],
   "source": [
    "def process_sentences(df):\n",
    "    \"\"\"\n",
    "    Разбиваем на слова, убираем пунктуацию и применяем стемминг\n",
    "    \"\"\"\n",
    "    processed_texts = []\n",
    "    for i, text in enumerate(df['text']):\n",
    "        if i % 500 == 0:\n",
    "            print(i) # Отмечаем прогресс\n",
    "        text = text.lower()\n",
    "        words = re.findall(r'\\b\\w+\\b', text) # Убираем пунктуацию, разбиваем на слова\n",
    "        tokens = [Porter.stem(word) for word in words] # Применяем стемминг\n",
    "        processed_texts.append(tokens)\n",
    "    return processed_texts"
   ]
  },
  {
   "cell_type": "code",
   "execution_count": null,
   "id": "2948b0f4",
   "metadata": {
    "id": "2948b0f4",
    "outputId": "fecc208c-5819-42eb-96ee-ad18235c26ec"
   },
   "outputs": [
    {
     "name": "stdout",
     "output_type": "stream",
     "text": [
      "0\n",
      "500\n",
      "1000\n",
      "1500\n",
      "2000\n",
      "2500\n",
      "3000\n",
      "3500\n",
      "4000\n",
      "4500\n",
      "5000\n",
      "5500\n",
      "6000\n",
      "6500\n",
      "7000\n",
      "7500\n",
      "8000\n",
      "8500\n",
      "9000\n",
      "9500\n"
     ]
    }
   ],
   "source": [
    "processed_texts = process_sentences(df)"
   ]
  },
  {
   "cell_type": "code",
   "execution_count": null,
   "id": "0b0b8e71",
   "metadata": {
    "id": "0b0b8e71"
   },
   "outputs": [],
   "source": [
    "from gensim.models import Word2Vec\n",
    "\n",
    "model = Word2Vec(sentences=processed_texts)"
   ]
  },
  {
   "cell_type": "code",
   "execution_count": null,
   "id": "ab8cdac2",
   "metadata": {
    "id": "ab8cdac2",
    "outputId": "27add9fa-83d3-45f2-a0f1-b12c98477060"
   },
   "outputs": [
    {
     "data": {
      "text/plain": [
       "(49300205, 58933440)"
      ]
     },
     "execution_count": 22,
     "metadata": {},
     "output_type": "execute_result"
    }
   ],
   "source": [
    "model.train(processed_texts, total_examples=len(processed_texts), epochs=30)"
   ]
  },
  {
   "cell_type": "code",
   "execution_count": null,
   "id": "b9287819",
   "metadata": {
    "id": "b9287819",
    "outputId": "7fb22833-bb23-4758-8043-620113ba3635"
   },
   "outputs": [
    {
     "data": {
      "text/plain": [
       "[('полиц', 0.8942763209342957),\n",
       " ('полицейск', 0.8309827446937561),\n",
       " ('мужчин', 0.8248519897460938),\n",
       " ('милиц', 0.7188462018966675),\n",
       " ('пенсионерк', 0.699247419834137),\n",
       " ('преступник', 0.691802442073822),\n",
       " ('охранник', 0.6899130344390869),\n",
       " ('спасател', 0.6889834403991699),\n",
       " ('грабител', 0.6472103595733643),\n",
       " ('злоумышленник', 0.631364107131958)]"
      ]
     },
     "execution_count": 24,
     "metadata": {},
     "output_type": "execute_result"
    }
   ],
   "source": [
    "def get_v(word):\n",
    "    return model.wv[Porter.stem(word)]\n",
    "\n",
    "model.wv.similar_by_vector(get_v('полиция') + get_v('мужчина'))"
   ]
  },
  {
   "cell_type": "markdown",
   "id": "2c7ae818",
   "metadata": {
    "id": "2c7ae818"
   },
   "source": [
    "## Задача\n",
    "\n",
    "Используя word2vec классифицировать тексты\n",
    "\n",
    "Алгоритм:\n",
    "\n",
    "- разделить на треин и тест выборки\n",
    "- обучить word2vec на треин выборке\n",
    "- написать функцию для составления вектора по документу (для этого нужно посчитать среднее векторов всех слов)\n",
    "- обучить модель, оценить результаты\n",
    "\n",
    "Для начала лучше взять небольшую выборку, чтобы проще было писать код (например, 2000 в треин и 5 примеров в тест). \n",
    "\n",
    "Когда убедились, что все работает, брать весь датасет.\n",
    "\n",
    "Функции, которые могут помочь и подсказки:\n",
    "\n",
    "- `model.wv.key_to_index` - словарь токен->номер токена. Можно взять список всех слов отсюда.\n",
    "- `model.wv[word]` - получаем вектор по слову. Не забываем применить предобработку!\n",
    "- может случиться так, что word2vec не будет знать какого-то слова из обучающей выборки. Тогда этому слову присваиваем нулевой вектор."
   ]
  },
  {
   "cell_type": "code",
   "execution_count": null,
   "id": "2d501a5d",
   "metadata": {
    "id": "2d501a5d"
   },
   "outputs": [],
   "source": []
  },
  {
   "cell_type": "markdown",
   "id": "0398f692",
   "metadata": {
    "id": "0398f692"
   },
   "source": [
    "# Домашняя работа\n",
    "\n",
    "Работаем с отзывами на авиа-компанию:\n",
    "\n",
    "https://www.kaggle.com/datasets/kanchana1990/singapore-airlines-reviews/data\n",
    "\n",
    "\n",
    "## Easy\n",
    "\n",
    "Выбрать метрику.\n",
    "\n",
    "Удалить пунктуацию из датасета.\n",
    "\n",
    "Преобразовать датасет в BOW или TF-IDF, поделить на треин-тест и спрогнозировать вашей любимой моделью\n",
    "\n",
    "## Normal\n",
    "\n",
    "Удалить стоп-слова, применить стемминг/лемматизацию. Обучить несколько моделей, подобрать параметры, сделать выводы.\n",
    "\n",
    "Написать самостоятельно два отзыва - один положительный, один негативный, посмотреть, угадает ли модель.\n",
    "\n",
    "## Hard\n",
    "\n",
    "Исследовать какие слова полученный алгоритм воспринимает как резко-негативные и резко-позитивные. Научиться систематически обманывать классификатор. Написать 5 положительных и 5 негативных отзывов, где модель будет ошибаться. Важен алгоритм по которому вы составляете эти отзывы, а не сами отзывы."
   ]
  },
  {
   "cell_type": "code",
   "execution_count": null,
   "id": "2a0dd5b0-8f94-4e0a-961f-091f93bd132f",
   "metadata": {},
   "outputs": [],
   "source": []
  }
 ],
 "metadata": {
  "colab": {
   "name": "10-natural-language-processing.ipynb",
   "provenance": []
  },
  "kernelspec": {
   "display_name": "Python 3 (ipykernel)",
   "language": "python",
   "name": "python3"
  },
  "language_info": {
   "codemirror_mode": {
    "name": "ipython",
    "version": 3
   },
   "file_extension": ".py",
   "mimetype": "text/x-python",
   "name": "python",
   "nbconvert_exporter": "python",
   "pygments_lexer": "ipython3",
   "version": "3.9.19"
  }
 },
 "nbformat": 4,
 "nbformat_minor": 5
}
