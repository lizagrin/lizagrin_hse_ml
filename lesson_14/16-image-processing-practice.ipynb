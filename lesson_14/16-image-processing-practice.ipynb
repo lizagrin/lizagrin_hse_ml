{
 "cells": [
  {
   "cell_type": "code",
   "execution_count": 1,
   "metadata": {
    "id": "K12MPvLBJnBH"
   },
   "outputs": [],
   "source": [
    "import pandas as pd\n",
    "import numpy as np\n",
    "import matplotlib.pyplot as plt\n",
    "import tensorflow as tf\n",
    "\n",
    "from tensorflow.keras import Sequential\n",
    "from tensorflow.keras.layers import Dense, Dropout\n",
    "from tensorflow.keras.metrics import categorical_crossentropy, categorical_accuracy\n",
    "from tensorflow.keras.optimizers import SGD\n",
    "from tensorflow.keras.utils import to_categorical\n",
    "\n",
    "from sklearn.model_selection import train_test_split"
   ]
  },
  {
   "cell_type": "code",
   "execution_count": 2,
   "metadata": {
    "colab": {
     "base_uri": "https://localhost:8080/"
    },
    "id": "lCkNgTYrTef9",
    "outputId": "9e8b9157-2dfe-45a2-b959-00c830344e3d"
   },
   "outputs": [
    {
     "data": {
      "text/plain": [
       "[]"
      ]
     },
     "execution_count": 2,
     "metadata": {},
     "output_type": "execute_result"
    }
   ],
   "source": [
    "tf.config.list_physical_devices('GPU')"
   ]
  },
  {
   "cell_type": "markdown",
   "metadata": {
    "id": "kZWr6h_PGLhT"
   },
   "source": [
    "# Нейронные сети\n",
    "\n",
    "Нейронные сети - очень широкая тема. Мы на практике попробуем посмотреть самые простые примеры и сравним их с классическими методами, которые изучали раньше.\n",
    "\n",
    "Будем использовать Keras с бэкендом на Tensorflow.\n",
    "\n",
    "[Тут](https://keras.io/examples/) есть очень много примеров для разных задач.\n",
    "\n",
    "Также в keras/tf есть возможность самому написать алгоритм обучение и получения предсказания для сети. Этот материал выходит за рамки нашего курса, но при желании можно ознакомиться, например, [здесь](https://keras.io/guides/customizing_what_happens_in_fit/).\n",
    "\n",
    "А еще сейчас все по-тихоньку уходят от тензорфлоу в сторону [Pytorch](https://pytorch.org/), поэтому свои проекты полезнее делать на нем."
   ]
  },
  {
   "cell_type": "markdown",
   "metadata": {
    "id": "-KCs6wLVvzDr"
   },
   "source": [
    "## Основы\n",
    "\n",
    "Единица вычисления в нейросети - нейрон. Нейрон - это функция, которая принимает число (вектор) и возвращает какое-то другое число.\n",
    "\n",
    "Нейрон принимает на вход вектор, считает взвешенную сумму элементов, применяет функцию активации (например, сигмоидальную, как в логистической регресси) и отдает результат следующему нейрону.\n",
    "\n",
    "Нейроны обычно организуют в слои. Пример на картинке ниже\n",
    "\n",
    "![pic](../images/nn_example.svg)\n",
    "\n",
    "В любой нейросети есть входной, скрытый и выходной слой. Скрытых слоев может быть очень много.\n",
    "\n",
    "Каждая связь описывается весом. Переход от одного слоя к другому происходит через умножение матриц и применение функции активации к результату.\n",
    "\n",
    "Если мы хотим получить прогноз по вектору значений, то мы последовательно проводим вектор через все слои и на выходе получаем нужное значение.\n",
    "\n",
    "Процесс подбора параметров - обучение нейросети.\n",
    "\n",
    "Для обучения сети обычно применяют метод обратного распространения ошибки. Основная идея в том, что мы движемся от последнего слоя к первому и изменяем веса каждого слоя так, чтобы общая ошибка уменьшилась.\n",
    "\n",
    "## Функции активации\n",
    "\n",
    "Обычно используют следующие функции активации:\n",
    "\n",
    "- сигмоидальную (как в логистической регрессии)\n",
    "- гиперболический тангенс\n",
    "- ReLU\n",
    "- линейная функция\n",
    "- пороговая функция"
   ]
  },
  {
   "cell_type": "markdown",
   "metadata": {
    "id": "NQtgfSHY4Bjq"
   },
   "source": [
    "## Как проходит обучение\n",
    "\n",
    "Допустим, у нас было 10к фотографий.\n",
    "\n",
    "Данные делят на тренировочную и тестовую выборку. Для обучения используют тренировочную выборку, а тестовую выборку откладывают. Мы взяли для обучения 8к фотографий и отложили оставшиеся 2к.\n",
    "\n",
    "Тренировочную выборку делят на батчи (например, по 10 записей) и для каждого батча запускают алгоритм оптимизации (например, SGD). Таким образом, мы разбиваем данные на 800 кусочков и столько раз прогоняем SGD. Это называется эпохой обучения. Чтобы посчитать ошибку используют лосс-функцию. Для задач классификации обычно используют [кросс-энтропию](https://ru.wikipedia.org/wiki/%D0%9F%D0%B5%D1%80%D0%B5%D0%BA%D1%80%D1%91%D1%81%D1%82%D0%BD%D0%B0%D1%8F_%D1%8D%D0%BD%D1%82%D1%80%D0%BE%D0%BF%D0%B8%D1%8F).\n",
    "\n",
    "Затем мы можем по-другому разбить на батчи и запустить новую эпоху обучения.\n",
    "\n",
    "Изменения весов, полученные от разных батчей, можно считать параллельно, поэтому обучение на GPU проходит гораздо быстрее, чем обучение на CPU."
   ]
  },
  {
   "cell_type": "markdown",
   "metadata": {
    "id": "fx7m3Z7sDhSk"
   },
   "source": [
    "Прочитаем данные, разобьем на треин и тест, построим модель"
   ]
  },
  {
   "cell_type": "code",
   "execution_count": 3,
   "metadata": {
    "colab": {
     "base_uri": "https://localhost:8080/",
     "height": 236
    },
    "id": "Erb_d-AiJz5G",
    "outputId": "ccb29bf1-327e-4902-e641-161145d0e468"
   },
   "outputs": [
    {
     "data": {
      "text/html": [
       "<div>\n",
       "<style scoped>\n",
       "    .dataframe tbody tr th:only-of-type {\n",
       "        vertical-align: middle;\n",
       "    }\n",
       "\n",
       "    .dataframe tbody tr th {\n",
       "        vertical-align: top;\n",
       "    }\n",
       "\n",
       "    .dataframe thead th {\n",
       "        text-align: right;\n",
       "    }\n",
       "</style>\n",
       "<table border=\"1\" class=\"dataframe\">\n",
       "  <thead>\n",
       "    <tr style=\"text-align: right;\">\n",
       "      <th></th>\n",
       "      <th>0</th>\n",
       "      <th>1</th>\n",
       "      <th>2</th>\n",
       "      <th>3</th>\n",
       "      <th>4</th>\n",
       "      <th>5</th>\n",
       "      <th>6</th>\n",
       "      <th>7</th>\n",
       "      <th>8</th>\n",
       "      <th>9</th>\n",
       "      <th>...</th>\n",
       "      <th>775</th>\n",
       "      <th>776</th>\n",
       "      <th>777</th>\n",
       "      <th>778</th>\n",
       "      <th>779</th>\n",
       "      <th>780</th>\n",
       "      <th>781</th>\n",
       "      <th>782</th>\n",
       "      <th>783</th>\n",
       "      <th>784</th>\n",
       "    </tr>\n",
       "  </thead>\n",
       "  <tbody>\n",
       "    <tr>\n",
       "      <th>0</th>\n",
       "      <td>6</td>\n",
       "      <td>0</td>\n",
       "      <td>0</td>\n",
       "      <td>0</td>\n",
       "      <td>0</td>\n",
       "      <td>0</td>\n",
       "      <td>0</td>\n",
       "      <td>0</td>\n",
       "      <td>0</td>\n",
       "      <td>0</td>\n",
       "      <td>...</td>\n",
       "      <td>0</td>\n",
       "      <td>0</td>\n",
       "      <td>0</td>\n",
       "      <td>0</td>\n",
       "      <td>0</td>\n",
       "      <td>0</td>\n",
       "      <td>0</td>\n",
       "      <td>0</td>\n",
       "      <td>0</td>\n",
       "      <td>0</td>\n",
       "    </tr>\n",
       "    <tr>\n",
       "      <th>1</th>\n",
       "      <td>5</td>\n",
       "      <td>0</td>\n",
       "      <td>0</td>\n",
       "      <td>0</td>\n",
       "      <td>0</td>\n",
       "      <td>0</td>\n",
       "      <td>0</td>\n",
       "      <td>0</td>\n",
       "      <td>0</td>\n",
       "      <td>0</td>\n",
       "      <td>...</td>\n",
       "      <td>0</td>\n",
       "      <td>0</td>\n",
       "      <td>0</td>\n",
       "      <td>0</td>\n",
       "      <td>0</td>\n",
       "      <td>0</td>\n",
       "      <td>0</td>\n",
       "      <td>0</td>\n",
       "      <td>0</td>\n",
       "      <td>0</td>\n",
       "    </tr>\n",
       "    <tr>\n",
       "      <th>2</th>\n",
       "      <td>7</td>\n",
       "      <td>0</td>\n",
       "      <td>0</td>\n",
       "      <td>0</td>\n",
       "      <td>0</td>\n",
       "      <td>0</td>\n",
       "      <td>0</td>\n",
       "      <td>0</td>\n",
       "      <td>0</td>\n",
       "      <td>0</td>\n",
       "      <td>...</td>\n",
       "      <td>0</td>\n",
       "      <td>0</td>\n",
       "      <td>0</td>\n",
       "      <td>0</td>\n",
       "      <td>0</td>\n",
       "      <td>0</td>\n",
       "      <td>0</td>\n",
       "      <td>0</td>\n",
       "      <td>0</td>\n",
       "      <td>0</td>\n",
       "    </tr>\n",
       "    <tr>\n",
       "      <th>3</th>\n",
       "      <td>9</td>\n",
       "      <td>0</td>\n",
       "      <td>0</td>\n",
       "      <td>0</td>\n",
       "      <td>0</td>\n",
       "      <td>0</td>\n",
       "      <td>0</td>\n",
       "      <td>0</td>\n",
       "      <td>0</td>\n",
       "      <td>0</td>\n",
       "      <td>...</td>\n",
       "      <td>0</td>\n",
       "      <td>0</td>\n",
       "      <td>0</td>\n",
       "      <td>0</td>\n",
       "      <td>0</td>\n",
       "      <td>0</td>\n",
       "      <td>0</td>\n",
       "      <td>0</td>\n",
       "      <td>0</td>\n",
       "      <td>0</td>\n",
       "    </tr>\n",
       "    <tr>\n",
       "      <th>4</th>\n",
       "      <td>5</td>\n",
       "      <td>0</td>\n",
       "      <td>0</td>\n",
       "      <td>0</td>\n",
       "      <td>0</td>\n",
       "      <td>0</td>\n",
       "      <td>0</td>\n",
       "      <td>0</td>\n",
       "      <td>0</td>\n",
       "      <td>0</td>\n",
       "      <td>...</td>\n",
       "      <td>0</td>\n",
       "      <td>0</td>\n",
       "      <td>0</td>\n",
       "      <td>0</td>\n",
       "      <td>0</td>\n",
       "      <td>0</td>\n",
       "      <td>0</td>\n",
       "      <td>0</td>\n",
       "      <td>0</td>\n",
       "      <td>0</td>\n",
       "    </tr>\n",
       "  </tbody>\n",
       "</table>\n",
       "<p>5 rows × 785 columns</p>\n",
       "</div>"
      ],
      "text/plain": [
       "   0    1    2    3    4    5    6    7    8    9    ...  775  776  777  778  \\\n",
       "0    6    0    0    0    0    0    0    0    0    0  ...    0    0    0    0   \n",
       "1    5    0    0    0    0    0    0    0    0    0  ...    0    0    0    0   \n",
       "2    7    0    0    0    0    0    0    0    0    0  ...    0    0    0    0   \n",
       "3    9    0    0    0    0    0    0    0    0    0  ...    0    0    0    0   \n",
       "4    5    0    0    0    0    0    0    0    0    0  ...    0    0    0    0   \n",
       "\n",
       "   779  780  781  782  783  784  \n",
       "0    0    0    0    0    0    0  \n",
       "1    0    0    0    0    0    0  \n",
       "2    0    0    0    0    0    0  \n",
       "3    0    0    0    0    0    0  \n",
       "4    0    0    0    0    0    0  \n",
       "\n",
       "[5 rows x 785 columns]"
      ]
     },
     "execution_count": 3,
     "metadata": {},
     "output_type": "execute_result"
    }
   ],
   "source": [
    "df = pd.read_csv('../data/mnist_train_small.csv', header=None)\n",
    "df.head()"
   ]
  },
  {
   "cell_type": "code",
   "execution_count": 5,
   "metadata": {},
   "outputs": [
    {
     "data": {
      "text/plain": [
       "255"
      ]
     },
     "execution_count": 5,
     "metadata": {},
     "output_type": "execute_result"
    }
   ],
   "source": [
    "df.max().max()"
   ]
  },
  {
   "cell_type": "code",
   "execution_count": 6,
   "metadata": {
    "id": "pfCFDamgKdz1"
   },
   "outputs": [],
   "source": [
    "X = df.iloc[:, 1:]\n",
    "X = X / X.max().max()\n",
    "y = to_categorical(df.iloc[:, 0], num_classes=10)"
   ]
  },
  {
   "cell_type": "code",
   "execution_count": 7,
   "metadata": {},
   "outputs": [
    {
     "data": {
      "text/plain": [
       "array([[0., 0., 0., ..., 0., 0., 0.],\n",
       "       [0., 0., 0., ..., 0., 0., 0.],\n",
       "       [0., 0., 0., ..., 1., 0., 0.],\n",
       "       ...,\n",
       "       [0., 0., 1., ..., 0., 0., 0.],\n",
       "       [0., 0., 0., ..., 0., 0., 1.],\n",
       "       [0., 0., 0., ..., 0., 0., 0.]], dtype=float32)"
      ]
     },
     "execution_count": 7,
     "metadata": {},
     "output_type": "execute_result"
    }
   ],
   "source": [
    "y"
   ]
  },
  {
   "cell_type": "code",
   "execution_count": 8,
   "metadata": {
    "id": "6c4M9r5oBZv6"
   },
   "outputs": [],
   "source": [
    "x_train, x_test, y_train, y_test = train_test_split(X, y)"
   ]
  },
  {
   "cell_type": "code",
   "execution_count": 9,
   "metadata": {
    "colab": {
     "base_uri": "https://localhost:8080/",
     "height": 282
    },
    "id": "3hUUVJ1bJ53E",
    "outputId": "14aee040-fb38-44ae-b4de-cdccc5a66a0a"
   },
   "outputs": [
    {
     "data": {
      "text/plain": [
       "<matplotlib.image.AxesImage at 0x30a6e8f10>"
      ]
     },
     "execution_count": 9,
     "metadata": {},
     "output_type": "execute_result"
    },
    {
     "data": {
      "image/png": "[encoded data removed]",
      "text/plain": [
       "<Figure size 640x480 with 1 Axes>"
      ]
     },
     "metadata": {},
     "output_type": "display_data"
    }
   ],
   "source": [
    "plt.imshow(X.iloc[1].values.reshape(28, 28))"
   ]
  },
  {
   "cell_type": "markdown",
   "metadata": {
    "id": "_PwO2XQjDlkB"
   },
   "source": [
    "Построим многослойный перцептрон. Оптимизировать будем при помощи SGD, в качестве лосс-функции будем использовать кроссэнтропию, также будем считать accuracy"
   ]
  },
  {
   "cell_type": "code",
   "execution_count": 10,
   "metadata": {
    "id": "YLISc8hNKnnb"
   },
   "outputs": [
    {
     "name": "stderr",
     "output_type": "stream",
     "text": [
      "WARNING:absl:At this time, the v2.11+ optimizer `tf.keras.optimizers.SGD` runs slowly on M1/M2 Macs, please use the legacy Keras optimizer instead, located at `tf.keras.optimizers.legacy.SGD`.\n"
     ]
    }
   ],
   "source": [
    "model = Sequential(\n",
    "    [\n",
    "     Dense(32, input_shape=(X.shape[1],), activation='relu'),\n",
    "     Dense(32, activation='relu'),\n",
    "\n",
    "     Dense(10, activation='softmax')\n",
    "    ]\n",
    ")\n",
    "model.compile(optimizer=SGD(clipnorm=1), loss=categorical_crossentropy, metrics=[categorical_accuracy])\n"
   ]
  },
  {
   "cell_type": "code",
   "execution_count": 11,
   "metadata": {
    "colab": {
     "base_uri": "https://localhost:8080/"
    },
    "id": "JTJBteW-9pfp",
    "outputId": "84636394-06a7-4860-afe0-f65e9ddfbd8b"
   },
   "outputs": [
    {
     "name": "stdout",
     "output_type": "stream",
     "text": [
      "Model: \"sequential\"\n",
      "_________________________________________________________________\n",
      " Layer (type)                Output Shape              Param #   \n",
      "=================================================================\n",
      " dense (Dense)               (None, 32)                25120     \n",
      "                                                                 \n",
      " dense_1 (Dense)             (None, 32)                1056      \n",
      "                                                                 \n",
      " dense_2 (Dense)             (None, 10)                330       \n",
      "                                                                 \n",
      "=================================================================\n",
      "Total params: 26506 (103.54 KB)\n",
      "Trainable params: 26506 (103.54 KB)\n",
      "Non-trainable params: 0 (0.00 Byte)\n",
      "_________________________________________________________________\n"
     ]
    }
   ],
   "source": [
    "model.summary()"
   ]
  },
  {
   "cell_type": "code",
   "execution_count": 13,
   "metadata": {},
   "outputs": [
    {
     "data": {
      "text/plain": [
       "25120"
      ]
     },
     "execution_count": 13,
     "metadata": {},
     "output_type": "execute_result"
    }
   ],
   "source": [
    "(28 * 28) * 32 + 32"
   ]
  },
  {
   "cell_type": "code",
   "execution_count": 14,
   "metadata": {},
   "outputs": [
    {
     "data": {
      "text/plain": [
       "1056"
      ]
     },
     "execution_count": 14,
     "metadata": {},
     "output_type": "execute_result"
    }
   ],
   "source": [
    "(32 * 32 + 32)"
   ]
  },
  {
   "cell_type": "code",
   "execution_count": 15,
   "metadata": {},
   "outputs": [
    {
     "data": {
      "text/plain": [
       "330"
      ]
     },
     "execution_count": 15,
     "metadata": {},
     "output_type": "execute_result"
    }
   ],
   "source": [
    "(32 * 10 + 10)"
   ]
  },
  {
   "cell_type": "code",
   "execution_count": 16,
   "metadata": {
    "colab": {
     "base_uri": "https://localhost:8080/"
    },
    "id": "Qx3YGd_V-9yn",
    "outputId": "9ecda69f-62f3-4cd6-ea4b-a1b64b8d23b3"
   },
   "outputs": [
    {
     "data": {
      "text/plain": [
       "26506"
      ]
     },
     "execution_count": 16,
     "metadata": {},
     "output_type": "execute_result"
    }
   ],
   "source": [
    "# 28x28 - картинка\n",
    "#    первый слой         второй слой      выходной слой\n",
    "((28 * 28) * 32 + 32) + (32 * 32 + 32) + (32 * 10 + 10)"
   ]
  },
  {
   "cell_type": "markdown",
   "metadata": {
    "id": "7qzqpWwh3k8U"
   },
   "source": [
    "## Гиперпараметры сети\n",
    "\n",
    "- архитектура сети\n",
    "- параметры оптимизатора (learning rate и др.)\n",
    "- регуляризация\n",
    "- размер батча\n",
    "- количество эпох"
   ]
  },
  {
   "cell_type": "code",
   "execution_count": 17,
   "metadata": {
    "colab": {
     "base_uri": "https://localhost:8080/"
    },
    "id": "WeYgQvUd8Ibi",
    "outputId": "436c541c-182d-4373-db1e-f588bc8dd0c1"
   },
   "outputs": [
    {
     "name": "stdout",
     "output_type": "stream",
     "text": [
      "Epoch 1/10\n",
      "1350/1350 [==============================] - 1s 621us/step - loss: 1.1467 - categorical_accuracy: 0.6593 - val_loss: 0.5666 - val_categorical_accuracy: 0.8367\n",
      "Epoch 2/10\n",
      "1350/1350 [==============================] - 1s 555us/step - loss: 0.4730 - categorical_accuracy: 0.8627 - val_loss: 0.4025 - val_categorical_accuracy: 0.8827\n",
      "Epoch 3/10\n",
      "1350/1350 [==============================] - 1s 550us/step - loss: 0.3839 - categorical_accuracy: 0.8881 - val_loss: 0.3490 - val_categorical_accuracy: 0.9020\n",
      "Epoch 4/10\n",
      "1350/1350 [==============================] - 1s 629us/step - loss: 0.3415 - categorical_accuracy: 0.9027 - val_loss: 0.3141 - val_categorical_accuracy: 0.9113\n",
      "Epoch 5/10\n",
      "1350/1350 [==============================] - 1s 576us/step - loss: 0.3116 - categorical_accuracy: 0.9107 - val_loss: 0.2976 - val_categorical_accuracy: 0.9187\n",
      "Epoch 6/10\n",
      "1350/1350 [==============================] - 1s 576us/step - loss: 0.2920 - categorical_accuracy: 0.9164 - val_loss: 0.2851 - val_categorical_accuracy: 0.9160\n",
      "Epoch 7/10\n",
      "1350/1350 [==============================] - 1s 534us/step - loss: 0.2761 - categorical_accuracy: 0.9209 - val_loss: 0.2715 - val_categorical_accuracy: 0.9207\n",
      "Epoch 8/10\n",
      "1350/1350 [==============================] - 1s 527us/step - loss: 0.2605 - categorical_accuracy: 0.9259 - val_loss: 0.2585 - val_categorical_accuracy: 0.9280\n",
      "Epoch 9/10\n",
      "1350/1350 [==============================] - 1s 535us/step - loss: 0.2486 - categorical_accuracy: 0.9288 - val_loss: 0.2519 - val_categorical_accuracy: 0.9280\n",
      "Epoch 10/10\n",
      "1350/1350 [==============================] - 1s 538us/step - loss: 0.2372 - categorical_accuracy: 0.9336 - val_loss: 0.2467 - val_categorical_accuracy: 0.9280\n"
     ]
    }
   ],
   "source": [
    "history = model.fit(x_train, y_train, batch_size=10, epochs=10, validation_split=0.1)"
   ]
  },
  {
   "cell_type": "code",
   "execution_count": 18,
   "metadata": {
    "colab": {
     "base_uri": "https://localhost:8080/"
    },
    "id": "EJl26m6NG6Tp",
    "outputId": "852e3bb5-3370-4a5f-ae3e-6e0a67a5b27b"
   },
   "outputs": [
    {
     "data": {
      "text/plain": [
       "dict_keys(['loss', 'categorical_accuracy', 'val_loss', 'val_categorical_accuracy'])"
      ]
     },
     "execution_count": 18,
     "metadata": {},
     "output_type": "execute_result"
    }
   ],
   "source": [
    "history.history.keys()"
   ]
  },
  {
   "cell_type": "code",
   "execution_count": 19,
   "metadata": {
    "colab": {
     "base_uri": "https://localhost:8080/",
     "height": 282
    },
    "id": "PJ1Qr4WCGqDX",
    "outputId": "b8870a13-db64-4352-aa8e-81f202c3c8c5"
   },
   "outputs": [
    {
     "data": {
      "text/plain": [
       "<matplotlib.legend.Legend at 0x30a6b42e0>"
      ]
     },
     "execution_count": 19,
     "metadata": {},
     "output_type": "execute_result"
    },
    {
     "data": {
      "image/png": "[encoded data removed]",
      "text/plain": [
       "<Figure size 640x480 with 1 Axes>"
      ]
     },
     "metadata": {},
     "output_type": "display_data"
    }
   ],
   "source": [
    "plt.plot(history.history['loss'])\n",
    "plt.plot(history.history['val_loss'])\n",
    "legend_list = ['loss', 'val_loss']\n",
    "plt.legend(legend_list)"
   ]
  },
  {
   "cell_type": "code",
   "execution_count": 20,
   "metadata": {
    "colab": {
     "base_uri": "https://localhost:8080/",
     "height": 282
    },
    "id": "Jjyy5fYvaa3w",
    "outputId": "22df43a5-a313-47de-8141-97e8fd66f888"
   },
   "outputs": [
    {
     "data": {
      "text/plain": [
       "<matplotlib.legend.Legend at 0x30d2463a0>"
      ]
     },
     "execution_count": 20,
     "metadata": {},
     "output_type": "execute_result"
    },
    {
     "data": {
      "image/png": "[encoded data removed]",
      "text/plain": [
       "<Figure size 640x480 with 1 Axes>"
      ]
     },
     "metadata": {},
     "output_type": "display_data"
    }
   ],
   "source": [
    "plt.plot(history.history['categorical_accuracy'])\n",
    "plt.plot(history.history['val_categorical_accuracy'])\n",
    "plt.legend(['categorical_accuracy', 'val_categorical_accuracy'])"
   ]
  },
  {
   "cell_type": "code",
   "execution_count": 21,
   "metadata": {
    "colab": {
     "base_uri": "https://localhost:8080/"
    },
    "id": "lzQ_dNDIAZHx",
    "outputId": "769e4756-dcd6-4c9f-b9ed-78306ca31e86"
   },
   "outputs": [
    {
     "name": "stdout",
     "output_type": "stream",
     "text": [
      "157/157 [==============================] - 0s 465us/step - loss: 0.3018 - categorical_accuracy: 0.9134\n"
     ]
    },
    {
     "data": {
      "text/plain": [
       "[0.30180370807647705, 0.9133999943733215]"
      ]
     },
     "execution_count": 21,
     "metadata": {},
     "output_type": "execute_result"
    }
   ],
   "source": [
    "model.evaluate(x_test, y_test)"
   ]
  },
  {
   "cell_type": "code",
   "execution_count": 22,
   "metadata": {
    "colab": {
     "base_uri": "https://localhost:8080/"
    },
    "id": "Sf0M9BSfHRbO",
    "outputId": "2ba4216c-ed5f-488e-8993-0928f5c84808"
   },
   "outputs": [
    {
     "name": "stdout",
     "output_type": "stream",
     "text": [
      "157/157 [==============================] - 0s 415us/step\n"
     ]
    },
    {
     "data": {
      "text/plain": [
       "array([[459,   0,   3,   1,   3,   6,   8,   1,   3,   1],\n",
       "       [  0, 557,   3,   4,   3,   0,   1,   2,   7,   1],\n",
       "       [  4,   2, 415,   8,  13,   3,   7,   7,  11,   2],\n",
       "       [  0,   2,  15, 440,   0,  16,   4,   3,   9,  12],\n",
       "       [  0,   2,   1,   0, 446,   0,  10,   1,   2,  22],\n",
       "       [  2,   3,   1,  15,   9, 410,  10,   1,   8,   6],\n",
       "       [  2,   2,   2,   0,   6,   4, 477,   0,   3,   0],\n",
       "       [  0,   1,  12,   3,   7,   0,   0, 494,   2,   8],\n",
       "       [  3,  11,   5,  14,   4,   5,   7,   0, 421,   6],\n",
       "       [  3,   2,   3,   8,  27,   3,   0,  18,   4, 448]])"
      ]
     },
     "execution_count": 22,
     "metadata": {},
     "output_type": "execute_result"
    }
   ],
   "source": [
    "y_pred = model.predict(x_test)\n",
    "from sklearn.metrics import confusion_matrix\n",
    "confusion_matrix(y_test.argmax(axis=1), y_pred.argmax(axis=1))"
   ]
  },
  {
   "cell_type": "markdown",
   "metadata": {
    "id": "KCjbRaiyD1lw"
   },
   "source": [
    "Как оценим качество такой модели? Какое качество даст обычная логистическая регрессия?"
   ]
  },
  {
   "cell_type": "markdown",
   "metadata": {
    "id": "vEU7joh4vQog"
   },
   "source": [
    "## Задача\n",
    "\n",
    "Построить на тех же данных логистическую регрессию, сравнить результаты"
   ]
  },
  {
   "cell_type": "code",
   "execution_count": 38,
   "metadata": {
    "id": "gxCcniX5vV-1"
   },
   "outputs": [],
   "source": [
    "from sklearn.linear_model import LogisticRegression\n",
    "from sklearn.metrics import accuracy_score"
   ]
  },
  {
   "cell_type": "code",
   "execution_count": 39,
   "metadata": {
    "id": "D7y-2xdMq_Gn"
   },
   "outputs": [],
   "source": [
    "# Ваш код здесь\n"
   ]
  },
  {
   "cell_type": "markdown",
   "metadata": {
    "id": "BxcUooixHpd8"
   },
   "source": [
    "## Задача\n",
    "\n",
    "Добавить больше нейронов к существующим слоям, а также добавить новый слой в нейросеть. Измерить качество."
   ]
  },
  {
   "cell_type": "code",
   "execution_count": 25,
   "metadata": {
    "id": "Xe_QrCaGIMBv"
   },
   "outputs": [
    {
     "name": "stderr",
     "output_type": "stream",
     "text": [
      "WARNING:absl:At this time, the v2.11+ optimizer `tf.keras.optimizers.SGD` runs slowly on M1/M2 Macs, please use the legacy Keras optimizer instead, located at `tf.keras.optimizers.legacy.SGD`.\n"
     ]
    },
    {
     "name": "stdout",
     "output_type": "stream",
     "text": [
      "Epoch 1/10\n",
      "135/135 [==============================] - 0s 2ms/step - loss: 2.1514 - categorical_accuracy: 0.3235 - val_loss: 1.9107 - val_categorical_accuracy: 0.5847\n",
      "Epoch 2/10\n",
      "135/135 [==============================] - 0s 2ms/step - loss: 1.5252 - categorical_accuracy: 0.6793 - val_loss: 1.1235 - val_categorical_accuracy: 0.7607\n",
      "Epoch 3/10\n",
      "135/135 [==============================] - 0s 2ms/step - loss: 0.8842 - categorical_accuracy: 0.8005 - val_loss: 0.7070 - val_categorical_accuracy: 0.8187\n",
      "Epoch 4/10\n",
      "135/135 [==============================] - 0s 2ms/step - loss: 0.6141 - categorical_accuracy: 0.8431 - val_loss: 0.5407 - val_categorical_accuracy: 0.8587\n",
      "Epoch 5/10\n",
      "135/135 [==============================] - 0s 2ms/step - loss: 0.4970 - categorical_accuracy: 0.8692 - val_loss: 0.4604 - val_categorical_accuracy: 0.8780\n",
      "Epoch 6/10\n",
      "135/135 [==============================] - 0s 2ms/step - loss: 0.4327 - categorical_accuracy: 0.8825 - val_loss: 0.4117 - val_categorical_accuracy: 0.8853\n",
      "Epoch 7/10\n",
      "135/135 [==============================] - 0s 2ms/step - loss: 0.3908 - categorical_accuracy: 0.8922 - val_loss: 0.3780 - val_categorical_accuracy: 0.8947\n",
      "Epoch 8/10\n",
      "135/135 [==============================] - 0s 2ms/step - loss: 0.3622 - categorical_accuracy: 0.8997 - val_loss: 0.3549 - val_categorical_accuracy: 0.9007\n",
      "Epoch 9/10\n",
      "135/135 [==============================] - 0s 2ms/step - loss: 0.3401 - categorical_accuracy: 0.9030 - val_loss: 0.3365 - val_categorical_accuracy: 0.9020\n",
      "Epoch 10/10\n",
      "135/135 [==============================] - 0s 2ms/step - loss: 0.3233 - categorical_accuracy: 0.9084 - val_loss: 0.3213 - val_categorical_accuracy: 0.9067\n"
     ]
    },
    {
     "data": {
      "text/plain": [
       "<matplotlib.legend.Legend at 0x320f06970>"
      ]
     },
     "execution_count": 25,
     "metadata": {},
     "output_type": "execute_result"
    },
    {
     "data": {
      "image/png": "[encoded data removed]",
      "text/plain": [
       "<Figure size 640x480 with 1 Axes>"
      ]
     },
     "metadata": {},
     "output_type": "display_data"
    },
    {
     "data": {
      "image/png": "[encoded data removed]",
      "text/plain": [
       "<Figure size 640x480 with 1 Axes>"
      ]
     },
     "metadata": {},
     "output_type": "display_data"
    }
   ],
   "source": [
    "model = Sequential(\n",
    "    [\n",
    "     Dense(128, input_shape=(X.shape[1],), activation='relu'),\n",
    "     Dense(128, activation='relu'),\n",
    "     Dense(128, activation='relu'),\n",
    "\n",
    "     Dense(10, activation='softmax')\n",
    "    ]\n",
    ")\n",
    "model.compile(optimizer=SGD(clipnorm=1), loss=categorical_crossentropy, metrics=[categorical_accuracy])\n",
    "\n",
    "history = model.fit(x_train, y_train, batch_size=100, epochs=10, validation_split=0.1)\n",
    "\n",
    "plt.figure()\n",
    "plt.plot(history.history['loss'])\n",
    "plt.plot(history.history['val_loss'])\n",
    "legend_list = ['loss', 'val_loss']\n",
    "plt.legend(legend_list)\n",
    "\n",
    "plt.figure()\n",
    "plt.plot(history.history['categorical_accuracy'])\n",
    "plt.plot(history.history['val_categorical_accuracy'])\n",
    "plt.legend(['categorical_accuracy', 'val_categorical_accuracy'])"
   ]
  },
  {
   "cell_type": "markdown",
   "metadata": {
    "id": "2_KIrCYlIXxL"
   },
   "source": [
    "## Задача\n",
    "\n",
    "Попробовать оптимизатор Adam и RMSprop вместо SGD, сравнить качество (не забываем передавать параметр `clipnorm=1`)"
   ]
  },
  {
   "cell_type": "code",
   "execution_count": 28,
   "metadata": {
    "id": "t9iSZwRzIXKE"
   },
   "outputs": [
    {
     "name": "stderr",
     "output_type": "stream",
     "text": [
      "WARNING:absl:At this time, the v2.11+ optimizer `tf.keras.optimizers.RMSprop` runs slowly on M1/M2 Macs, please use the legacy Keras optimizer instead, located at `tf.keras.optimizers.legacy.RMSprop`.\n"
     ]
    },
    {
     "name": "stdout",
     "output_type": "stream",
     "text": [
      "Epoch 1/30\n",
      "135/135 [==============================] - 1s 3ms/step - loss: 0.5547 - categorical_accuracy: 0.8367 - val_loss: 0.2700 - val_categorical_accuracy: 0.9227\n",
      "Epoch 2/30\n",
      "135/135 [==============================] - 0s 2ms/step - loss: 0.2377 - categorical_accuracy: 0.9293 - val_loss: 0.2350 - val_categorical_accuracy: 0.9340\n",
      "Epoch 3/30\n",
      "135/135 [==============================] - 0s 2ms/step - loss: 0.1623 - categorical_accuracy: 0.9510 - val_loss: 0.1678 - val_categorical_accuracy: 0.9460\n",
      "Epoch 4/30\n",
      "135/135 [==============================] - 0s 2ms/step - loss: 0.1177 - categorical_accuracy: 0.9639 - val_loss: 0.1549 - val_categorical_accuracy: 0.9560\n",
      "Epoch 5/30\n",
      "135/135 [==============================] - 0s 2ms/step - loss: 0.0868 - categorical_accuracy: 0.9744 - val_loss: 0.1325 - val_categorical_accuracy: 0.9613\n",
      "Epoch 6/30\n",
      "135/135 [==============================] - 0s 2ms/step - loss: 0.0705 - categorical_accuracy: 0.9787 - val_loss: 0.1240 - val_categorical_accuracy: 0.9673\n",
      "Epoch 7/30\n",
      "135/135 [==============================] - 0s 2ms/step - loss: 0.0520 - categorical_accuracy: 0.9838 - val_loss: 0.1329 - val_categorical_accuracy: 0.9600\n",
      "Epoch 8/30\n",
      "135/135 [==============================] - 0s 2ms/step - loss: 0.0416 - categorical_accuracy: 0.9873 - val_loss: 0.1212 - val_categorical_accuracy: 0.9700\n",
      "Epoch 9/30\n",
      "135/135 [==============================] - 0s 2ms/step - loss: 0.0273 - categorical_accuracy: 0.9910 - val_loss: 0.1631 - val_categorical_accuracy: 0.9627\n",
      "Epoch 10/30\n",
      "135/135 [==============================] - 0s 2ms/step - loss: 0.0234 - categorical_accuracy: 0.9931 - val_loss: 0.1336 - val_categorical_accuracy: 0.9713\n",
      "Epoch 11/30\n",
      "135/135 [==============================] - 0s 2ms/step - loss: 0.0200 - categorical_accuracy: 0.9935 - val_loss: 0.1849 - val_categorical_accuracy: 0.9540\n",
      "Epoch 12/30\n",
      "135/135 [==============================] - 0s 2ms/step - loss: 0.0161 - categorical_accuracy: 0.9953 - val_loss: 0.1459 - val_categorical_accuracy: 0.9667\n",
      "Epoch 13/30\n",
      "135/135 [==============================] - 0s 2ms/step - loss: 0.0137 - categorical_accuracy: 0.9952 - val_loss: 0.1681 - val_categorical_accuracy: 0.9647\n",
      "Epoch 14/30\n",
      "135/135 [==============================] - 0s 2ms/step - loss: 0.0110 - categorical_accuracy: 0.9965 - val_loss: 0.2109 - val_categorical_accuracy: 0.9580\n",
      "Epoch 15/30\n",
      "135/135 [==============================] - 0s 2ms/step - loss: 0.0094 - categorical_accuracy: 0.9970 - val_loss: 0.1667 - val_categorical_accuracy: 0.9667\n",
      "Epoch 16/30\n",
      "135/135 [==============================] - 0s 2ms/step - loss: 0.0084 - categorical_accuracy: 0.9974 - val_loss: 0.1463 - val_categorical_accuracy: 0.9700\n",
      "Epoch 17/30\n",
      "135/135 [==============================] - 0s 2ms/step - loss: 0.0058 - categorical_accuracy: 0.9981 - val_loss: 0.1506 - val_categorical_accuracy: 0.9727\n",
      "Epoch 18/30\n",
      "135/135 [==============================] - 0s 2ms/step - loss: 0.0041 - categorical_accuracy: 0.9987 - val_loss: 0.1815 - val_categorical_accuracy: 0.9693\n",
      "Epoch 19/30\n",
      "135/135 [==============================] - 0s 2ms/step - loss: 0.0061 - categorical_accuracy: 0.9976 - val_loss: 0.1569 - val_categorical_accuracy: 0.9720\n",
      "Epoch 20/30\n",
      "135/135 [==============================] - 0s 2ms/step - loss: 0.0047 - categorical_accuracy: 0.9990 - val_loss: 0.2063 - val_categorical_accuracy: 0.9673\n",
      "Epoch 21/30\n",
      "135/135 [==============================] - 0s 2ms/step - loss: 0.0061 - categorical_accuracy: 0.9979 - val_loss: 0.2193 - val_categorical_accuracy: 0.9573\n",
      "Epoch 22/30\n",
      "135/135 [==============================] - 0s 3ms/step - loss: 0.0017 - categorical_accuracy: 0.9994 - val_loss: 0.2173 - val_categorical_accuracy: 0.9687\n",
      "Epoch 23/30\n",
      "135/135 [==============================] - 0s 2ms/step - loss: 0.0040 - categorical_accuracy: 0.9996 - val_loss: 0.1796 - val_categorical_accuracy: 0.9713\n",
      "Epoch 24/30\n",
      "135/135 [==============================] - 0s 2ms/step - loss: 7.6749e-05 - categorical_accuracy: 1.0000 - val_loss: 0.1750 - val_categorical_accuracy: 0.9727\n",
      "Epoch 25/30\n",
      "135/135 [==============================] - 0s 2ms/step - loss: 2.5735e-05 - categorical_accuracy: 1.0000 - val_loss: 0.1776 - val_categorical_accuracy: 0.9740\n",
      "Epoch 26/30\n",
      "135/135 [==============================] - 0s 2ms/step - loss: 1.8985e-05 - categorical_accuracy: 1.0000 - val_loss: 0.1780 - val_categorical_accuracy: 0.9727\n",
      "Epoch 27/30\n",
      "135/135 [==============================] - 0s 2ms/step - loss: 1.5809e-05 - categorical_accuracy: 1.0000 - val_loss: 0.1798 - val_categorical_accuracy: 0.9733\n",
      "Epoch 28/30\n",
      "135/135 [==============================] - 0s 2ms/step - loss: 1.3613e-05 - categorical_accuracy: 1.0000 - val_loss: 0.1808 - val_categorical_accuracy: 0.9740\n",
      "Epoch 29/30\n",
      "135/135 [==============================] - 0s 2ms/step - loss: 1.2088e-05 - categorical_accuracy: 1.0000 - val_loss: 0.1820 - val_categorical_accuracy: 0.9727\n",
      "Epoch 30/30\n",
      "135/135 [==============================] - 0s 2ms/step - loss: 1.0978e-05 - categorical_accuracy: 1.0000 - val_loss: 0.1826 - val_categorical_accuracy: 0.9740\n"
     ]
    },
    {
     "data": {
      "text/plain": [
       "<matplotlib.legend.Legend at 0x35c9104c0>"
      ]
     },
     "execution_count": 28,
     "metadata": {},
     "output_type": "execute_result"
    },
    {
     "data": {
      "image/png": "[encoded data removed]",
      "text/plain": [
       "<Figure size 640x480 with 1 Axes>"
      ]
     },
     "metadata": {},
     "output_type": "display_data"
    },
    {
     "data": {
      "image/png": "[encoded data removed]",
      "text/plain": [
       "<Figure size 640x480 with 1 Axes>"
      ]
     },
     "metadata": {},
     "output_type": "display_data"
    }
   ],
   "source": [
    "from tensorflow.keras.optimizers import Adam\n",
    "from tensorflow.keras.optimizers import RMSprop\n",
    "# Ваш код здесь\n",
    "\n",
    "\n",
    "model = Sequential(\n",
    "    [\n",
    "     Dense(128, input_shape=(X.shape[1],), activation='relu'),\n",
    "     Dense(128, activation='relu'),\n",
    "     Dense(128, activation='relu'),\n",
    "\n",
    "     Dense(10, activation='softmax')\n",
    "    ]\n",
    ")\n",
    "model.compile(optimizer=RMSprop(clipnorm=1), loss=categorical_crossentropy, metrics=[categorical_accuracy])\n",
    "\n",
    "history = model.fit(x_train, y_train, batch_size=100, epochs=30, validation_split=0.1)\n",
    "\n",
    "plt.figure()\n",
    "plt.plot(history.history['loss'])\n",
    "plt.plot(history.history['val_loss'])\n",
    "legend_list = ['loss', 'val_loss']\n",
    "plt.legend(legend_list)\n",
    "\n",
    "plt.figure()\n",
    "plt.plot(history.history['categorical_accuracy'])\n",
    "plt.plot(history.history['val_categorical_accuracy'])\n",
    "plt.legend(['categorical_accuracy', 'val_categorical_accuracy'])"
   ]
  },
  {
   "cell_type": "markdown",
   "metadata": {
    "id": "O1xIUU46KjHK"
   },
   "source": [
    "## Уменьшение learning rate\n",
    "\n",
    "[Документация по ExponentialDecay](https://keras.io/api/optimizers/learning_rate_schedules/exponential_decay/)"
   ]
  },
  {
   "cell_type": "code",
   "execution_count": 40,
   "metadata": {
    "id": "F_ziwlnUJa9F"
   },
   "outputs": [
    {
     "name": "stderr",
     "output_type": "stream",
     "text": [
      "WARNING:absl:At this time, the v2.11+ optimizer `tf.keras.optimizers.Adam` runs slowly on M1/M2 Macs, please use the legacy Keras optimizer instead, located at `tf.keras.optimizers.legacy.Adam`.\n"
     ]
    }
   ],
   "source": [
    "from tensorflow.keras.optimizers.schedules import ExponentialDecay\n",
    "\n",
    "initial_learning_rate = 0.001\n",
    "lr_schedule = ExponentialDecay(\n",
    "    initial_learning_rate,\n",
    "    decay_steps=100000,\n",
    "    decay_rate=0.96,\n",
    "    staircase=True\n",
    ")\n",
    "\n",
    "model = Sequential(\n",
    "    [\n",
    "     Dense(16, input_shape=(X.shape[1],), activation='sigmoid'),\n",
    "     Dense(16, activation='relu'),\n",
    "     Dense(10, activation='softmax')\n",
    "    ]\n",
    ")\n",
    "model.compile(optimizer=Adam(clipnorm=1, learning_rate=lr_schedule), loss=categorical_crossentropy, metrics=[categorical_accuracy])"
   ]
  },
  {
   "cell_type": "code",
   "execution_count": 41,
   "metadata": {
    "colab": {
     "base_uri": "https://localhost:8080/"
    },
    "id": "YL7-uXpaKXKt",
    "outputId": "86369717-248e-40a2-e011-77d217ea6d31"
   },
   "outputs": [
    {
     "name": "stdout",
     "output_type": "stream",
     "text": [
      "Epoch 1/30\n",
      "150/150 [==============================] - 0s 1ms/step - loss: 1.8462 - categorical_accuracy: 0.3861\n",
      "Epoch 2/30\n",
      "150/150 [==============================] - 0s 843us/step - loss: 0.9909 - categorical_accuracy: 0.7767\n",
      "Epoch 3/30\n",
      "150/150 [==============================] - 0s 886us/step - loss: 0.6143 - categorical_accuracy: 0.8535\n",
      "Epoch 4/30\n",
      "150/150 [==============================] - 0s 908us/step - loss: 0.4734 - categorical_accuracy: 0.8781\n",
      "Epoch 5/30\n",
      "150/150 [==============================] - 0s 766us/step - loss: 0.3994 - categorical_accuracy: 0.8950\n",
      "Epoch 6/30\n",
      "150/150 [==============================] - 0s 815us/step - loss: 0.3511 - categorical_accuracy: 0.9045\n",
      "Epoch 7/30\n",
      "150/150 [==============================] - 0s 774us/step - loss: 0.3170 - categorical_accuracy: 0.9133\n",
      "Epoch 8/30\n",
      "150/150 [==============================] - 0s 770us/step - loss: 0.2908 - categorical_accuracy: 0.9198\n",
      "Epoch 9/30\n",
      "150/150 [==============================] - 0s 789us/step - loss: 0.2701 - categorical_accuracy: 0.9249\n",
      "Epoch 10/30\n",
      "150/150 [==============================] - 0s 775us/step - loss: 0.2530 - categorical_accuracy: 0.9283\n",
      "Epoch 11/30\n",
      "150/150 [==============================] - 0s 817us/step - loss: 0.2393 - categorical_accuracy: 0.9327\n",
      "Epoch 12/30\n",
      "150/150 [==============================] - 0s 861us/step - loss: 0.2277 - categorical_accuracy: 0.9363\n",
      "Epoch 13/30\n",
      "150/150 [==============================] - 0s 750us/step - loss: 0.2178 - categorical_accuracy: 0.9388\n",
      "Epoch 14/30\n",
      "150/150 [==============================] - 0s 797us/step - loss: 0.2077 - categorical_accuracy: 0.9422\n",
      "Epoch 15/30\n",
      "150/150 [==============================] - 0s 724us/step - loss: 0.1996 - categorical_accuracy: 0.9433\n",
      "Epoch 16/30\n",
      "150/150 [==============================] - 0s 841us/step - loss: 0.1913 - categorical_accuracy: 0.9469\n",
      "Epoch 17/30\n",
      "150/150 [==============================] - 0s 792us/step - loss: 0.1838 - categorical_accuracy: 0.9485\n",
      "Epoch 18/30\n",
      "150/150 [==============================] - 0s 854us/step - loss: 0.1793 - categorical_accuracy: 0.9513\n",
      "Epoch 19/30\n",
      "150/150 [==============================] - 0s 854us/step - loss: 0.1730 - categorical_accuracy: 0.9512\n",
      "Epoch 20/30\n",
      "150/150 [==============================] - 0s 837us/step - loss: 0.1664 - categorical_accuracy: 0.9539\n",
      "Epoch 21/30\n",
      "150/150 [==============================] - 0s 811us/step - loss: 0.1604 - categorical_accuracy: 0.9553\n",
      "Epoch 22/30\n",
      "150/150 [==============================] - 0s 807us/step - loss: 0.1559 - categorical_accuracy: 0.9577\n",
      "Epoch 23/30\n",
      "150/150 [==============================] - 0s 975us/step - loss: 0.1505 - categorical_accuracy: 0.9591\n",
      "Epoch 24/30\n",
      "150/150 [==============================] - 0s 810us/step - loss: 0.1457 - categorical_accuracy: 0.9600\n",
      "Epoch 25/30\n",
      "150/150 [==============================] - 0s 883us/step - loss: 0.1414 - categorical_accuracy: 0.9610\n",
      "Epoch 26/30\n",
      "150/150 [==============================] - 0s 876us/step - loss: 0.1374 - categorical_accuracy: 0.9621\n",
      "Epoch 27/30\n",
      "150/150 [==============================] - 0s 844us/step - loss: 0.1337 - categorical_accuracy: 0.9650\n",
      "Epoch 28/30\n",
      "150/150 [==============================] - 0s 819us/step - loss: 0.1291 - categorical_accuracy: 0.9654\n",
      "Epoch 29/30\n",
      "150/150 [==============================] - 0s 1ms/step - loss: 0.1255 - categorical_accuracy: 0.9662\n",
      "Epoch 30/30\n",
      "150/150 [==============================] - 0s 830us/step - loss: 0.1215 - categorical_accuracy: 0.9687\n"
     ]
    }
   ],
   "source": [
    "history = model.fit(x_train, y_train, batch_size=100, epochs=30)"
   ]
  },
  {
   "cell_type": "code",
   "execution_count": 42,
   "metadata": {
    "colab": {
     "base_uri": "https://localhost:8080/"
    },
    "id": "RyvRlJZbQh3R",
    "outputId": "39eea75d-62d0-4654-e338-a369c66e8f6c"
   },
   "outputs": [
    {
     "name": "stdout",
     "output_type": "stream",
     "text": [
      "157/157 [==============================] - 0s 444us/step - loss: 0.2535 - categorical_accuracy: 0.9260\n"
     ]
    },
    {
     "data": {
      "text/plain": [
       "[0.2534971535205841, 0.9259999990463257]"
      ]
     },
     "execution_count": 42,
     "metadata": {},
     "output_type": "execute_result"
    }
   ],
   "source": [
    "model.evaluate(x_test, y_test)"
   ]
  },
  {
   "cell_type": "markdown",
   "metadata": {
    "id": "MGaEusuvKrUl"
   },
   "source": [
    "## Задача\n",
    "\n",
    "Использовать ExponentialDecay для оптимизатора Adam"
   ]
  },
  {
   "cell_type": "code",
   "execution_count": null,
   "metadata": {
    "id": "gVzj8zZ7K-r9"
   },
   "outputs": [],
   "source": [
    "# Ваш код здесь\n"
   ]
  },
  {
   "cell_type": "markdown",
   "metadata": {
    "id": "9Pi-2KzGpp-q"
   },
   "source": [
    "## Регуляризация\n",
    "\n",
    "Для того, чтобы избежать переобучения, мы можем использовать регуляризацию. Для линейных моделей мы использовали L1 и L2 регуляризацию. Для нейросетей обычно используют dropout слой.\n",
    "\n",
    "Интуиция, которая лежит за dropout-слоем состоит в том, что нам не хочется, чтобы модель обучалась по какому-то одному признаку, поэтому мы хотим периодически \"отключать\" на обучении какие-то связи в слое и смотреть как это влияет на прогноз модели.\n",
    "\n",
    "Dropout слой ровно это и делает. Мы можем задать вероятность отключения признака и нейросеть присвоит весу этого признака значение 0. Так как при обучении мы много раз проходим через нейросеть, то мы избежим переобучения.\n",
    "\n",
    "Dropout используется только при обучении, при получении прогноза никакие веса не обнуляются.\n",
    "\n",
    "При этом обучение будет идти быстрее, но сходиться будет медленнее (потребуется больше эпох, чтобы получить такой же результат)\n",
    "\n",
    "Чем больше параметров в слое, тем эффективнее будет dropout"
   ]
  },
  {
   "cell_type": "markdown",
   "metadata": {
    "id": "cYB4v2eft9cP"
   },
   "source": [
    "## Задача\n",
    "\n",
    "Применить `Dropout` к полученной выше нейросети к одному из слоев. Сравнить результат."
   ]
  },
  {
   "cell_type": "code",
   "execution_count": 44,
   "metadata": {
    "colab": {
     "base_uri": "https://localhost:8080/"
    },
    "id": "Vw_RJF34Sc9J",
    "outputId": "f8122a21-c3ea-4d55-c105-70e90d078591"
   },
   "outputs": [
    {
     "data": {
      "text/plain": [
       "<keras.src.layers.regularization.dropout.Dropout at 0x30f290490>"
      ]
     },
     "execution_count": 44,
     "metadata": {},
     "output_type": "execute_result"
    }
   ],
   "source": [
    "Dropout(0.25)"
   ]
  },
  {
   "cell_type": "code",
   "execution_count": 45,
   "metadata": {
    "id": "zOgmw8yBvV44"
   },
   "outputs": [
    {
     "name": "stderr",
     "output_type": "stream",
     "text": [
      "WARNING:absl:At this time, the v2.11+ optimizer `tf.keras.optimizers.Adam` runs slowly on M1/M2 Macs, please use the legacy Keras optimizer instead, located at `tf.keras.optimizers.legacy.Adam`.\n"
     ]
    }
   ],
   "source": [
    "# Ваш код здесь\n",
    "model = Sequential(\n",
    "    [\n",
    "     Dense(32, input_shape=(X.shape[1],), activation='relu'),\n",
    "     Dense(32, activation='relu'),\n",
    "     Dropout(0.5),\n",
    "     Dense(10, activation='softmax')\n",
    "    ]\n",
    ")\n",
    "model.compile(optimizer=Adam(clipnorm=1), loss=categorical_crossentropy, metrics=[categorical_accuracy])"
   ]
  },
  {
   "cell_type": "code",
   "execution_count": 46,
   "metadata": {
    "colab": {
     "base_uri": "https://localhost:8080/"
    },
    "id": "XDqP1EsnT31o",
    "outputId": "b2b64c15-d1dc-400a-fea4-358bee9d49d2"
   },
   "outputs": [
    {
     "name": "stdout",
     "output_type": "stream",
     "text": [
      "Epoch 1/25\n",
      "106/106 [==============================] - 0s 1ms/step - loss: 1.6062 - categorical_accuracy: 0.4481 - val_loss: 0.7588 - val_categorical_accuracy: 0.8327\n",
      "Epoch 2/25\n",
      "106/106 [==============================] - 0s 969us/step - loss: 0.8917 - categorical_accuracy: 0.7112 - val_loss: 0.4670 - val_categorical_accuracy: 0.8920\n",
      "Epoch 3/25\n",
      "106/106 [==============================] - 0s 1ms/step - loss: 0.6994 - categorical_accuracy: 0.7798 - val_loss: 0.3692 - val_categorical_accuracy: 0.9033\n",
      "Epoch 4/25\n",
      "106/106 [==============================] - 0s 996us/step - loss: 0.5866 - categorical_accuracy: 0.8190 - val_loss: 0.3322 - val_categorical_accuracy: 0.9113\n",
      "Epoch 5/25\n",
      "106/106 [==============================] - 0s 950us/step - loss: 0.5283 - categorical_accuracy: 0.8396 - val_loss: 0.2966 - val_categorical_accuracy: 0.9233\n",
      "Epoch 6/25\n",
      "106/106 [==============================] - 0s 986us/step - loss: 0.4771 - categorical_accuracy: 0.8541 - val_loss: 0.2824 - val_categorical_accuracy: 0.9287\n",
      "Epoch 7/25\n",
      "106/106 [==============================] - 0s 961us/step - loss: 0.4433 - categorical_accuracy: 0.8651 - val_loss: 0.2751 - val_categorical_accuracy: 0.9213\n",
      "Epoch 8/25\n",
      "106/106 [==============================] - 0s 1ms/step - loss: 0.4144 - categorical_accuracy: 0.8774 - val_loss: 0.2567 - val_categorical_accuracy: 0.9287\n",
      "Epoch 9/25\n",
      "106/106 [==============================] - 0s 1ms/step - loss: 0.3933 - categorical_accuracy: 0.8817 - val_loss: 0.2487 - val_categorical_accuracy: 0.9333\n",
      "Epoch 10/25\n",
      "106/106 [==============================] - 0s 1ms/step - loss: 0.3704 - categorical_accuracy: 0.8872 - val_loss: 0.2423 - val_categorical_accuracy: 0.9347\n",
      "Epoch 11/25\n",
      "106/106 [==============================] - 0s 1ms/step - loss: 0.3512 - categorical_accuracy: 0.8945 - val_loss: 0.2307 - val_categorical_accuracy: 0.9380\n",
      "Epoch 12/25\n",
      "106/106 [==============================] - 0s 1ms/step - loss: 0.3330 - categorical_accuracy: 0.9013 - val_loss: 0.2235 - val_categorical_accuracy: 0.9387\n",
      "Epoch 13/25\n",
      "106/106 [==============================] - 0s 1ms/step - loss: 0.3215 - categorical_accuracy: 0.9036 - val_loss: 0.2128 - val_categorical_accuracy: 0.9413\n",
      "Epoch 14/25\n",
      "106/106 [==============================] - 0s 1ms/step - loss: 0.3142 - categorical_accuracy: 0.9022 - val_loss: 0.2195 - val_categorical_accuracy: 0.9407\n",
      "Epoch 15/25\n",
      "106/106 [==============================] - 0s 1ms/step - loss: 0.3059 - categorical_accuracy: 0.9070 - val_loss: 0.2098 - val_categorical_accuracy: 0.9420\n",
      "Epoch 16/25\n",
      "106/106 [==============================] - 0s 1ms/step - loss: 0.2880 - categorical_accuracy: 0.9125 - val_loss: 0.2148 - val_categorical_accuracy: 0.9393\n",
      "Epoch 17/25\n",
      "106/106 [==============================] - 0s 1ms/step - loss: 0.2838 - categorical_accuracy: 0.9127 - val_loss: 0.2076 - val_categorical_accuracy: 0.9393\n",
      "Epoch 18/25\n",
      "106/106 [==============================] - 0s 1ms/step - loss: 0.2598 - categorical_accuracy: 0.9217 - val_loss: 0.1987 - val_categorical_accuracy: 0.9420\n",
      "Epoch 19/25\n",
      "106/106 [==============================] - 0s 1ms/step - loss: 0.2617 - categorical_accuracy: 0.9190 - val_loss: 0.2049 - val_categorical_accuracy: 0.9447\n",
      "Epoch 20/25\n",
      "106/106 [==============================] - 0s 1ms/step - loss: 0.2544 - categorical_accuracy: 0.9195 - val_loss: 0.1955 - val_categorical_accuracy: 0.9467\n",
      "Epoch 21/25\n",
      "106/106 [==============================] - 0s 1ms/step - loss: 0.2386 - categorical_accuracy: 0.9264 - val_loss: 0.1952 - val_categorical_accuracy: 0.9440\n",
      "Epoch 22/25\n",
      "106/106 [==============================] - 0s 1ms/step - loss: 0.2350 - categorical_accuracy: 0.9265 - val_loss: 0.1952 - val_categorical_accuracy: 0.9440\n",
      "Epoch 23/25\n",
      "106/106 [==============================] - 0s 1ms/step - loss: 0.2327 - categorical_accuracy: 0.9277 - val_loss: 0.1884 - val_categorical_accuracy: 0.9487\n",
      "Epoch 24/25\n",
      "106/106 [==============================] - 0s 1ms/step - loss: 0.2225 - categorical_accuracy: 0.9286 - val_loss: 0.1913 - val_categorical_accuracy: 0.9453\n",
      "Epoch 25/25\n",
      "106/106 [==============================] - 0s 1ms/step - loss: 0.2221 - categorical_accuracy: 0.9307 - val_loss: 0.1889 - val_categorical_accuracy: 0.9467\n"
     ]
    }
   ],
   "source": [
    "history = model.fit(x_train, y_train, batch_size=128, epochs=25, validation_split=0.1)"
   ]
  },
  {
   "cell_type": "code",
   "execution_count": 47,
   "metadata": {
    "colab": {
     "base_uri": "https://localhost:8080/"
    },
    "id": "9n0e1h1XUJqg",
    "outputId": "6ec91e55-59db-4d61-f894-6b4c1c08d6a4"
   },
   "outputs": [
    {
     "name": "stdout",
     "output_type": "stream",
     "text": [
      "157/157 [==============================] - 0s 424us/step - loss: 0.2294 - categorical_accuracy: 0.9380\n"
     ]
    },
    {
     "data": {
      "text/plain": [
       "[0.22943173348903656, 0.9380000233650208]"
      ]
     },
     "execution_count": 47,
     "metadata": {},
     "output_type": "execute_result"
    }
   ],
   "source": [
    "model.evaluate(x_test, y_test)"
   ]
  },
  {
   "cell_type": "code",
   "execution_count": 48,
   "metadata": {
    "colab": {
     "base_uri": "https://localhost:8080/",
     "height": 282
    },
    "id": "W0XLbUtiUzfv",
    "outputId": "eb158200-a071-4e86-fab0-53e6f182abf8"
   },
   "outputs": [
    {
     "data": {
      "text/plain": [
       "<matplotlib.legend.Legend at 0x3127fdb80>"
      ]
     },
     "execution_count": 48,
     "metadata": {},
     "output_type": "execute_result"
    },
    {
     "data": {
      "image/png": "[encoded data removed]",
      "text/plain": [
       "<Figure size 640x480 with 1 Axes>"
      ]
     },
     "metadata": {},
     "output_type": "display_data"
    }
   ],
   "source": [
    "plt.plot(history.history['loss'])\n",
    "plt.plot(history.history['val_loss'])\n",
    "legend_list = ['loss', 'val_loss']\n",
    "plt.legend(legend_list)"
   ]
  },
  {
   "cell_type": "code",
   "execution_count": 49,
   "metadata": {
    "colab": {
     "base_uri": "https://localhost:8080/",
     "height": 282
    },
    "id": "LwHzsEyqyEeu",
    "outputId": "ae1ce448-a755-4092-b3de-7a423d2ed9d0"
   },
   "outputs": [
    {
     "data": {
      "text/plain": [
       "<matplotlib.legend.Legend at 0x30f369910>"
      ]
     },
     "execution_count": 49,
     "metadata": {},
     "output_type": "execute_result"
    },
    {
     "data": {
      "image/png": "[encoded data removed]",
      "text/plain": [
       "<Figure size 640x480 with 1 Axes>"
      ]
     },
     "metadata": {},
     "output_type": "display_data"
    }
   ],
   "source": [
    "plt.plot(history.history['categorical_accuracy'])\n",
    "plt.plot(history.history['val_categorical_accuracy'])\n",
    "plt.legend(['categorical_accuracy', 'val_categorical_accuracy'])"
   ]
  },
  {
   "cell_type": "markdown",
   "metadata": {
    "id": "T3UZC9-WLCFm"
   },
   "source": [
    "## Сверточные нейронные сети\n",
    "\n",
    "Обучая многослойный перцептрон можно аппроксимировать любую функцию, но для некоторых задач проще использовать другую архитектуру сети. Например, для задач с аудио и картинками хорошо подходит сверточная нейронная сеть (CNN).\n",
    "\n",
    "![pic](../images/conv_nn.png)\n",
    "\n",
    "Сверточная нейронная сеть состоит, как правило, из двух слоев - свертка и пулинг.\n",
    "\n",
    "Свертка получается, когда по исходному изображению проходит скользящее окно в виде квадратной матрицы. На каждом шаге происходит покомпонентное умножение матриц (исходного изображения и ядра - квадратной матрицы). Дальше результат суммируется и записывается в новую матрицу. После чего вся новая матрица проходит через функцию активации (обычно relu).\n",
    "\n",
    "После свертки применяется пулинг. Матрица делится на квадратики (пулы), и в каждом квадратике выбирается наибольшее значение.\n",
    "\n",
    "![pic](../images/convolution+relu.png)\n",
    "\n",
    "Во время обучения подбираются коэфициенты ядра. Как правило, на каждом слое обучают несколько фильтров."
   ]
  },
  {
   "cell_type": "code",
   "execution_count": 44,
   "metadata": {
    "id": "NByGJdSfN1QV"
   },
   "outputs": [],
   "source": [
    "import numpy as np\n",
    "from tensorflow import keras\n",
    "from tensorflow.keras import layers"
   ]
  },
  {
   "cell_type": "markdown",
   "metadata": {
    "id": "bcu2HOKYOOZz"
   },
   "source": [
    "Приводим изображения к размерности (28, 28, 1), потому что картинка черно-белая 28х28"
   ]
  },
  {
   "cell_type": "code",
   "execution_count": 45,
   "metadata": {
    "colab": {
     "base_uri": "https://localhost:8080/"
    },
    "id": "BIzcFmXZI2Ze",
    "outputId": "bdd17f93-bb9b-4065-9b70-a8e42c67cbed"
   },
   "outputs": [
    {
     "data": {
      "text/plain": [
       "(15000, 28, 28, 1)"
      ]
     },
     "execution_count": 45,
     "metadata": {},
     "output_type": "execute_result"
    }
   ],
   "source": [
    "X_images = X.values.reshape(-1, 28, 28, 1)\n",
    "x_train, x_test, y_train, y_test = train_test_split(X_images, y)\n",
    "x_train.shape"
   ]
  },
  {
   "cell_type": "code",
   "execution_count": 46,
   "metadata": {
    "id": "ul2uks0VNjpd"
   },
   "outputs": [],
   "source": [
    "model = Sequential(\n",
    "    [\n",
    "        keras.Input(shape=(28, 28, 1)),\n",
    "        layers.Conv2D(64, kernel_size=(3, 3), activation=\"relu\"),\n",
    "        layers.MaxPooling2D(pool_size=(2, 2)),\n",
    "        layers.Conv2D(64, kernel_size=(3, 3), activation=\"relu\"),\n",
    "        layers.MaxPooling2D(pool_size=(2, 2)),\n",
    "        layers.Conv2D(64, kernel_size=(3, 3), activation=\"relu\"),\n",
    "        layers.MaxPooling2D(pool_size=(2, 2)),\n",
    "        layers.Flatten(),\n",
    "        layers.Dense(10, activation=\"softmax\"),\n",
    "    ]\n",
    ")\n",
    "\n",
    "batch_size = 128\n",
    "epochs = 5\n",
    "\n",
    "model.compile(loss=\"categorical_crossentropy\", optimizer=\"adam\", metrics=[\"accuracy\"])"
   ]
  },
  {
   "cell_type": "code",
   "execution_count": 49,
   "metadata": {},
   "outputs": [
    {
     "data": {
      "text/plain": [
       "32448"
      ]
     },
     "execution_count": 49,
     "metadata": {},
     "output_type": "execute_result"
    }
   ],
   "source": [
    "(13 * 13 * 64) * 3"
   ]
  },
  {
   "cell_type": "code",
   "execution_count": 47,
   "metadata": {
    "colab": {
     "base_uri": "https://localhost:8080/"
    },
    "id": "DpNiS477rIOv",
    "outputId": "8883aecf-098d-49d8-be9e-e4d87db011e4"
   },
   "outputs": [
    {
     "name": "stdout",
     "output_type": "stream",
     "text": [
      "Model: \"sequential_12\"\n",
      "_________________________________________________________________\n",
      " Layer (type)                Output Shape              Param #   \n",
      "=================================================================\n",
      " conv2d (Conv2D)             (None, 26, 26, 64)        640       \n",
      "                                                                 \n",
      " max_pooling2d (MaxPooling2  (None, 13, 13, 64)        0         \n",
      " D)                                                              \n",
      "                                                                 \n",
      " conv2d_1 (Conv2D)           (None, 11, 11, 64)        36928     \n",
      "                                                                 \n",
      " max_pooling2d_1 (MaxPoolin  (None, 5, 5, 64)          0         \n",
      " g2D)                                                            \n",
      "                                                                 \n",
      " conv2d_2 (Conv2D)           (None, 3, 3, 64)          36928     \n",
      "                                                                 \n",
      " max_pooling2d_2 (MaxPoolin  (None, 1, 1, 64)          0         \n",
      " g2D)                                                            \n",
      "                                                                 \n",
      " flatten (Flatten)           (None, 64)                0         \n",
      "                                                                 \n",
      " dense_42 (Dense)            (None, 10)                650       \n",
      "                                                                 \n",
      "=================================================================\n",
      "Total params: 75146 (293.54 KB)\n",
      "Trainable params: 75146 (293.54 KB)\n",
      "Non-trainable params: 0 (0.00 Byte)\n",
      "_________________________________________________________________\n"
     ]
    }
   ],
   "source": [
    "model.summary()"
   ]
  },
  {
   "cell_type": "code",
   "execution_count": 50,
   "metadata": {
    "colab": {
     "base_uri": "https://localhost:8080/"
    },
    "id": "o3x9GA_sOlIx",
    "outputId": "83ba8097-53cf-4051-a0b9-0f0aa4c6f8fa"
   },
   "outputs": [
    {
     "name": "stdout",
     "output_type": "stream",
     "text": [
      "Epoch 1/20\n",
      "106/106 [==============================] - 4s 34ms/step - loss: 0.7554 - accuracy: 0.7838 - val_loss: 0.3024 - val_accuracy: 0.9133\n",
      "Epoch 2/20\n",
      "106/106 [==============================] - 3s 33ms/step - loss: 0.2002 - accuracy: 0.9385 - val_loss: 0.2008 - val_accuracy: 0.9413\n",
      "Epoch 3/20\n",
      "106/106 [==============================] - 3s 33ms/step - loss: 0.1452 - accuracy: 0.9561 - val_loss: 0.1678 - val_accuracy: 0.9507\n",
      "Epoch 4/20\n",
      "106/106 [==============================] - 3s 33ms/step - loss: 0.1161 - accuracy: 0.9633 - val_loss: 0.1329 - val_accuracy: 0.9580\n",
      "Epoch 5/20\n",
      "106/106 [==============================] - 4s 34ms/step - loss: 0.0875 - accuracy: 0.9743 - val_loss: 0.1232 - val_accuracy: 0.9653\n",
      "Epoch 6/20\n",
      "106/106 [==============================] - 4s 34ms/step - loss: 0.0725 - accuracy: 0.9781 - val_loss: 0.1188 - val_accuracy: 0.9667\n",
      "Epoch 7/20\n",
      "106/106 [==============================] - 4s 34ms/step - loss: 0.0640 - accuracy: 0.9804 - val_loss: 0.1006 - val_accuracy: 0.9693\n",
      "Epoch 8/20\n",
      "106/106 [==============================] - 4s 33ms/step - loss: 0.0623 - accuracy: 0.9801 - val_loss: 0.0997 - val_accuracy: 0.9720\n",
      "Epoch 9/20\n",
      "106/106 [==============================] - 4s 33ms/step - loss: 0.0500 - accuracy: 0.9833 - val_loss: 0.1028 - val_accuracy: 0.9733\n",
      "Epoch 10/20\n",
      "106/106 [==============================] - 4s 34ms/step - loss: 0.0419 - accuracy: 0.9869 - val_loss: 0.1040 - val_accuracy: 0.9673\n",
      "Epoch 11/20\n",
      "106/106 [==============================] - 4s 34ms/step - loss: 0.0422 - accuracy: 0.9859 - val_loss: 0.0911 - val_accuracy: 0.9693\n",
      "Epoch 12/20\n",
      "106/106 [==============================] - 4s 34ms/step - loss: 0.0304 - accuracy: 0.9895 - val_loss: 0.0879 - val_accuracy: 0.9740\n",
      "Epoch 13/20\n",
      "106/106 [==============================] - 4s 35ms/step - loss: 0.0285 - accuracy: 0.9906 - val_loss: 0.1122 - val_accuracy: 0.9713\n",
      "Epoch 14/20\n",
      "106/106 [==============================] - 4s 35ms/step - loss: 0.0249 - accuracy: 0.9917 - val_loss: 0.0805 - val_accuracy: 0.9733\n",
      "Epoch 15/20\n",
      "106/106 [==============================] - 4s 33ms/step - loss: 0.0192 - accuracy: 0.9933 - val_loss: 0.1224 - val_accuracy: 0.9673\n",
      "Epoch 16/20\n",
      "106/106 [==============================] - 4s 34ms/step - loss: 0.0229 - accuracy: 0.9924 - val_loss: 0.0909 - val_accuracy: 0.9767\n",
      "Epoch 17/20\n",
      "106/106 [==============================] - 4s 33ms/step - loss: 0.0128 - accuracy: 0.9962 - val_loss: 0.0862 - val_accuracy: 0.9747\n",
      "Epoch 18/20\n",
      "106/106 [==============================] - 4s 34ms/step - loss: 0.0122 - accuracy: 0.9965 - val_loss: 0.1087 - val_accuracy: 0.9747\n",
      "Epoch 19/20\n",
      "106/106 [==============================] - 3s 33ms/step - loss: 0.0126 - accuracy: 0.9960 - val_loss: 0.1217 - val_accuracy: 0.9680\n",
      "Epoch 20/20\n",
      "106/106 [==============================] - 4s 34ms/step - loss: 0.0112 - accuracy: 0.9961 - val_loss: 0.1174 - val_accuracy: 0.9713\n"
     ]
    }
   ],
   "source": [
    "history = model.fit(x_train, y_train, batch_size=batch_size, epochs=20, validation_split=0.1)"
   ]
  },
  {
   "cell_type": "code",
   "execution_count": 51,
   "metadata": {
    "colab": {
     "base_uri": "https://localhost:8080/",
     "height": 282
    },
    "id": "qKAJctrYO9um",
    "outputId": "8c4f81ab-0a9e-428f-ed97-7e0651b301fa"
   },
   "outputs": [
    {
     "data": {
      "text/plain": [
       "<matplotlib.legend.Legend at 0x30e39b280>"
      ]
     },
     "execution_count": 51,
     "metadata": {},
     "output_type": "execute_result"
    },
    {
     "data": {
      "image/png": "[encoded data removed]",
      "text/plain": [
       "<Figure size 640x480 with 1 Axes>"
      ]
     },
     "metadata": {},
     "output_type": "display_data"
    }
   ],
   "source": [
    "plt.plot(history.history['loss'])\n",
    "plt.plot(history.history['val_loss'])\n",
    "plt.legend(['loss', 'val_loss'])"
   ]
  },
  {
   "cell_type": "code",
   "execution_count": 52,
   "metadata": {
    "colab": {
     "base_uri": "https://localhost:8080/"
    },
    "id": "D4RlaFuGPmfW",
    "outputId": "cdf4b5ee-562e-4184-b827-84afd0f18707"
   },
   "outputs": [
    {
     "name": "stdout",
     "output_type": "stream",
     "text": [
      "157/157 [==============================] - 1s 5ms/step - loss: 0.1155 - accuracy: 0.9706\n"
     ]
    },
    {
     "data": {
      "text/plain": [
       "[0.11551973968744278, 0.9706000089645386]"
      ]
     },
     "execution_count": 52,
     "metadata": {},
     "output_type": "execute_result"
    }
   ],
   "source": [
    "model.evaluate(x_test, y_test)"
   ]
  },
  {
   "cell_type": "code",
   "execution_count": 53,
   "metadata": {
    "colab": {
     "base_uri": "https://localhost:8080/"
    },
    "id": "9emz1P1H2S-6",
    "outputId": "4a4d4a0c-d8f1-4c3d-b9b3-3bc4f65ecb7a"
   },
   "outputs": [
    {
     "name": "stdout",
     "output_type": "stream",
     "text": [
      "157/157 [==============================] - 1s 5ms/step\n"
     ]
    },
    {
     "data": {
      "text/plain": [
       "array([[482,   0,   1,   1,   0,   0,   1,   0,   2,   0],\n",
       "       [  0, 533,   4,   0,   4,   0,   0,   1,   0,   0],\n",
       "       [  0,   0, 469,   8,   3,   0,   0,   3,   1,   0],\n",
       "       [  1,   1,   4, 541,   0,   1,   0,   3,   0,   3],\n",
       "       [  0,   0,   0,   0, 470,   0,   0,   0,   0,   4],\n",
       "       [  2,   0,   0,   4,   2, 406,   1,   0,   5,   1],\n",
       "       [  5,   0,   0,   0,   4,   2, 517,   0,   4,   0],\n",
       "       [  3,   3,  11,  12,   2,   0,   0, 474,   0,  19],\n",
       "       [  1,   0,   0,   2,   2,   0,   0,   0, 446,   5],\n",
       "       [  4,   0,   0,   1,   5,   0,   0,   1,   0, 515]])"
      ]
     },
     "execution_count": 53,
     "metadata": {},
     "output_type": "execute_result"
    }
   ],
   "source": [
    "y_pred = model.predict(x_test)\n",
    "from sklearn.metrics import confusion_matrix\n",
    "confusion_matrix(y_test.argmax(axis=1), y_pred.argmax(axis=1))"
   ]
  },
  {
   "cell_type": "code",
   "execution_count": 56,
   "metadata": {
    "id": "MKZcxUWi6zlC"
   },
   "outputs": [],
   "source": [
    "idx = y_test.argmax(axis=1) != y_pred.argmax(axis=1)\n",
    "x_wrong = x_test[idx]\n",
    "y_pred_wrong = y_pred.argmax(axis=1)[idx]\n",
    "y_test_wrong = y_test.argmax(axis=1)[idx]\n"
   ]
  },
  {
   "cell_type": "code",
   "execution_count": 58,
   "metadata": {},
   "outputs": [
    {
     "data": {
      "image/png": "[encoded data removed]",
      "text/plain": [
       "<Figure size 640x480 with 1 Axes>"
      ]
     },
     "metadata": {},
     "output_type": "display_data"
    },
    {
     "data": {
      "image/png": "[encoded data removed]",
      "text/plain": [
       "<Figure size 640x480 with 1 Axes>"
      ]
     },
     "metadata": {},
     "output_type": "display_data"
    },
    {
     "data": {
      "image/png": "[encoded data removed]",
      "text/plain": [
       "<Figure size 640x480 with 1 Axes>"
      ]
     },
     "metadata": {},
     "output_type": "display_data"
    },
    {
     "data": {
      "image/png": "[encoded data removed]",
      "text/plain": [
       "<Figure size 640x480 with 1 Axes>"
      ]
     },
     "metadata": {},
     "output_type": "display_data"
    },
    {
     "data": {
      "image/png": "[encoded data removed]",
      "text/plain": [
       "<Figure size 640x480 with 1 Axes>"
      ]
     },
     "metadata": {},
     "output_type": "display_data"
    },
    {
     "data": {
      "image/png": "[encoded data removed]",
      "text/plain": [
       "<Figure size 640x480 with 1 Axes>"
      ]
     },
     "metadata": {},
     "output_type": "display_data"
    },
    {
     "data": {
      "image/png": "[encoded data removed]",
      "text/plain": [
       "<Figure size 640x480 with 1 Axes>"
      ]
     },
     "metadata": {},
     "output_type": "display_data"
    },
    {
     "data": {
      "image/png": "[encoded data removed]",
      "text/plain": [
       "<Figure size 640x480 with 1 Axes>"
      ]
     },
     "metadata": {},
     "output_type": "display_data"
    },
    {
     "data": {
      "image/png": "[encoded data removed]",
      "text/plain": [
       "<Figure size 640x480 with 1 Axes>"
      ]
     },
     "metadata": {},
     "output_type": "display_data"
    },
    {
     "data": {
      "image/png": "[encoded data removed]",
      "text/plain": [
       "<Figure size 640x480 with 1 Axes>"
      ]
     },
     "metadata": {},
     "output_type": "display_data"
    }
   ],
   "source": [
    "for i in range(10):\n",
    "    plt.figure()\n",
    "    plt.imshow(x_wrong[i, :, :, :])\n",
    "    plt.title(f\"test={y_test_wrong[i]} pred={y_pred_wrong[i]}\")"
   ]
  },
  {
   "cell_type": "code",
   "execution_count": 55,
   "metadata": {
    "colab": {
     "base_uri": "https://localhost:8080/"
    },
    "id": "S8g1ChBh-vfa",
    "outputId": "3f510dbe-f0c4-41b5-8eed-a1b4f34e2c76"
   },
   "outputs": [
    {
     "data": {
      "text/plain": [
       "((5000, 10), (147,))"
      ]
     },
     "execution_count": 55,
     "metadata": {},
     "output_type": "execute_result"
    }
   ],
   "source": [
    "y_test.shape, y_pred_wrong.shape"
   ]
  },
  {
   "cell_type": "markdown",
   "metadata": {
    "id": "3sKy6t3RITmg"
   },
   "source": [
    "## Задача\n",
    "\n",
    "Взять данные с Kaggle по датасету [Fashion MNIST](https://www.kaggle.com/zalando-research/fashionmnist?select=fashion-mnist_train.csv).\n",
    "\n",
    "В датасете представлены картинки одежды, нужно построить классификатор, который определит, что находится на картинке.\n",
    "\n",
    "Обучить на этих данных сверточную нейронную сеть. Можно использовать архитектуру из примера выше, можно ее усложнить.\n",
    "\n",
    "Оценить качество модели."
   ]
  },
  {
   "cell_type": "code",
   "execution_count": 60,
   "metadata": {},
   "outputs": [
    {
     "data": {
      "text/html": [
       "<div>\n",
       "<style scoped>\n",
       "    .dataframe tbody tr th:only-of-type {\n",
       "        vertical-align: middle;\n",
       "    }\n",
       "\n",
       "    .dataframe tbody tr th {\n",
       "        vertical-align: top;\n",
       "    }\n",
       "\n",
       "    .dataframe thead th {\n",
       "        text-align: right;\n",
       "    }\n",
       "</style>\n",
       "<table border=\"1\" class=\"dataframe\">\n",
       "  <thead>\n",
       "    <tr style=\"text-align: right;\">\n",
       "      <th></th>\n",
       "      <th>label</th>\n",
       "      <th>pixel1</th>\n",
       "      <th>pixel2</th>\n",
       "      <th>pixel3</th>\n",
       "      <th>pixel4</th>\n",
       "      <th>pixel5</th>\n",
       "      <th>pixel6</th>\n",
       "      <th>pixel7</th>\n",
       "      <th>pixel8</th>\n",
       "      <th>pixel9</th>\n",
       "      <th>...</th>\n",
       "      <th>pixel775</th>\n",
       "      <th>pixel776</th>\n",
       "      <th>pixel777</th>\n",
       "      <th>pixel778</th>\n",
       "      <th>pixel779</th>\n",
       "      <th>pixel780</th>\n",
       "      <th>pixel781</th>\n",
       "      <th>pixel782</th>\n",
       "      <th>pixel783</th>\n",
       "      <th>pixel784</th>\n",
       "    </tr>\n",
       "  </thead>\n",
       "  <tbody>\n",
       "    <tr>\n",
       "      <th>0</th>\n",
       "      <td>2</td>\n",
       "      <td>0</td>\n",
       "      <td>0</td>\n",
       "      <td>0</td>\n",
       "      <td>0</td>\n",
       "      <td>0</td>\n",
       "      <td>0</td>\n",
       "      <td>0</td>\n",
       "      <td>0</td>\n",
       "      <td>0</td>\n",
       "      <td>...</td>\n",
       "      <td>0</td>\n",
       "      <td>0</td>\n",
       "      <td>0</td>\n",
       "      <td>0</td>\n",
       "      <td>0</td>\n",
       "      <td>0</td>\n",
       "      <td>0</td>\n",
       "      <td>0</td>\n",
       "      <td>0</td>\n",
       "      <td>0</td>\n",
       "    </tr>\n",
       "    <tr>\n",
       "      <th>1</th>\n",
       "      <td>9</td>\n",
       "      <td>0</td>\n",
       "      <td>0</td>\n",
       "      <td>0</td>\n",
       "      <td>0</td>\n",
       "      <td>0</td>\n",
       "      <td>0</td>\n",
       "      <td>0</td>\n",
       "      <td>0</td>\n",
       "      <td>0</td>\n",
       "      <td>...</td>\n",
       "      <td>0</td>\n",
       "      <td>0</td>\n",
       "      <td>0</td>\n",
       "      <td>0</td>\n",
       "      <td>0</td>\n",
       "      <td>0</td>\n",
       "      <td>0</td>\n",
       "      <td>0</td>\n",
       "      <td>0</td>\n",
       "      <td>0</td>\n",
       "    </tr>\n",
       "    <tr>\n",
       "      <th>2</th>\n",
       "      <td>6</td>\n",
       "      <td>0</td>\n",
       "      <td>0</td>\n",
       "      <td>0</td>\n",
       "      <td>0</td>\n",
       "      <td>0</td>\n",
       "      <td>0</td>\n",
       "      <td>0</td>\n",
       "      <td>5</td>\n",
       "      <td>0</td>\n",
       "      <td>...</td>\n",
       "      <td>0</td>\n",
       "      <td>0</td>\n",
       "      <td>0</td>\n",
       "      <td>30</td>\n",
       "      <td>43</td>\n",
       "      <td>0</td>\n",
       "      <td>0</td>\n",
       "      <td>0</td>\n",
       "      <td>0</td>\n",
       "      <td>0</td>\n",
       "    </tr>\n",
       "    <tr>\n",
       "      <th>3</th>\n",
       "      <td>0</td>\n",
       "      <td>0</td>\n",
       "      <td>0</td>\n",
       "      <td>0</td>\n",
       "      <td>1</td>\n",
       "      <td>2</td>\n",
       "      <td>0</td>\n",
       "      <td>0</td>\n",
       "      <td>0</td>\n",
       "      <td>0</td>\n",
       "      <td>...</td>\n",
       "      <td>3</td>\n",
       "      <td>0</td>\n",
       "      <td>0</td>\n",
       "      <td>0</td>\n",
       "      <td>0</td>\n",
       "      <td>1</td>\n",
       "      <td>0</td>\n",
       "      <td>0</td>\n",
       "      <td>0</td>\n",
       "      <td>0</td>\n",
       "    </tr>\n",
       "    <tr>\n",
       "      <th>4</th>\n",
       "      <td>3</td>\n",
       "      <td>0</td>\n",
       "      <td>0</td>\n",
       "      <td>0</td>\n",
       "      <td>0</td>\n",
       "      <td>0</td>\n",
       "      <td>0</td>\n",
       "      <td>0</td>\n",
       "      <td>0</td>\n",
       "      <td>0</td>\n",
       "      <td>...</td>\n",
       "      <td>0</td>\n",
       "      <td>0</td>\n",
       "      <td>0</td>\n",
       "      <td>0</td>\n",
       "      <td>0</td>\n",
       "      <td>0</td>\n",
       "      <td>0</td>\n",
       "      <td>0</td>\n",
       "      <td>0</td>\n",
       "      <td>0</td>\n",
       "    </tr>\n",
       "  </tbody>\n",
       "</table>\n",
       "<p>5 rows × 785 columns</p>\n",
       "</div>"
      ],
      "text/plain": [
       "   label  pixel1  pixel2  pixel3  pixel4  pixel5  pixel6  pixel7  pixel8  \\\n",
       "0      2       0       0       0       0       0       0       0       0   \n",
       "1      9       0       0       0       0       0       0       0       0   \n",
       "2      6       0       0       0       0       0       0       0       5   \n",
       "3      0       0       0       0       1       2       0       0       0   \n",
       "4      3       0       0       0       0       0       0       0       0   \n",
       "\n",
       "   pixel9  ...  pixel775  pixel776  pixel777  pixel778  pixel779  pixel780  \\\n",
       "0       0  ...         0         0         0         0         0         0   \n",
       "1       0  ...         0         0         0         0         0         0   \n",
       "2       0  ...         0         0         0        30        43         0   \n",
       "3       0  ...         3         0         0         0         0         1   \n",
       "4       0  ...         0         0         0         0         0         0   \n",
       "\n",
       "   pixel781  pixel782  pixel783  pixel784  \n",
       "0         0         0         0         0  \n",
       "1         0         0         0         0  \n",
       "2         0         0         0         0  \n",
       "3         0         0         0         0  \n",
       "4         0         0         0         0  \n",
       "\n",
       "[5 rows x 785 columns]"
      ]
     },
     "execution_count": 60,
     "metadata": {},
     "output_type": "execute_result"
    }
   ],
   "source": [
    "df = pd.read_csv('../data/fashion_mnist/fashion-mnist_train.csv')\n",
    "df.head()\n",
    "\n"
   ]
  },
  {
   "cell_type": "code",
   "execution_count": null,
   "metadata": {
    "id": "wAzSyr0PANSQ"
   },
   "outputs": [],
   "source": [
    "! unzip fashion-mnist_train.csv.zip"
   ]
  },
  {
   "cell_type": "code",
   "execution_count": null,
   "metadata": {
    "id": "vbIkUohzv8pB"
   },
   "outputs": [],
   "source": [
    "# Ваш код здесь\n",
    "{\n",
    "  0: 'T-shirt/top',\n",
    "  1: 'Trouser',\n",
    "  2: 'Pullover',\n",
    "  3: 'Dress',\n",
    "  4: 'Coat',\n",
    "  5: 'Sandal',\n",
    "  6: 'Shirt',\n",
    "  7: 'Sneaker',\n",
    "  8: 'Bag',\n",
    "  9: 'Ankle boot',\n",
    "}"
   ]
  },
  {
   "cell_type": "markdown",
   "metadata": {
    "id": "DUuGA0lGJEOJ"
   },
   "source": [
    "## Задача\n",
    "\n",
    "По этим же данным построить модель логистической регрессии. Сравнить результаты."
   ]
  },
  {
   "cell_type": "code",
   "execution_count": null,
   "metadata": {
    "id": "n73NQlXyKTwU"
   },
   "outputs": [],
   "source": [
    "from sklearn.linear_model import LogisticRegression\n",
    "from sklearn.metrics import accuracy_score"
   ]
  },
  {
   "cell_type": "code",
   "execution_count": null,
   "metadata": {},
   "outputs": [],
   "source": []
  },
  {
   "cell_type": "markdown",
   "metadata": {
    "id": "IYnH81Llmr33"
   },
   "source": [
    "## Полезные ссылки\n",
    "\n",
    "- [Учебник ШАДа по сверточным сетям](https://education.yandex.ru/handbook/ml/article/svyortochnye-nejroseti)\n",
    "- [Как сверточные сети видят мир](https://blog.keras.io/how-convolutional-neural-networks-see-the-world.html)\n",
    "- [Еще про сверточные сети](https://habr.com/ru/post/348000/)\n",
    "- [Исследование про интерпретацию картиночных сеток](https://distill.pub/2020/circuits/zoom-in/)"
   ]
  },
  {
   "cell_type": "code",
   "execution_count": null,
   "metadata": {
    "id": "X-lYf-Y5mwgI"
   },
   "outputs": [],
   "source": []
  }
 ],
 "metadata": {
  "accelerator": "GPU",
  "colab": {
   "provenance": []
  },
  "kernelspec": {
   "display_name": "Python 3 (ipykernel)",
   "language": "python",
   "name": "python3"
  },
  "language_info": {
   "codemirror_mode": {
    "name": "ipython",
    "version": 3
   },
   "file_extension": ".py",
   "mimetype": "text/x-python",
   "name": "python",
   "nbconvert_exporter": "python",
   "pygments_lexer": "ipython3",
   "version": "3.9.19"
  }
 },
 "nbformat": 4,
 "nbformat_minor": 4
}
