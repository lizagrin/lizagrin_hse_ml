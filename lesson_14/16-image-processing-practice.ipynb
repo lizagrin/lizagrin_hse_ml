{
 "cells": [
  {
   "cell_type": "code",
   "execution_count": 1,
   "metadata": {
    "id": "K12MPvLBJnBH"
   },
   "outputs": [],
   "source": [
    "import pandas as pd\n",
    "import numpy as np\n",
    "import matplotlib.pyplot as plt\n",
    "import tensorflow as tf\n",
    "\n",
    "from tensorflow.keras import Sequential\n",
    "from tensorflow.keras.layers import Dense, Dropout\n",
    "from tensorflow.keras.metrics import categorical_crossentropy, categorical_accuracy\n",
    "from tensorflow.keras.optimizers import SGD\n",
    "from tensorflow.keras.utils import to_categorical\n",
    "\n",
    "from sklearn.model_selection import train_test_split"
   ]
  },
  {
   "cell_type": "code",
   "execution_count": 2,
   "metadata": {
    "colab": {
     "base_uri": "https://localhost:8080/"
    },
    "id": "lCkNgTYrTef9",
    "outputId": "9e8b9157-2dfe-45a2-b959-00c830344e3d"
   },
   "outputs": [
    {
     "data": {
      "text/plain": [
       "[]"
      ]
     },
     "execution_count": 2,
     "metadata": {},
     "output_type": "execute_result"
    }
   ],
   "source": [
    "tf.config.list_physical_devices('GPU')"
   ]
  },
  {
   "cell_type": "markdown",
   "metadata": {
    "id": "kZWr6h_PGLhT"
   },
   "source": [
    "# Нейронные сети\n",
    "\n",
    "Нейронные сети - очень широкая тема. Мы на практике попробуем посмотреть самые простые примеры и сравним их с классическими методами, которые изучали раньше.\n",
    "\n",
    "Будем использовать Keras с бэкендом на Tensorflow.\n",
    "\n",
    "[Тут](https://keras.io/examples/) есть очень много примеров для разных задач.\n",
    "\n",
    "Также в keras/tf есть возможность самому написать алгоритм обучение и получения предсказания для сети. Этот материал выходит за рамки нашего курса, но при желании можно ознакомиться, например, [здесь](https://keras.io/guides/customizing_what_happens_in_fit/).\n",
    "\n",
    "А еще сейчас все по-тихоньку уходят от тензорфлоу в сторону [Pytorch](https://pytorch.org/), поэтому свои проекты полезнее делать на нем."
   ]
  },
  {
   "cell_type": "markdown",
   "metadata": {
    "id": "-KCs6wLVvzDr"
   },
   "source": [
    "## Основы\n",
    "\n",
    "Единица вычисления в нейросети - нейрон. Нейрон - это функция, которая принимает число (вектор) и возвращает какое-то другое число.\n",
    "\n",
    "Нейрон принимает на вход вектор, считает взвешенную сумму элементов, применяет функцию активации (например, сигмоидальную, как в логистической регресси) и отдает результат следующему нейрону.\n",
    "\n",
    "Нейроны обычно организуют в слои. Пример на картинке ниже\n",
    "\n",
    "![pic](../images/nn_example.svg)\n",
    "\n",
    "В любой нейросети есть входной, скрытый и выходной слой. Скрытых слоев может быть очень много.\n",
    "\n",
    "Каждая связь описывается весом. Переход от одного слоя к другому происходит через умножение матриц и применение функции активации к результату.\n",
    "\n",
    "Если мы хотим получить прогноз по вектору значений, то мы последовательно проводим вектор через все слои и на выходе получаем нужное значение.\n",
    "\n",
    "Процесс подбора параметров - обучение нейросети.\n",
    "\n",
    "Для обучения сети обычно применяют метод обратного распространения ошибки. Основная идея в том, что мы движемся от последнего слоя к первому и изменяем веса каждого слоя так, чтобы общая ошибка уменьшилась.\n",
    "\n",
    "## Функции активации\n",
    "\n",
    "Обычно используют следующие функции активации:\n",
    "\n",
    "- сигмоидальную (как в логистической регрессии)\n",
    "- гиперболический тангенс\n",
    "- ReLU\n",
    "- линейная функция\n",
    "- пороговая функция"
   ]
  },
  {
   "cell_type": "markdown",
   "metadata": {
    "id": "NQtgfSHY4Bjq"
   },
   "source": [
    "## Как проходит обучение\n",
    "\n",
    "Допустим, у нас было 10к фотографий.\n",
    "\n",
    "Данные делят на тренировочную и тестовую выборку. Для обучения используют тренировочную выборку, а тестовую выборку откладывают. Мы взяли для обучения 8к фотографий и отложили оставшиеся 2к.\n",
    "\n",
    "Тренировочную выборку делят на батчи (например, по 10 записей) и для каждого батча запускают алгоритм оптимизации (например, SGD). Таким образом, мы разбиваем данные на 800 кусочков и столько раз прогоняем SGD. Это называется эпохой обучения. Чтобы посчитать ошибку используют лосс-функцию. Для задач классификации обычно используют [кросс-энтропию](https://ru.wikipedia.org/wiki/%D0%9F%D0%B5%D1%80%D0%B5%D0%BA%D1%80%D1%91%D1%81%D1%82%D0%BD%D0%B0%D1%8F_%D1%8D%D0%BD%D1%82%D1%80%D0%BE%D0%BF%D0%B8%D1%8F).\n",
    "\n",
    "Затем мы можем по-другому разбить на батчи и запустить новую эпоху обучения.\n",
    "\n",
    "Изменения весов, полученные от разных батчей, можно считать параллельно, поэтому обучение на GPU проходит гораздо быстрее, чем обучение на CPU."
   ]
  },
  {
   "cell_type": "markdown",
   "metadata": {
    "id": "fx7m3Z7sDhSk"
   },
   "source": [
    "Прочитаем данные, разобьем на треин и тест, построим модель"
   ]
  },
  {
   "cell_type": "code",
   "execution_count": 5,
   "metadata": {
    "colab": {
     "base_uri": "https://localhost:8080/",
     "height": 236
    },
    "id": "Erb_d-AiJz5G",
    "outputId": "ccb29bf1-327e-4902-e641-161145d0e468"
   },
   "outputs": [
    {
     "data": {
      "text/html": [
       "<div>\n",
       "<style scoped>\n",
       "    .dataframe tbody tr th:only-of-type {\n",
       "        vertical-align: middle;\n",
       "    }\n",
       "\n",
       "    .dataframe tbody tr th {\n",
       "        vertical-align: top;\n",
       "    }\n",
       "\n",
       "    .dataframe thead th {\n",
       "        text-align: right;\n",
       "    }\n",
       "</style>\n",
       "<table border=\"1\" class=\"dataframe\">\n",
       "  <thead>\n",
       "    <tr style=\"text-align: right;\">\n",
       "      <th></th>\n",
       "      <th>0</th>\n",
       "      <th>1</th>\n",
       "      <th>2</th>\n",
       "      <th>3</th>\n",
       "      <th>4</th>\n",
       "      <th>5</th>\n",
       "      <th>6</th>\n",
       "      <th>7</th>\n",
       "      <th>8</th>\n",
       "      <th>9</th>\n",
       "      <th>...</th>\n",
       "      <th>775</th>\n",
       "      <th>776</th>\n",
       "      <th>777</th>\n",
       "      <th>778</th>\n",
       "      <th>779</th>\n",
       "      <th>780</th>\n",
       "      <th>781</th>\n",
       "      <th>782</th>\n",
       "      <th>783</th>\n",
       "      <th>784</th>\n",
       "    </tr>\n",
       "  </thead>\n",
       "  <tbody>\n",
       "    <tr>\n",
       "      <th>0</th>\n",
       "      <td>6</td>\n",
       "      <td>0</td>\n",
       "      <td>0</td>\n",
       "      <td>0</td>\n",
       "      <td>0</td>\n",
       "      <td>0</td>\n",
       "      <td>0</td>\n",
       "      <td>0</td>\n",
       "      <td>0</td>\n",
       "      <td>0</td>\n",
       "      <td>...</td>\n",
       "      <td>0</td>\n",
       "      <td>0</td>\n",
       "      <td>0</td>\n",
       "      <td>0</td>\n",
       "      <td>0</td>\n",
       "      <td>0</td>\n",
       "      <td>0</td>\n",
       "      <td>0</td>\n",
       "      <td>0</td>\n",
       "      <td>0</td>\n",
       "    </tr>\n",
       "    <tr>\n",
       "      <th>1</th>\n",
       "      <td>5</td>\n",
       "      <td>0</td>\n",
       "      <td>0</td>\n",
       "      <td>0</td>\n",
       "      <td>0</td>\n",
       "      <td>0</td>\n",
       "      <td>0</td>\n",
       "      <td>0</td>\n",
       "      <td>0</td>\n",
       "      <td>0</td>\n",
       "      <td>...</td>\n",
       "      <td>0</td>\n",
       "      <td>0</td>\n",
       "      <td>0</td>\n",
       "      <td>0</td>\n",
       "      <td>0</td>\n",
       "      <td>0</td>\n",
       "      <td>0</td>\n",
       "      <td>0</td>\n",
       "      <td>0</td>\n",
       "      <td>0</td>\n",
       "    </tr>\n",
       "    <tr>\n",
       "      <th>2</th>\n",
       "      <td>7</td>\n",
       "      <td>0</td>\n",
       "      <td>0</td>\n",
       "      <td>0</td>\n",
       "      <td>0</td>\n",
       "      <td>0</td>\n",
       "      <td>0</td>\n",
       "      <td>0</td>\n",
       "      <td>0</td>\n",
       "      <td>0</td>\n",
       "      <td>...</td>\n",
       "      <td>0</td>\n",
       "      <td>0</td>\n",
       "      <td>0</td>\n",
       "      <td>0</td>\n",
       "      <td>0</td>\n",
       "      <td>0</td>\n",
       "      <td>0</td>\n",
       "      <td>0</td>\n",
       "      <td>0</td>\n",
       "      <td>0</td>\n",
       "    </tr>\n",
       "    <tr>\n",
       "      <th>3</th>\n",
       "      <td>9</td>\n",
       "      <td>0</td>\n",
       "      <td>0</td>\n",
       "      <td>0</td>\n",
       "      <td>0</td>\n",
       "      <td>0</td>\n",
       "      <td>0</td>\n",
       "      <td>0</td>\n",
       "      <td>0</td>\n",
       "      <td>0</td>\n",
       "      <td>...</td>\n",
       "      <td>0</td>\n",
       "      <td>0</td>\n",
       "      <td>0</td>\n",
       "      <td>0</td>\n",
       "      <td>0</td>\n",
       "      <td>0</td>\n",
       "      <td>0</td>\n",
       "      <td>0</td>\n",
       "      <td>0</td>\n",
       "      <td>0</td>\n",
       "    </tr>\n",
       "    <tr>\n",
       "      <th>4</th>\n",
       "      <td>5</td>\n",
       "      <td>0</td>\n",
       "      <td>0</td>\n",
       "      <td>0</td>\n",
       "      <td>0</td>\n",
       "      <td>0</td>\n",
       "      <td>0</td>\n",
       "      <td>0</td>\n",
       "      <td>0</td>\n",
       "      <td>0</td>\n",
       "      <td>...</td>\n",
       "      <td>0</td>\n",
       "      <td>0</td>\n",
       "      <td>0</td>\n",
       "      <td>0</td>\n",
       "      <td>0</td>\n",
       "      <td>0</td>\n",
       "      <td>0</td>\n",
       "      <td>0</td>\n",
       "      <td>0</td>\n",
       "      <td>0</td>\n",
       "    </tr>\n",
       "  </tbody>\n",
       "</table>\n",
       "<p>5 rows × 785 columns</p>\n",
       "</div>"
      ],
      "text/plain": [
       "   0    1    2    3    4    5    6    7    8    9    ...  775  776  777  778  \\\n",
       "0    6    0    0    0    0    0    0    0    0    0  ...    0    0    0    0   \n",
       "1    5    0    0    0    0    0    0    0    0    0  ...    0    0    0    0   \n",
       "2    7    0    0    0    0    0    0    0    0    0  ...    0    0    0    0   \n",
       "3    9    0    0    0    0    0    0    0    0    0  ...    0    0    0    0   \n",
       "4    5    0    0    0    0    0    0    0    0    0  ...    0    0    0    0   \n",
       "\n",
       "   779  780  781  782  783  784  \n",
       "0    0    0    0    0    0    0  \n",
       "1    0    0    0    0    0    0  \n",
       "2    0    0    0    0    0    0  \n",
       "3    0    0    0    0    0    0  \n",
       "4    0    0    0    0    0    0  \n",
       "\n",
       "[5 rows x 785 columns]"
      ]
     },
     "execution_count": 5,
     "metadata": {},
     "output_type": "execute_result"
    }
   ],
   "source": [
    "df = pd.read_csv('../data/mnist_train_small.csv', header=None)\n",
    "df.head()"
   ]
  },
  {
   "cell_type": "code",
   "execution_count": 6,
   "metadata": {
    "id": "pfCFDamgKdz1"
   },
   "outputs": [],
   "source": [
    "X = df.iloc[:, 1:]\n",
    "X = X / X.max().max()\n",
    "y = to_categorical(df.iloc[:, 0], num_classes=10)"
   ]
  },
  {
   "cell_type": "code",
   "execution_count": 7,
   "metadata": {
    "id": "6c4M9r5oBZv6"
   },
   "outputs": [],
   "source": [
    "x_train, x_test, y_train, y_test = train_test_split(X, y)"
   ]
  },
  {
   "cell_type": "code",
   "execution_count": 8,
   "metadata": {
    "colab": {
     "base_uri": "https://localhost:8080/",
     "height": 282
    },
    "id": "3hUUVJ1bJ53E",
    "outputId": "14aee040-fb38-44ae-b4de-cdccc5a66a0a"
   },
   "outputs": [
    {
     "data": {
      "text/plain": [
       "<matplotlib.image.AxesImage at 0x30e513be0>"
      ]
     },
     "execution_count": 8,
     "metadata": {},
     "output_type": "execute_result"
    },
    {
     "data": {
      "image/png": "[encoded data removed]",
      "text/plain": [
       "<Figure size 640x480 with 1 Axes>"
      ]
     },
     "metadata": {},
     "output_type": "display_data"
    }
   ],
   "source": [
    "plt.imshow(X.iloc[1].values.reshape(28, 28))"
   ]
  },
  {
   "cell_type": "markdown",
   "metadata": {
    "id": "_PwO2XQjDlkB"
   },
   "source": [
    "Построим многослойный перцептрон. Оптимизировать будем при помощи SGD, в качестве лосс-функции будем использовать кроссэнтропию, также будем считать accuracy"
   ]
  },
  {
   "cell_type": "code",
   "execution_count": 13,
   "metadata": {
    "id": "YLISc8hNKnnb"
   },
   "outputs": [
    {
     "name": "stderr",
     "output_type": "stream",
     "text": [
      "WARNING:absl:At this time, the v2.11+ optimizer `tf.keras.optimizers.SGD` runs slowly on M1/M2 Macs, please use the legacy Keras optimizer instead, located at `tf.keras.optimizers.legacy.SGD`.\n"
     ]
    }
   ],
   "source": [
    "model = Sequential(\n",
    "    [\n",
    "     Dense(32, input_shape=(X.shape[1],), activation='relu'),\n",
    "     Dense(32, activation='relu'),\n",
    "\n",
    "     Dense(10, activation='softmax')\n",
    "    ]\n",
    ")\n",
    "model.compile(optimizer=SGD(clipnorm=1), loss=categorical_crossentropy, metrics=[categorical_accuracy])\n"
   ]
  },
  {
   "cell_type": "code",
   "execution_count": 14,
   "metadata": {
    "colab": {
     "base_uri": "https://localhost:8080/"
    },
    "id": "JTJBteW-9pfp",
    "outputId": "84636394-06a7-4860-afe0-f65e9ddfbd8b"
   },
   "outputs": [
    {
     "name": "stdout",
     "output_type": "stream",
     "text": [
      "Model: \"sequential\"\n",
      "_________________________________________________________________\n",
      " Layer (type)                Output Shape              Param #   \n",
      "=================================================================\n",
      " dense (Dense)               (None, 32)                25120     \n",
      "                                                                 \n",
      " dense_1 (Dense)             (None, 32)                1056      \n",
      "                                                                 \n",
      " dense_2 (Dense)             (None, 10)                330       \n",
      "                                                                 \n",
      "=================================================================\n",
      "Total params: 26506 (103.54 KB)\n",
      "Trainable params: 26506 (103.54 KB)\n",
      "Non-trainable params: 0 (0.00 Byte)\n",
      "_________________________________________________________________\n"
     ]
    }
   ],
   "source": [
    "model.summary()"
   ]
  },
  {
   "cell_type": "code",
   "execution_count": 28,
   "metadata": {
    "colab": {
     "base_uri": "https://localhost:8080/"
    },
    "id": "Qx3YGd_V-9yn",
    "outputId": "9ecda69f-62f3-4cd6-ea4b-a1b64b8d23b3"
   },
   "outputs": [
    {
     "data": {
      "text/plain": [
       "26506"
      ]
     },
     "execution_count": 28,
     "metadata": {},
     "output_type": "execute_result"
    }
   ],
   "source": [
    "# 28x28 - картинка\n",
    "#    первый слой         второй слой      выходной слой\n",
    "((28 * 28) * 32 + 32) + (32 * 32 + 32) + (32 * 10 + 10)"
   ]
  },
  {
   "cell_type": "markdown",
   "metadata": {
    "id": "7qzqpWwh3k8U"
   },
   "source": [
    "## Гиперпараметры сети\n",
    "\n",
    "- архитектура сети\n",
    "- параметры оптимизатора (learning rate и др.)\n",
    "- регуляризация\n",
    "- размер батча\n",
    "- количество эпох"
   ]
  },
  {
   "cell_type": "code",
   "execution_count": 29,
   "metadata": {
    "colab": {
     "base_uri": "https://localhost:8080/"
    },
    "id": "WeYgQvUd8Ibi",
    "outputId": "436c541c-182d-4373-db1e-f588bc8dd0c1"
   },
   "outputs": [
    {
     "name": "stdout",
     "output_type": "stream",
     "text": [
      "Epoch 1/10\n",
      "1350/1350 [==============================] - 1s 673us/step - loss: 1.0627 - categorical_accuracy: 0.6987 - val_loss: 0.5294 - val_categorical_accuracy: 0.8467\n",
      "Epoch 2/10\n",
      "1350/1350 [==============================] - 1s 499us/step - loss: 0.4452 - categorical_accuracy: 0.8693 - val_loss: 0.4087 - val_categorical_accuracy: 0.8787\n",
      "Epoch 3/10\n",
      "1350/1350 [==============================] - 1s 509us/step - loss: 0.3716 - categorical_accuracy: 0.8895 - val_loss: 0.3640 - val_categorical_accuracy: 0.9007\n",
      "Epoch 4/10\n",
      "1350/1350 [==============================] - 1s 505us/step - loss: 0.3379 - categorical_accuracy: 0.8987 - val_loss: 0.3472 - val_categorical_accuracy: 0.9060\n",
      "Epoch 5/10\n",
      "1350/1350 [==============================] - 1s 495us/step - loss: 0.3158 - categorical_accuracy: 0.9081 - val_loss: 0.3365 - val_categorical_accuracy: 0.9133\n",
      "Epoch 6/10\n",
      "1350/1350 [==============================] - 1s 542us/step - loss: 0.2972 - categorical_accuracy: 0.9131 - val_loss: 0.3162 - val_categorical_accuracy: 0.9147\n",
      "Epoch 7/10\n",
      "1350/1350 [==============================] - 1s 529us/step - loss: 0.2816 - categorical_accuracy: 0.9176 - val_loss: 0.3056 - val_categorical_accuracy: 0.9167\n",
      "Epoch 8/10\n",
      "1350/1350 [==============================] - 1s 531us/step - loss: 0.2682 - categorical_accuracy: 0.9247 - val_loss: 0.3073 - val_categorical_accuracy: 0.9160\n",
      "Epoch 9/10\n",
      "1350/1350 [==============================] - 1s 545us/step - loss: 0.2579 - categorical_accuracy: 0.9266 - val_loss: 0.2992 - val_categorical_accuracy: 0.9187\n",
      "Epoch 10/10\n",
      "1350/1350 [==============================] - 1s 511us/step - loss: 0.2471 - categorical_accuracy: 0.9304 - val_loss: 0.2897 - val_categorical_accuracy: 0.9180\n"
     ]
    }
   ],
   "source": [
    "history = model.fit(x_train, y_train, batch_size=10, epochs=10, validation_split=0.1)"
   ]
  },
  {
   "cell_type": "code",
   "execution_count": 30,
   "metadata": {
    "colab": {
     "base_uri": "https://localhost:8080/"
    },
    "id": "EJl26m6NG6Tp",
    "outputId": "852e3bb5-3370-4a5f-ae3e-6e0a67a5b27b"
   },
   "outputs": [
    {
     "data": {
      "text/plain": [
       "dict_keys(['loss', 'categorical_accuracy', 'val_loss', 'val_categorical_accuracy'])"
      ]
     },
     "execution_count": 30,
     "metadata": {},
     "output_type": "execute_result"
    }
   ],
   "source": [
    "history.history.keys()"
   ]
  },
  {
   "cell_type": "code",
   "execution_count": 31,
   "metadata": {
    "colab": {
     "base_uri": "https://localhost:8080/",
     "height": 282
    },
    "id": "PJ1Qr4WCGqDX",
    "outputId": "b8870a13-db64-4352-aa8e-81f202c3c8c5"
   },
   "outputs": [
    {
     "data": {
      "text/plain": [
       "<matplotlib.legend.Legend at 0x30ef21490>"
      ]
     },
     "execution_count": 31,
     "metadata": {},
     "output_type": "execute_result"
    },
    {
     "data": {
      "image/png": "[encoded data removed]",
      "text/plain": [
       "<Figure size 640x480 with 1 Axes>"
      ]
     },
     "metadata": {},
     "output_type": "display_data"
    }
   ],
   "source": [
    "plt.plot(history.history['loss'])\n",
    "plt.plot(history.history['val_loss'])\n",
    "legend_list = ['loss', 'val_loss']\n",
    "plt.legend(legend_list)"
   ]
  },
  {
   "cell_type": "code",
   "execution_count": 32,
   "metadata": {
    "colab": {
     "base_uri": "https://localhost:8080/",
     "height": 282
    },
    "id": "Jjyy5fYvaa3w",
    "outputId": "22df43a5-a313-47de-8141-97e8fd66f888"
   },
   "outputs": [
    {
     "data": {
      "text/plain": [
       "<matplotlib.legend.Legend at 0x30eaebb80>"
      ]
     },
     "execution_count": 32,
     "metadata": {},
     "output_type": "execute_result"
    },
    {
     "data": {
      "image/png": "[encoded data removed]",
      "text/plain": [
       "<Figure size 640x480 with 1 Axes>"
      ]
     },
     "metadata": {},
     "output_type": "display_data"
    }
   ],
   "source": [
    "plt.plot(history.history['categorical_accuracy'])\n",
    "plt.plot(history.history['val_categorical_accuracy'])\n",
    "plt.legend(['categorical_accuracy', 'val_categorical_accuracy'])"
   ]
  },
  {
   "cell_type": "code",
   "execution_count": 33,
   "metadata": {
    "colab": {
     "base_uri": "https://localhost:8080/"
    },
    "id": "lzQ_dNDIAZHx",
    "outputId": "769e4756-dcd6-4c9f-b9ed-78306ca31e86"
   },
   "outputs": [
    {
     "name": "stdout",
     "output_type": "stream",
     "text": [
      "157/157 [==============================] - 0s 409us/step - loss: 0.3240 - categorical_accuracy: 0.9098\n"
     ]
    },
    {
     "data": {
      "text/plain": [
       "[0.3239758312702179, 0.9097999930381775]"
      ]
     },
     "execution_count": 33,
     "metadata": {},
     "output_type": "execute_result"
    }
   ],
   "source": [
    "model.evaluate(x_test, y_test)"
   ]
  },
  {
   "cell_type": "code",
   "execution_count": 34,
   "metadata": {
    "colab": {
     "base_uri": "https://localhost:8080/"
    },
    "id": "Sf0M9BSfHRbO",
    "outputId": "2ba4216c-ed5f-488e-8993-0928f5c84808"
   },
   "outputs": [
    {
     "name": "stdout",
     "output_type": "stream",
     "text": [
      "157/157 [==============================] - 0s 372us/step\n"
     ]
    },
    {
     "data": {
      "text/plain": [
       "array([[447,   0,   2,   0,   1,   3,   2,   0,   2,   0],\n",
       "       [  0, 525,   6,   4,   1,   2,   1,   1,   3,   2],\n",
       "       [  4,   0, 461,   3,   7,   1,   5,   3,   5,   1],\n",
       "       [  2,   1,  24, 453,   0,  16,   1,   2,  10,   6],\n",
       "       [  1,   0,   1,   1, 489,   0,   5,   1,   1,   6],\n",
       "       [  8,   3,   5,  16,   8, 378,   5,   0,   4,   3],\n",
       "       [  9,   0,   7,   0,   8,  10, 479,   0,   0,   0],\n",
       "       [  6,   2,  10,   5,  11,   2,   0, 490,   1,  14],\n",
       "       [  4,  12,  13,  13,   2,  13,   5,   1, 403,   9],\n",
       "       [  8,   3,   2,  18,  49,   4,   0,  15,   6, 424]])"
      ]
     },
     "execution_count": 34,
     "metadata": {},
     "output_type": "execute_result"
    }
   ],
   "source": [
    "y_pred = model.predict(x_test)\n",
    "from sklearn.metrics import confusion_matrix\n",
    "confusion_matrix(y_test.argmax(axis=1), y_pred.argmax(axis=1))"
   ]
  },
  {
   "cell_type": "markdown",
   "metadata": {
    "id": "KCjbRaiyD1lw"
   },
   "source": [
    "Как оценим качество такой модели? Какое качество даст обычная логистическая регрессия?"
   ]
  },
  {
   "cell_type": "markdown",
   "metadata": {
    "id": "vEU7joh4vQog"
   },
   "source": [
    "## Задача\n",
    "\n",
    "Построить на тех же данных логистическую регрессию, сравнить результаты"
   ]
  },
  {
   "cell_type": "code",
   "execution_count": 38,
   "metadata": {
    "id": "gxCcniX5vV-1"
   },
   "outputs": [],
   "source": [
    "from sklearn.linear_model import LogisticRegression\n",
    "from sklearn.metrics import accuracy_score"
   ]
  },
  {
   "cell_type": "code",
   "execution_count": 39,
   "metadata": {
    "id": "D7y-2xdMq_Gn"
   },
   "outputs": [],
   "source": [
    "# Ваш код здесь\n"
   ]
  },
  {
   "cell_type": "markdown",
   "metadata": {
    "id": "BxcUooixHpd8"
   },
   "source": [
    "## Задача\n",
    "\n",
    "Добавить больше нейронов к существующим слоям, а также добавить новый слой в нейросеть. Измерить качество."
   ]
  },
  {
   "cell_type": "code",
   "execution_count": null,
   "metadata": {
    "id": "Xe_QrCaGIMBv"
   },
   "outputs": [],
   "source": [
    "# Ваш код здесь\n",
    "model = Sequential(\n",
    "    [\n",
    "     # ...\n",
    "    ]\n",
    ")\n",
    "model.compile(optimizer=SGD(clipnorm=1), loss=categorical_crossentropy, metrics=[categorical_accuracy])\n"
   ]
  },
  {
   "cell_type": "markdown",
   "metadata": {
    "id": "2_KIrCYlIXxL"
   },
   "source": [
    "## Задача\n",
    "\n",
    "Попробовать оптимизатор Adam и RMSprop вместо SGD, сравнить качество (не забываем передавать параметр `clipnorm=1`)"
   ]
  },
  {
   "cell_type": "code",
   "execution_count": 40,
   "metadata": {
    "id": "t9iSZwRzIXKE"
   },
   "outputs": [],
   "source": [
    "from tensorflow.keras.optimizers import Adam\n",
    "from tensorflow.keras.optimizers import RMSprop\n",
    "# Ваш код здесь\n"
   ]
  },
  {
   "cell_type": "markdown",
   "metadata": {
    "id": "O1xIUU46KjHK"
   },
   "source": [
    "## Уменьшение learning rate\n",
    "\n",
    "[Документация по ExponentialDecay](https://keras.io/api/optimizers/learning_rate_schedules/exponential_decay/)"
   ]
  },
  {
   "cell_type": "code",
   "execution_count": 41,
   "metadata": {
    "id": "F_ziwlnUJa9F"
   },
   "outputs": [
    {
     "name": "stderr",
     "output_type": "stream",
     "text": [
      "WARNING:absl:At this time, the v2.11+ optimizer `tf.keras.optimizers.RMSprop` runs slowly on M1/M2 Macs, please use the legacy Keras optimizer instead, located at `tf.keras.optimizers.legacy.RMSprop`.\n"
     ]
    }
   ],
   "source": [
    "from tensorflow.keras.optimizers.schedules import ExponentialDecay\n",
    "\n",
    "initial_learning_rate = 0.01\n",
    "lr_schedule = ExponentialDecay(\n",
    "    initial_learning_rate,\n",
    "    decay_steps=100000,\n",
    "    decay_rate=0.96,\n",
    "    staircase=True\n",
    ")\n",
    "\n",
    "model = Sequential(\n",
    "    [\n",
    "     Dense(16, input_shape=(X.shape[1],), activation='sigmoid'),\n",
    "     Dense(16, activation='relu'),\n",
    "     Dense(10, activation='softmax')\n",
    "    ]\n",
    ")\n",
    "model.compile(optimizer=RMSprop(clipnorm=1, learning_rate=lr_schedule), loss=categorical_crossentropy, metrics=[categorical_accuracy])"
   ]
  },
  {
   "cell_type": "code",
   "execution_count": 42,
   "metadata": {
    "colab": {
     "base_uri": "https://localhost:8080/"
    },
    "id": "YL7-uXpaKXKt",
    "outputId": "86369717-248e-40a2-e011-77d217ea6d31"
   },
   "outputs": [
    {
     "name": "stdout",
     "output_type": "stream",
     "text": [
      "Epoch 1/10\n",
      "1500/1500 [==============================] - 1s 439us/step - loss: 0.5055 - categorical_accuracy: 0.8494\n",
      "Epoch 2/10\n",
      "1500/1500 [==============================] - 1s 430us/step - loss: 0.3325 - categorical_accuracy: 0.9067\n",
      "Epoch 3/10\n",
      "1500/1500 [==============================] - 1s 431us/step - loss: 0.2955 - categorical_accuracy: 0.9175\n",
      "Epoch 4/10\n",
      "1500/1500 [==============================] - 1s 420us/step - loss: 0.2809 - categorical_accuracy: 0.9254\n",
      "Epoch 5/10\n",
      "1500/1500 [==============================] - 1s 430us/step - loss: 0.2678 - categorical_accuracy: 0.9293\n",
      "Epoch 6/10\n",
      "1500/1500 [==============================] - 1s 431us/step - loss: 0.2645 - categorical_accuracy: 0.9317\n",
      "Epoch 7/10\n",
      "1500/1500 [==============================] - 1s 429us/step - loss: 0.2576 - categorical_accuracy: 0.9350\n",
      "Epoch 8/10\n",
      "1500/1500 [==============================] - 1s 432us/step - loss: 0.2549 - categorical_accuracy: 0.9360\n",
      "Epoch 9/10\n",
      "1500/1500 [==============================] - 1s 432us/step - loss: 0.2541 - categorical_accuracy: 0.9405\n",
      "Epoch 10/10\n",
      "1500/1500 [==============================] - 1s 423us/step - loss: 0.2596 - categorical_accuracy: 0.9393\n"
     ]
    }
   ],
   "source": [
    "history = model.fit(x_train, y_train, batch_size=10, epochs=10)"
   ]
  },
  {
   "cell_type": "code",
   "execution_count": 43,
   "metadata": {
    "colab": {
     "base_uri": "https://localhost:8080/"
    },
    "id": "RyvRlJZbQh3R",
    "outputId": "39eea75d-62d0-4654-e338-a369c66e8f6c"
   },
   "outputs": [
    {
     "name": "stdout",
     "output_type": "stream",
     "text": [
      "157/157 [==============================] - 0s 380us/step - loss: 0.4989 - categorical_accuracy: 0.9120\n"
     ]
    },
    {
     "data": {
      "text/plain": [
       "[0.4989216923713684, 0.9120000004768372]"
      ]
     },
     "execution_count": 43,
     "metadata": {},
     "output_type": "execute_result"
    }
   ],
   "source": [
    "model.evaluate(x_test, y_test)"
   ]
  },
  {
   "cell_type": "markdown",
   "metadata": {
    "id": "MGaEusuvKrUl"
   },
   "source": [
    "## Задача\n",
    "\n",
    "Использовать ExponentialDecay для оптимизатора Adam"
   ]
  },
  {
   "cell_type": "code",
   "execution_count": null,
   "metadata": {
    "id": "gVzj8zZ7K-r9"
   },
   "outputs": [],
   "source": [
    "# Ваш код здесь\n"
   ]
  },
  {
   "cell_type": "markdown",
   "metadata": {
    "id": "9Pi-2KzGpp-q"
   },
   "source": [
    "## Регуляризация\n",
    "\n",
    "Для того, чтобы избежать переобучения, мы можем использовать регуляризацию. Для линейных моделей мы использовали L1 и L2 регуляризацию. Для нейросетей обычно используют dropout слой.\n",
    "\n",
    "Интуиция, которая лежит за dropout-слоем состоит в том, что нам не хочется, чтобы модель обучалась по какому-то одному признаку, поэтому мы хотим периодически \"отключать\" на обучении какие-то связи в слое и смотреть как это влияет на прогноз модели.\n",
    "\n",
    "Dropout слой ровно это и делает. Мы можем задать вероятность отключения признака и нейросеть присвоит весу этого признака значение 0. Так как при обучении мы много раз проходим через нейросеть, то мы избежим переобучения.\n",
    "\n",
    "Dropout используется только при обучении, при получении прогноза никакие веса не обнуляются.\n",
    "\n",
    "При этом обучение будет идти быстрее, но сходиться будет медленнее (потребуется больше эпох, чтобы получить такой же результат)\n",
    "\n",
    "Чем больше параметров в слое, тем эффективнее будет dropout"
   ]
  },
  {
   "cell_type": "markdown",
   "metadata": {
    "id": "cYB4v2eft9cP"
   },
   "source": [
    "## Задача\n",
    "\n",
    "Применить `Dropout` к полученной выше нейросети к одному из слоев. Сравнить результат."
   ]
  },
  {
   "cell_type": "code",
   "execution_count": 44,
   "metadata": {
    "colab": {
     "base_uri": "https://localhost:8080/"
    },
    "id": "Vw_RJF34Sc9J",
    "outputId": "f8122a21-c3ea-4d55-c105-70e90d078591"
   },
   "outputs": [
    {
     "data": {
      "text/plain": [
       "<keras.src.layers.regularization.dropout.Dropout at 0x30f290490>"
      ]
     },
     "execution_count": 44,
     "metadata": {},
     "output_type": "execute_result"
    }
   ],
   "source": [
    "Dropout(0.25)"
   ]
  },
  {
   "cell_type": "code",
   "execution_count": 45,
   "metadata": {
    "id": "zOgmw8yBvV44"
   },
   "outputs": [
    {
     "name": "stderr",
     "output_type": "stream",
     "text": [
      "WARNING:absl:At this time, the v2.11+ optimizer `tf.keras.optimizers.Adam` runs slowly on M1/M2 Macs, please use the legacy Keras optimizer instead, located at `tf.keras.optimizers.legacy.Adam`.\n"
     ]
    }
   ],
   "source": [
    "# Ваш код здесь\n",
    "model = Sequential(\n",
    "    [\n",
    "     Dense(32, input_shape=(X.shape[1],), activation='relu'),\n",
    "     Dense(32, activation='relu'),\n",
    "     Dropout(0.5),\n",
    "     Dense(10, activation='softmax')\n",
    "    ]\n",
    ")\n",
    "model.compile(optimizer=Adam(clipnorm=1), loss=categorical_crossentropy, metrics=[categorical_accuracy])"
   ]
  },
  {
   "cell_type": "code",
   "execution_count": 46,
   "metadata": {
    "colab": {
     "base_uri": "https://localhost:8080/"
    },
    "id": "XDqP1EsnT31o",
    "outputId": "b2b64c15-d1dc-400a-fea4-358bee9d49d2"
   },
   "outputs": [
    {
     "name": "stdout",
     "output_type": "stream",
     "text": [
      "Epoch 1/25\n",
      "106/106 [==============================] - 0s 1ms/step - loss: 1.6062 - categorical_accuracy: 0.4481 - val_loss: 0.7588 - val_categorical_accuracy: 0.8327\n",
      "Epoch 2/25\n",
      "106/106 [==============================] - 0s 969us/step - loss: 0.8917 - categorical_accuracy: 0.7112 - val_loss: 0.4670 - val_categorical_accuracy: 0.8920\n",
      "Epoch 3/25\n",
      "106/106 [==============================] - 0s 1ms/step - loss: 0.6994 - categorical_accuracy: 0.7798 - val_loss: 0.3692 - val_categorical_accuracy: 0.9033\n",
      "Epoch 4/25\n",
      "106/106 [==============================] - 0s 996us/step - loss: 0.5866 - categorical_accuracy: 0.8190 - val_loss: 0.3322 - val_categorical_accuracy: 0.9113\n",
      "Epoch 5/25\n",
      "106/106 [==============================] - 0s 950us/step - loss: 0.5283 - categorical_accuracy: 0.8396 - val_loss: 0.2966 - val_categorical_accuracy: 0.9233\n",
      "Epoch 6/25\n",
      "106/106 [==============================] - 0s 986us/step - loss: 0.4771 - categorical_accuracy: 0.8541 - val_loss: 0.2824 - val_categorical_accuracy: 0.9287\n",
      "Epoch 7/25\n",
      "106/106 [==============================] - 0s 961us/step - loss: 0.4433 - categorical_accuracy: 0.8651 - val_loss: 0.2751 - val_categorical_accuracy: 0.9213\n",
      "Epoch 8/25\n",
      "106/106 [==============================] - 0s 1ms/step - loss: 0.4144 - categorical_accuracy: 0.8774 - val_loss: 0.2567 - val_categorical_accuracy: 0.9287\n",
      "Epoch 9/25\n",
      "106/106 [==============================] - 0s 1ms/step - loss: 0.3933 - categorical_accuracy: 0.8817 - val_loss: 0.2487 - val_categorical_accuracy: 0.9333\n",
      "Epoch 10/25\n",
      "106/106 [==============================] - 0s 1ms/step - loss: 0.3704 - categorical_accuracy: 0.8872 - val_loss: 0.2423 - val_categorical_accuracy: 0.9347\n",
      "Epoch 11/25\n",
      "106/106 [==============================] - 0s 1ms/step - loss: 0.3512 - categorical_accuracy: 0.8945 - val_loss: 0.2307 - val_categorical_accuracy: 0.9380\n",
      "Epoch 12/25\n",
      "106/106 [==============================] - 0s 1ms/step - loss: 0.3330 - categorical_accuracy: 0.9013 - val_loss: 0.2235 - val_categorical_accuracy: 0.9387\n",
      "Epoch 13/25\n",
      "106/106 [==============================] - 0s 1ms/step - loss: 0.3215 - categorical_accuracy: 0.9036 - val_loss: 0.2128 - val_categorical_accuracy: 0.9413\n",
      "Epoch 14/25\n",
      "106/106 [==============================] - 0s 1ms/step - loss: 0.3142 - categorical_accuracy: 0.9022 - val_loss: 0.2195 - val_categorical_accuracy: 0.9407\n",
      "Epoch 15/25\n",
      "106/106 [==============================] - 0s 1ms/step - loss: 0.3059 - categorical_accuracy: 0.9070 - val_loss: 0.2098 - val_categorical_accuracy: 0.9420\n",
      "Epoch 16/25\n",
      "106/106 [==============================] - 0s 1ms/step - loss: 0.2880 - categorical_accuracy: 0.9125 - val_loss: 0.2148 - val_categorical_accuracy: 0.9393\n",
      "Epoch 17/25\n",
      "106/106 [==============================] - 0s 1ms/step - loss: 0.2838 - categorical_accuracy: 0.9127 - val_loss: 0.2076 - val_categorical_accuracy: 0.9393\n",
      "Epoch 18/25\n",
      "106/106 [==============================] - 0s 1ms/step - loss: 0.2598 - categorical_accuracy: 0.9217 - val_loss: 0.1987 - val_categorical_accuracy: 0.9420\n",
      "Epoch 19/25\n",
      "106/106 [==============================] - 0s 1ms/step - loss: 0.2617 - categorical_accuracy: 0.9190 - val_loss: 0.2049 - val_categorical_accuracy: 0.9447\n",
      "Epoch 20/25\n",
      "106/106 [==============================] - 0s 1ms/step - loss: 0.2544 - categorical_accuracy: 0.9195 - val_loss: 0.1955 - val_categorical_accuracy: 0.9467\n",
      "Epoch 21/25\n",
      "106/106 [==============================] - 0s 1ms/step - loss: 0.2386 - categorical_accuracy: 0.9264 - val_loss: 0.1952 - val_categorical_accuracy: 0.9440\n",
      "Epoch 22/25\n",
      "106/106 [==============================] - 0s 1ms/step - loss: 0.2350 - categorical_accuracy: 0.9265 - val_loss: 0.1952 - val_categorical_accuracy: 0.9440\n",
      "Epoch 23/25\n",
      "106/106 [==============================] - 0s 1ms/step - loss: 0.2327 - categorical_accuracy: 0.9277 - val_loss: 0.1884 - val_categorical_accuracy: 0.9487\n",
      "Epoch 24/25\n",
      "106/106 [==============================] - 0s 1ms/step - loss: 0.2225 - categorical_accuracy: 0.9286 - val_loss: 0.1913 - val_categorical_accuracy: 0.9453\n",
      "Epoch 25/25\n",
      "106/106 [==============================] - 0s 1ms/step - loss: 0.2221 - categorical_accuracy: 0.9307 - val_loss: 0.1889 - val_categorical_accuracy: 0.9467\n"
     ]
    }
   ],
   "source": [
    "history = model.fit(x_train, y_train, batch_size=128, epochs=25, validation_split=0.1)"
   ]
  },
  {
   "cell_type": "code",
   "execution_count": 47,
   "metadata": {
    "colab": {
     "base_uri": "https://localhost:8080/"
    },
    "id": "9n0e1h1XUJqg",
    "outputId": "6ec91e55-59db-4d61-f894-6b4c1c08d6a4"
   },
   "outputs": [
    {
     "name": "stdout",
     "output_type": "stream",
     "text": [
      "157/157 [==============================] - 0s 424us/step - loss: 0.2294 - categorical_accuracy: 0.9380\n"
     ]
    },
    {
     "data": {
      "text/plain": [
       "[0.22943173348903656, 0.9380000233650208]"
      ]
     },
     "execution_count": 47,
     "metadata": {},
     "output_type": "execute_result"
    }
   ],
   "source": [
    "model.evaluate(x_test, y_test)"
   ]
  },
  {
   "cell_type": "code",
   "execution_count": 48,
   "metadata": {
    "colab": {
     "base_uri": "https://localhost:8080/",
     "height": 282
    },
    "id": "W0XLbUtiUzfv",
    "outputId": "eb158200-a071-4e86-fab0-53e6f182abf8"
   },
   "outputs": [
    {
     "data": {
      "text/plain": [
       "<matplotlib.legend.Legend at 0x3127fdb80>"
      ]
     },
     "execution_count": 48,
     "metadata": {},
     "output_type": "execute_result"
    },
    {
     "data": {
      "image/png": "[encoded data removed]",
      "text/plain": [
       "<Figure size 640x480 with 1 Axes>"
      ]
     },
     "metadata": {},
     "output_type": "display_data"
    }
   ],
   "source": [
    "plt.plot(history.history['loss'])\n",
    "plt.plot(history.history['val_loss'])\n",
    "legend_list = ['loss', 'val_loss']\n",
    "plt.legend(legend_list)"
   ]
  },
  {
   "cell_type": "code",
   "execution_count": 49,
   "metadata": {
    "colab": {
     "base_uri": "https://localhost:8080/",
     "height": 282
    },
    "id": "LwHzsEyqyEeu",
    "outputId": "ae1ce448-a755-4092-b3de-7a423d2ed9d0"
   },
   "outputs": [
    {
     "data": {
      "text/plain": [
       "<matplotlib.legend.Legend at 0x30f369910>"
      ]
     },
     "execution_count": 49,
     "metadata": {},
     "output_type": "execute_result"
    },
    {
     "data": {
      "image/png": "[encoded data removed]",
      "text/plain": [
       "<Figure size 640x480 with 1 Axes>"
      ]
     },
     "metadata": {},
     "output_type": "display_data"
    }
   ],
   "source": [
    "plt.plot(history.history['categorical_accuracy'])\n",
    "plt.plot(history.history['val_categorical_accuracy'])\n",
    "plt.legend(['categorical_accuracy', 'val_categorical_accuracy'])"
   ]
  },
  {
   "cell_type": "markdown",
   "metadata": {
    "id": "T3UZC9-WLCFm"
   },
   "source": [
    "## Сверточные нейронные сети\n",
    "\n",
    "Обучая многослойный перцептрон можно аппроксимировать любую функцию, но для некоторых задач проще использовать другую архитектуру сети. Например, для задач с аудио и картинками хорошо подходит сверточная нейронная сеть (CNN).\n",
    "\n",
    "![pic](../images/conv_nn.png)\n",
    "\n",
    "Сверточная нейронная сеть состоит, как правило, из двух слоев - свертка и пулинг.\n",
    "\n",
    "Свертка получается, когда по исходному изображению проходит скользящее окно в виде квадратной матрицы. На каждом шаге происходит покомпонентное умножение матриц (исходного изображения и ядра - квадратной матрицы). Дальше результат суммируется и записывается в новую матрицу. После чего вся новая матрица проходит через функцию активации (обычно relu).\n",
    "\n",
    "После свертки применяется пулинг. Матрица делится на квадратики (пулы), и в каждом квадратике выбирается наибольшее значение.\n",
    "\n",
    "![pic](../images/convolution+relu.png)\n",
    "\n",
    "Во время обучения подбираются коэфициенты ядра. Как правило, на каждом слое обучают несколько фильтров."
   ]
  },
  {
   "cell_type": "code",
   "execution_count": 50,
   "metadata": {
    "id": "NByGJdSfN1QV"
   },
   "outputs": [],
   "source": [
    "import numpy as np\n",
    "from tensorflow import keras\n",
    "from tensorflow.keras import layers"
   ]
  },
  {
   "cell_type": "markdown",
   "metadata": {
    "id": "bcu2HOKYOOZz"
   },
   "source": [
    "Приводим изображения к размерности (28, 28, 1), потому что картинка черно-белая 28х28"
   ]
  },
  {
   "cell_type": "code",
   "execution_count": 51,
   "metadata": {
    "colab": {
     "base_uri": "https://localhost:8080/"
    },
    "id": "BIzcFmXZI2Ze",
    "outputId": "bdd17f93-bb9b-4065-9b70-a8e42c67cbed"
   },
   "outputs": [
    {
     "data": {
      "text/plain": [
       "(15000, 28, 28, 1)"
      ]
     },
     "execution_count": 51,
     "metadata": {},
     "output_type": "execute_result"
    }
   ],
   "source": [
    "X_images = X.values.reshape(-1, 28, 28, 1)\n",
    "x_train, x_test, y_train, y_test = train_test_split(X_images, y)\n",
    "x_train.shape"
   ]
  },
  {
   "cell_type": "code",
   "execution_count": 52,
   "metadata": {
    "id": "ul2uks0VNjpd"
   },
   "outputs": [],
   "source": [
    "model = Sequential(\n",
    "    [\n",
    "        keras.Input(shape=(28, 28, 1)),\n",
    "        layers.Conv2D(64, kernel_size=(3, 3), activation=\"relu\"),\n",
    "        layers.MaxPooling2D(pool_size=(2, 2)),\n",
    "        layers.Conv2D(64, kernel_size=(3, 3), activation=\"relu\"),\n",
    "        layers.MaxPooling2D(pool_size=(2, 2)),\n",
    "        layers.Conv2D(64, kernel_size=(3, 3), activation=\"relu\"),\n",
    "        layers.MaxPooling2D(pool_size=(2, 2)),\n",
    "        layers.Flatten(),\n",
    "        layers.Dense(10, activation=\"softmax\"),\n",
    "    ]\n",
    ")\n",
    "\n",
    "batch_size = 128\n",
    "epochs = 5\n",
    "\n",
    "model.compile(loss=\"categorical_crossentropy\", optimizer=\"adam\", metrics=[\"accuracy\"])"
   ]
  },
  {
   "cell_type": "code",
   "execution_count": 53,
   "metadata": {
    "colab": {
     "base_uri": "https://localhost:8080/"
    },
    "id": "DpNiS477rIOv",
    "outputId": "8883aecf-098d-49d8-be9e-e4d87db011e4"
   },
   "outputs": [
    {
     "name": "stdout",
     "output_type": "stream",
     "text": [
      "Model: \"sequential_4\"\n",
      "_________________________________________________________________\n",
      " Layer (type)                Output Shape              Param #   \n",
      "=================================================================\n",
      " conv2d (Conv2D)             (None, 26, 26, 64)        640       \n",
      "                                                                 \n",
      " max_pooling2d (MaxPooling2  (None, 13, 13, 64)        0         \n",
      " D)                                                              \n",
      "                                                                 \n",
      " conv2d_1 (Conv2D)           (None, 11, 11, 64)        36928     \n",
      "                                                                 \n",
      " max_pooling2d_1 (MaxPoolin  (None, 5, 5, 64)          0         \n",
      " g2D)                                                            \n",
      "                                                                 \n",
      " conv2d_2 (Conv2D)           (None, 3, 3, 64)          36928     \n",
      "                                                                 \n",
      " max_pooling2d_2 (MaxPoolin  (None, 1, 1, 64)          0         \n",
      " g2D)                                                            \n",
      "                                                                 \n",
      " flatten (Flatten)           (None, 64)                0         \n",
      "                                                                 \n",
      " dense_10 (Dense)            (None, 10)                650       \n",
      "                                                                 \n",
      "=================================================================\n",
      "Total params: 75146 (293.54 KB)\n",
      "Trainable params: 75146 (293.54 KB)\n",
      "Non-trainable params: 0 (0.00 Byte)\n",
      "_________________________________________________________________\n"
     ]
    }
   ],
   "source": [
    "model.summary()"
   ]
  },
  {
   "cell_type": "code",
   "execution_count": 54,
   "metadata": {
    "colab": {
     "base_uri": "https://localhost:8080/"
    },
    "id": "o3x9GA_sOlIx",
    "outputId": "83ba8097-53cf-4051-a0b9-0f0aa4c6f8fa"
   },
   "outputs": [
    {
     "name": "stdout",
     "output_type": "stream",
     "text": [
      "Epoch 1/20\n",
      "106/106 [==============================] - 3s 30ms/step - loss: 0.8097 - accuracy: 0.7646 - val_loss: 0.2888 - val_accuracy: 0.9133\n",
      "Epoch 2/20\n",
      "106/106 [==============================] - 3s 27ms/step - loss: 0.2198 - accuracy: 0.9323 - val_loss: 0.1884 - val_accuracy: 0.9480\n",
      "Epoch 3/20\n",
      "106/106 [==============================] - 3s 28ms/step - loss: 0.1601 - accuracy: 0.9501 - val_loss: 0.1513 - val_accuracy: 0.9573\n",
      "Epoch 4/20\n",
      "106/106 [==============================] - 3s 28ms/step - loss: 0.1208 - accuracy: 0.9617 - val_loss: 0.1490 - val_accuracy: 0.9567\n",
      "Epoch 5/20\n",
      "106/106 [==============================] - 3s 29ms/step - loss: 0.0979 - accuracy: 0.9699 - val_loss: 0.1302 - val_accuracy: 0.9620\n",
      "Epoch 6/20\n",
      "106/106 [==============================] - 3s 29ms/step - loss: 0.0832 - accuracy: 0.9730 - val_loss: 0.1340 - val_accuracy: 0.9640\n",
      "Epoch 7/20\n",
      "106/106 [==============================] - 3s 30ms/step - loss: 0.0725 - accuracy: 0.9771 - val_loss: 0.1333 - val_accuracy: 0.9647\n",
      "Epoch 8/20\n",
      "106/106 [==============================] - 3s 30ms/step - loss: 0.0613 - accuracy: 0.9819 - val_loss: 0.1116 - val_accuracy: 0.9687\n",
      "Epoch 9/20\n",
      "106/106 [==============================] - 3s 30ms/step - loss: 0.0483 - accuracy: 0.9844 - val_loss: 0.1126 - val_accuracy: 0.9700\n",
      "Epoch 10/20\n",
      "106/106 [==============================] - 3s 30ms/step - loss: 0.0455 - accuracy: 0.9851 - val_loss: 0.1112 - val_accuracy: 0.9693\n",
      "Epoch 11/20\n",
      "106/106 [==============================] - 3s 29ms/step - loss: 0.0399 - accuracy: 0.9876 - val_loss: 0.1080 - val_accuracy: 0.9727\n",
      "Epoch 12/20\n",
      "106/106 [==============================] - 3s 30ms/step - loss: 0.0360 - accuracy: 0.9889 - val_loss: 0.1203 - val_accuracy: 0.9727\n",
      "Epoch 13/20\n",
      "106/106 [==============================] - 3s 30ms/step - loss: 0.0291 - accuracy: 0.9915 - val_loss: 0.1340 - val_accuracy: 0.9693\n",
      "Epoch 14/20\n",
      "106/106 [==============================] - 3s 30ms/step - loss: 0.0277 - accuracy: 0.9905 - val_loss: 0.1107 - val_accuracy: 0.9720\n",
      "Epoch 15/20\n",
      "106/106 [==============================] - 3s 30ms/step - loss: 0.0209 - accuracy: 0.9935 - val_loss: 0.1195 - val_accuracy: 0.9733\n",
      "Epoch 16/20\n",
      "106/106 [==============================] - 3s 30ms/step - loss: 0.0244 - accuracy: 0.9921 - val_loss: 0.0980 - val_accuracy: 0.9787\n",
      "Epoch 17/20\n",
      "106/106 [==============================] - 3s 30ms/step - loss: 0.0181 - accuracy: 0.9949 - val_loss: 0.1145 - val_accuracy: 0.9727\n",
      "Epoch 18/20\n",
      "106/106 [==============================] - 3s 30ms/step - loss: 0.0156 - accuracy: 0.9953 - val_loss: 0.1191 - val_accuracy: 0.9727\n",
      "Epoch 19/20\n",
      "106/106 [==============================] - 3s 31ms/step - loss: 0.0121 - accuracy: 0.9966 - val_loss: 0.1389 - val_accuracy: 0.9707\n",
      "Epoch 20/20\n",
      "106/106 [==============================] - 3s 31ms/step - loss: 0.0130 - accuracy: 0.9956 - val_loss: 0.1160 - val_accuracy: 0.9747\n"
     ]
    }
   ],
   "source": [
    "history = model.fit(x_train, y_train, batch_size=batch_size, epochs=20, validation_split=0.1)"
   ]
  },
  {
   "cell_type": "code",
   "execution_count": 55,
   "metadata": {
    "colab": {
     "base_uri": "https://localhost:8080/",
     "height": 282
    },
    "id": "qKAJctrYO9um",
    "outputId": "8c4f81ab-0a9e-428f-ed97-7e0651b301fa"
   },
   "outputs": [
    {
     "data": {
      "text/plain": [
       "<matplotlib.legend.Legend at 0x30f9f9f70>"
      ]
     },
     "execution_count": 55,
     "metadata": {},
     "output_type": "execute_result"
    },
    {
     "data": {
      "image/png": "[encoded data removed]",
      "text/plain": [
       "<Figure size 640x480 with 1 Axes>"
      ]
     },
     "metadata": {},
     "output_type": "display_data"
    }
   ],
   "source": [
    "plt.plot(history.history['loss'])\n",
    "plt.plot(history.history['val_loss'])\n",
    "plt.legend(['loss', 'val_loss'])"
   ]
  },
  {
   "cell_type": "code",
   "execution_count": 56,
   "metadata": {
    "colab": {
     "base_uri": "https://localhost:8080/"
    },
    "id": "D4RlaFuGPmfW",
    "outputId": "cdf4b5ee-562e-4184-b827-84afd0f18707"
   },
   "outputs": [
    {
     "name": "stdout",
     "output_type": "stream",
     "text": [
      "157/157 [==============================] - 1s 5ms/step - loss: 0.0833 - accuracy: 0.9794\n"
     ]
    },
    {
     "data": {
      "text/plain": [
       "[0.0832831934094429, 0.9793999791145325]"
      ]
     },
     "execution_count": 56,
     "metadata": {},
     "output_type": "execute_result"
    }
   ],
   "source": [
    "model.evaluate(x_test, y_test)"
   ]
  },
  {
   "cell_type": "code",
   "execution_count": 57,
   "metadata": {
    "colab": {
     "base_uri": "https://localhost:8080/"
    },
    "id": "9emz1P1H2S-6",
    "outputId": "4a4d4a0c-d8f1-4c3d-b9b3-3bc4f65ecb7a"
   },
   "outputs": [
    {
     "name": "stdout",
     "output_type": "stream",
     "text": [
      "157/157 [==============================] - 1s 4ms/step\n"
     ]
    },
    {
     "data": {
      "text/plain": [
       "array([[480,   0,   1,   0,   0,   0,   0,   0,   1,   0],\n",
       "       [  0, 577,   4,   0,   0,   0,   1,   2,   0,   0],\n",
       "       [  3,   0, 469,   5,   3,   0,   1,   4,   0,   1],\n",
       "       [  1,   1,   3, 503,   0,   3,   0,   2,   2,   0],\n",
       "       [  1,   1,   0,   0, 454,   0,   0,   0,   1,   5],\n",
       "       [  2,   0,   0,   2,   1, 420,   1,   0,   3,   1],\n",
       "       [  1,   0,   0,   0,   1,   1, 515,   0,   0,   0],\n",
       "       [  3,   0,   6,   3,   0,   0,   0, 502,   0,   2],\n",
       "       [  3,   1,   1,   4,   0,   1,   1,   0, 492,   0],\n",
       "       [  7,   0,   0,   2,   2,   3,   0,   3,   2, 485]])"
      ]
     },
     "execution_count": 57,
     "metadata": {},
     "output_type": "execute_result"
    }
   ],
   "source": [
    "y_pred = model.predict(x_test)\n",
    "from sklearn.metrics import confusion_matrix\n",
    "confusion_matrix(y_test.argmax(axis=1), y_pred.argmax(axis=1))"
   ]
  },
  {
   "cell_type": "code",
   "execution_count": 58,
   "metadata": {
    "id": "MKZcxUWi6zlC"
   },
   "outputs": [],
   "source": [
    "idx = y_test.argmax(axis=1) != y_pred.argmax(axis=1)\n",
    "x_wrong = x_test[idx]\n",
    "y_pred_wrong = y_pred.argmax(axis=1)[idx]\n",
    "y_test_wrong = y_test.argmax(axis=1)[idx]\n"
   ]
  },
  {
   "cell_type": "code",
   "execution_count": 59,
   "metadata": {
    "colab": {
     "base_uri": "https://localhost:8080/"
    },
    "id": "S8g1ChBh-vfa",
    "outputId": "3f510dbe-f0c4-41b5-8eed-a1b4f34e2c76"
   },
   "outputs": [
    {
     "data": {
      "text/plain": [
       "((5000, 10), (103,))"
      ]
     },
     "execution_count": 59,
     "metadata": {},
     "output_type": "execute_result"
    }
   ],
   "source": [
    "y_test.shape, y_pred_wrong.shape"
   ]
  },
  {
   "cell_type": "markdown",
   "metadata": {
    "id": "3sKy6t3RITmg"
   },
   "source": [
    "## Задача\n",
    "\n",
    "Взять данные с Kaggle по датасету [Fashion MNIST](https://www.kaggle.com/zalando-research/fashionmnist?select=fashion-mnist_train.csv).\n",
    "\n",
    "В датасете представлены картинки одежды, нужно построить классификатор, который определит, что находится на картинке.\n",
    "\n",
    "Обучить на этих данных сверточную нейронную сеть. Можно использовать архитектуру из примера выше, можно ее усложнить.\n",
    "\n",
    "Оценить качество модели."
   ]
  },
  {
   "cell_type": "code",
   "execution_count": null,
   "metadata": {
    "id": "wAzSyr0PANSQ"
   },
   "outputs": [],
   "source": [
    "! unzip fashion-mnist_train.csv.zip"
   ]
  },
  {
   "cell_type": "code",
   "execution_count": null,
   "metadata": {
    "id": "vbIkUohzv8pB"
   },
   "outputs": [],
   "source": [
    "# Ваш код здесь\n",
    "{\n",
    "  0: 'T-shirt/top',\n",
    "  1: 'Trouser',\n",
    "  2: 'Pullover',\n",
    "  3: 'Dress',\n",
    "  4: 'Coat',\n",
    "  5: 'Sandal',\n",
    "  6: 'Shirt',\n",
    "  7: 'Sneaker',\n",
    "  8: 'Bag',\n",
    "  9: 'Ankle boot',\n",
    "}"
   ]
  },
  {
   "cell_type": "markdown",
   "metadata": {
    "id": "DUuGA0lGJEOJ"
   },
   "source": [
    "## Задача\n",
    "\n",
    "По этим же данным построить модель логистической регрессии. Сравнить результаты."
   ]
  },
  {
   "cell_type": "code",
   "execution_count": null,
   "metadata": {
    "id": "n73NQlXyKTwU"
   },
   "outputs": [],
   "source": [
    "from sklearn.linear_model import LogisticRegression\n",
    "from sklearn.metrics import accuracy_score"
   ]
  },
  {
   "cell_type": "code",
   "execution_count": null,
   "metadata": {},
   "outputs": [],
   "source": []
  },
  {
   "cell_type": "markdown",
   "metadata": {
    "id": "IYnH81Llmr33"
   },
   "source": [
    "## Полезные ссылки\n",
    "\n",
    "- [Учебник ШАДа по сверточным сетям](https://education.yandex.ru/handbook/ml/article/svyortochnye-nejroseti)\n",
    "- [Как сверточные сети видят мир](https://blog.keras.io/how-convolutional-neural-networks-see-the-world.html)\n",
    "- [Еще про сверточные сети](https://habr.com/ru/post/348000/)\n",
    "- [Исследование про интерпретацию картиночных сеток](https://distill.pub/2020/circuits/zoom-in/)"
   ]
  },
  {
   "cell_type": "code",
   "execution_count": null,
   "metadata": {
    "id": "X-lYf-Y5mwgI"
   },
   "outputs": [],
   "source": []
  }
 ],
 "metadata": {
  "accelerator": "GPU",
  "colab": {
   "provenance": []
  },
  "kernelspec": {
   "display_name": "Python 3 (ipykernel)",
   "language": "python",
   "name": "python3"
  },
  "language_info": {
   "codemirror_mode": {
    "name": "ipython",
    "version": 3
   },
   "file_extension": ".py",
   "mimetype": "text/x-python",
   "name": "python",
   "nbconvert_exporter": "python",
   "pygments_lexer": "ipython3",
   "version": "3.9.19"
  }
 },
 "nbformat": 4,
 "nbformat_minor": 4
}
