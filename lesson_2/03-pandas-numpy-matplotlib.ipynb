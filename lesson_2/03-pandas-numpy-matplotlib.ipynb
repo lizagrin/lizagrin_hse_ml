{
 "cells": [
  {
   "cell_type": "markdown",
   "metadata": {},
   "source": [
    "# Anaconda\n",
    "\n",
    "`conda create -n my-environment python=3.8` - создать окружение my-environment с питоном 3.8\n",
    "\n",
    "`conda activate my-environment` - активировать окружение\n",
    "\n",
    "`conda deactivate` - деактивировать окружение\n",
    "\n",
    "`conda install numpy` - установка библиотеки\n",
    "\n",
    "`conda env export --name my-environment > env.yml` - экспорт всех библиотек в yml файл\n",
    "\n",
    "`conda env create --file env.yml` - создать окружение из файла env.yml"
   ]
  },
  {
   "cell_type": "markdown",
   "metadata": {},
   "source": [
    "# Numpy\n",
    "\n",
    "numpy позволяет оперировать матрицами и векторами\n",
    "\n",
    "## Установка\n",
    "\n",
    "В нужном окружении запустить\n",
    "\n",
    "```\n",
    "conda install numpy\n",
    "```"
   ]
  },
  {
   "cell_type": "markdown",
   "metadata": {},
   "source": [
    "Импортируем библиотеку"
   ]
  },
  {
   "cell_type": "code",
   "execution_count": 157,
   "metadata": {
    "ExecuteTime": {
     "end_time": "2024-02-20T14:31:02.235958400Z",
     "start_time": "2024-02-20T14:30:59.484293300Z"
    }
   },
   "outputs": [],
   "source": [
    "import numpy as np"
   ]
  },
  {
   "cell_type": "markdown",
   "metadata": {},
   "source": [
    "Создаем массив из обычного списка python"
   ]
  },
  {
   "cell_type": "code",
   "execution_count": 158,
   "metadata": {
    "ExecuteTime": {
     "end_time": "2024-02-20T14:31:02.409836600Z",
     "start_time": "2024-02-20T14:31:02.220810300Z"
    }
   },
   "outputs": [
    {
     "name": "stdout",
     "output_type": "stream",
     "text": [
      "[1 2 3] (3,) 3\n"
     ]
    }
   ],
   "source": [
    "test_list = [1, 2, 3]\n",
    "array = np.array(test_list)\n",
    "print(array, array.shape, len(array))"
   ]
  },
  {
   "cell_type": "markdown",
   "metadata": {},
   "source": [
    "Генерируем разные массивы"
   ]
  },
  {
   "cell_type": "code",
   "execution_count": 159,
   "metadata": {
    "ExecuteTime": {
     "end_time": "2024-02-20T14:31:02.491951700Z",
     "start_time": "2024-02-20T14:31:02.359958800Z"
    }
   },
   "outputs": [
    {
     "data": {
      "text/plain": "array([0, 1, 2, 3, 4])"
     },
     "execution_count": 159,
     "metadata": {},
     "output_type": "execute_result"
    }
   ],
   "source": [
    "np.arange(5)"
   ]
  },
  {
   "cell_type": "code",
   "execution_count": 160,
   "metadata": {
    "ExecuteTime": {
     "end_time": "2024-02-20T14:31:02.679259900Z",
     "start_time": "2024-02-20T14:31:02.477835500Z"
    }
   },
   "outputs": [
    {
     "data": {
      "text/plain": "array([ 0. ,  0.5,  1. ,  1.5,  2. ,  2.5,  3. ,  3.5,  4. ,  4.5,  5. ,\n        5.5,  6. ,  6.5,  7. ,  7.5,  8. ,  8.5,  9. ,  9.5, 10. ])"
     },
     "execution_count": 160,
     "metadata": {},
     "output_type": "execute_result"
    }
   ],
   "source": [
    "np.linspace(0, 10, 21)"
   ]
  },
  {
   "cell_type": "markdown",
   "metadata": {},
   "source": [
    "Создаем матрицу из списка массива"
   ]
  },
  {
   "cell_type": "code",
   "execution_count": 161,
   "metadata": {
    "ExecuteTime": {
     "end_time": "2024-02-20T14:31:02.784347800Z",
     "start_time": "2024-02-20T14:31:02.649951500Z"
    }
   },
   "outputs": [
    {
     "name": "stdout",
     "output_type": "stream",
     "text": [
      "[[1 2 3]\n",
      " [4 5 6]]\n",
      "(2, 3)\n"
     ]
    }
   ],
   "source": [
    "matrix = [[1, 2, 3], [4, 5, 6]]\n",
    "np_matrix = np.array(matrix)\n",
    "print(np_matrix)\n",
    "print(np_matrix.shape)"
   ]
  },
  {
   "cell_type": "markdown",
   "metadata": {},
   "source": [
    "Пример работы reshape"
   ]
  },
  {
   "cell_type": "code",
   "execution_count": 162,
   "metadata": {
    "ExecuteTime": {
     "end_time": "2024-02-20T14:31:02.999018500Z",
     "start_time": "2024-02-20T14:31:02.767228700Z"
    }
   },
   "outputs": [
    {
     "data": {
      "text/plain": "array([[1, 2],\n       [3, 4],\n       [5, 6]])"
     },
     "execution_count": 162,
     "metadata": {},
     "output_type": "execute_result"
    }
   ],
   "source": [
    "np_matrix.reshape(3, 2)"
   ]
  },
  {
   "cell_type": "code",
   "execution_count": 163,
   "metadata": {
    "ExecuteTime": {
     "end_time": "2024-02-20T14:31:03.081374300Z",
     "start_time": "2024-02-20T14:31:02.983347700Z"
    }
   },
   "outputs": [
    {
     "data": {
      "text/plain": "array([[1],\n       [2],\n       [3],\n       [4],\n       [5],\n       [6]])"
     },
     "execution_count": 163,
     "metadata": {},
     "output_type": "execute_result"
    }
   ],
   "source": [
    "np_matrix.reshape(-1, 1)"
   ]
  },
  {
   "cell_type": "code",
   "execution_count": 164,
   "metadata": {
    "ExecuteTime": {
     "end_time": "2024-02-20T14:31:03.279368100Z",
     "start_time": "2024-02-20T14:31:03.079017600Z"
    }
   },
   "outputs": [
    {
     "data": {
      "text/plain": "array([1, 2, 3, 4, 5, 6])"
     },
     "execution_count": 164,
     "metadata": {},
     "output_type": "execute_result"
    }
   ],
   "source": [
    "np_matrix.reshape(-1)"
   ]
  },
  {
   "cell_type": "markdown",
   "metadata": {},
   "source": [
    "## Задача\n",
    "\n",
    "Сгенерировать вектор из 100 элементов и превратить его в:\n",
    "\n",
    "- матрицу 10x10\n",
    "- вектор 1x100\n",
    "- вектор 100x1"
   ]
  },
  {
   "cell_type": "code",
   "execution_count": 165,
   "metadata": {
    "ExecuteTime": {
     "end_time": "2024-02-20T14:31:03.330003200Z",
     "start_time": "2024-02-20T14:31:03.202384300Z"
    }
   },
   "outputs": [
    {
     "name": "stdout",
     "output_type": "stream",
     "text": [
      "(10, 10) (1, 100) (100, 1)\n"
     ]
    }
   ],
   "source": [
    "v = np.arange(100)\n",
    "v1 = v.reshape(10, 10)\n",
    "v2 = v.reshape(1, 100)\n",
    "v3 = v.reshape(100, 1)\n",
    "print(v1.shape, v2.shape, v3.shape)"
   ]
  },
  {
   "cell_type": "markdown",
   "metadata": {},
   "source": [
    "## Базовые операции\n",
    "\n",
    "При помощи numpy можно легко делать любые простейшие операции над векторами и матрицами"
   ]
  },
  {
   "cell_type": "code",
   "execution_count": 166,
   "metadata": {
    "ExecuteTime": {
     "end_time": "2024-02-20T14:31:03.559354600Z",
     "start_time": "2024-02-20T14:31:03.314335600Z"
    }
   },
   "outputs": [
    {
     "data": {
      "text/plain": "array([0, 1, 2, 3])"
     },
     "execution_count": 166,
     "metadata": {},
     "output_type": "execute_result"
    }
   ],
   "source": [
    "a = np.array([20, 30, 40, 50])\n",
    "b = np.arange(4)\n",
    "b"
   ]
  },
  {
   "cell_type": "code",
   "execution_count": 167,
   "metadata": {
    "pycharm": {
     "is_executing": true
    },
    "ExecuteTime": {
     "end_time": "2024-02-20T14:31:03.647504200Z",
     "start_time": "2024-02-20T14:31:03.527004400Z"
    }
   },
   "outputs": [
    {
     "data": {
      "text/plain": "array([20, 31, 42, 53])"
     },
     "execution_count": 167,
     "metadata": {},
     "output_type": "execute_result"
    }
   ],
   "source": [
    "a + b"
   ]
  },
  {
   "cell_type": "code",
   "execution_count": 168,
   "metadata": {
    "ExecuteTime": {
     "end_time": "2024-02-20T14:31:03.856031100Z",
     "start_time": "2024-02-20T14:31:03.643356100Z"
    }
   },
   "outputs": [
    {
     "data": {
      "text/plain": "array([0, 1, 4, 9])"
     },
     "execution_count": 168,
     "metadata": {},
     "output_type": "execute_result"
    }
   ],
   "source": [
    "b ** 2"
   ]
  },
  {
   "cell_type": "code",
   "execution_count": 169,
   "metadata": {
    "ExecuteTime": {
     "end_time": "2024-02-20T14:31:03.909469200Z",
     "start_time": "2024-02-20T14:31:03.809537600Z"
    }
   },
   "outputs": [
    {
     "data": {
      "text/plain": "array([ True,  True, False, False])"
     },
     "execution_count": 169,
     "metadata": {},
     "output_type": "execute_result"
    }
   ],
   "source": [
    "b < 2"
   ]
  },
  {
   "cell_type": "markdown",
   "metadata": {},
   "source": [
    "Выбираем все элементы меньше двух"
   ]
  },
  {
   "cell_type": "code",
   "execution_count": 170,
   "metadata": {
    "ExecuteTime": {
     "end_time": "2024-02-20T14:31:04.121798700Z",
     "start_time": "2024-02-20T14:31:03.894064Z"
    }
   },
   "outputs": [
    {
     "data": {
      "text/plain": "array([0, 1])"
     },
     "execution_count": 170,
     "metadata": {},
     "output_type": "execute_result"
    }
   ],
   "source": [
    "b[b < 2]"
   ]
  },
  {
   "cell_type": "code",
   "execution_count": 171,
   "metadata": {
    "ExecuteTime": {
     "end_time": "2024-02-20T14:31:04.230355600Z",
     "start_time": "2024-02-20T14:31:04.105436100Z"
    }
   },
   "outputs": [],
   "source": [
    "A = np.array([[1, 1], [0, 1]])\n",
    "B = np.array([[2, 0], [3, 4]])"
   ]
  },
  {
   "cell_type": "markdown",
   "metadata": {},
   "source": [
    "Поэлементное произведение"
   ]
  },
  {
   "cell_type": "code",
   "execution_count": 172,
   "metadata": {
    "ExecuteTime": {
     "end_time": "2024-02-20T14:31:04.454510800Z",
     "start_time": "2024-02-20T14:31:04.228765500Z"
    }
   },
   "outputs": [
    {
     "data": {
      "text/plain": "array([[2, 0],\n       [0, 4]])"
     },
     "execution_count": 172,
     "metadata": {},
     "output_type": "execute_result"
    }
   ],
   "source": [
    "A * B"
   ]
  },
  {
   "cell_type": "markdown",
   "metadata": {},
   "source": [
    "Произведение матриц"
   ]
  },
  {
   "cell_type": "code",
   "execution_count": 173,
   "metadata": {
    "ExecuteTime": {
     "end_time": "2024-02-20T14:31:04.513292200Z",
     "start_time": "2024-02-20T14:31:04.433374100Z"
    }
   },
   "outputs": [
    {
     "data": {
      "text/plain": "array([[5, 4],\n       [3, 4]])"
     },
     "execution_count": 173,
     "metadata": {},
     "output_type": "execute_result"
    }
   ],
   "source": [
    "A @ B"
   ]
  },
  {
   "cell_type": "code",
   "execution_count": 174,
   "metadata": {
    "ExecuteTime": {
     "end_time": "2024-02-20T14:31:04.728232600Z",
     "start_time": "2024-02-20T14:31:04.497513700Z"
    }
   },
   "outputs": [
    {
     "data": {
      "text/plain": "array([[5, 4],\n       [3, 4]])"
     },
     "execution_count": 174,
     "metadata": {},
     "output_type": "execute_result"
    }
   ],
   "source": [
    "A.dot(B)  # то же самое"
   ]
  },
  {
   "cell_type": "markdown",
   "metadata": {},
   "source": [
    "Транспонирование"
   ]
  },
  {
   "cell_type": "code",
   "execution_count": 175,
   "metadata": {
    "ExecuteTime": {
     "end_time": "2024-02-20T14:31:04.835688800Z",
     "start_time": "2024-02-20T14:31:04.701277300Z"
    }
   },
   "outputs": [
    {
     "data": {
      "text/plain": "array([[2, 0],\n       [3, 4]])"
     },
     "execution_count": 175,
     "metadata": {},
     "output_type": "execute_result"
    }
   ],
   "source": [
    "B"
   ]
  },
  {
   "cell_type": "code",
   "execution_count": 176,
   "metadata": {
    "ExecuteTime": {
     "end_time": "2024-02-20T14:31:05.033678400Z",
     "start_time": "2024-02-20T14:31:04.814233700Z"
    }
   },
   "outputs": [
    {
     "data": {
      "text/plain": "array([[2, 3],\n       [0, 4]])"
     },
     "execution_count": 176,
     "metadata": {},
     "output_type": "execute_result"
    }
   ],
   "source": [
    "B.T"
   ]
  },
  {
   "cell_type": "markdown",
   "metadata": {},
   "source": [
    "## Задача - Решение СЛАУ\n",
    "\n",
    "$Ax = b$\n",
    "\n",
    "Функция обратной матрицы - `np.linalg.inv(A)`"
   ]
  },
  {
   "cell_type": "code",
   "execution_count": 177,
   "metadata": {
    "ExecuteTime": {
     "end_time": "2024-02-20T14:31:05.112678200Z",
     "start_time": "2024-02-20T14:31:05.018671Z"
    }
   },
   "outputs": [],
   "source": [
    "A = np.array([\n",
    "    [3, -2],\n",
    "    [5, 1]]\n",
    ")\n",
    "b = np.array([-6, 3])\n",
    "# Решение - [0, 3]"
   ]
  },
  {
   "cell_type": "code",
   "execution_count": 178,
   "metadata": {
    "ExecuteTime": {
     "end_time": "2024-02-20T14:31:05.322957400Z",
     "start_time": "2024-02-20T14:31:05.114680800Z"
    }
   },
   "outputs": [
    {
     "data": {
      "text/plain": "array([1.11022302e-16, 3.00000000e+00])"
     },
     "execution_count": 178,
     "metadata": {},
     "output_type": "execute_result"
    }
   ],
   "source": [
    "a = np.linalg.inv(A)\n",
    "x = a @ b\n",
    "x"
   ]
  },
  {
   "cell_type": "markdown",
   "metadata": {},
   "source": [
    "Проверить себя можно при помощи `np.linalg.solve(A, b)` - функция решения СЛАУ"
   ]
  },
  {
   "cell_type": "code",
   "execution_count": 179,
   "metadata": {
    "ExecuteTime": {
     "end_time": "2024-02-20T14:31:05.397705800Z",
     "start_time": "2024-02-20T14:31:05.257204900Z"
    }
   },
   "outputs": [
    {
     "data": {
      "text/plain": "array([0., 3.])"
     },
     "execution_count": 179,
     "metadata": {},
     "output_type": "execute_result"
    }
   ],
   "source": [
    "np.linalg.solve(A, b)"
   ]
  },
  {
   "cell_type": "markdown",
   "metadata": {},
   "source": [
    "Создание случайного массива"
   ]
  },
  {
   "cell_type": "code",
   "execution_count": 180,
   "metadata": {
    "ExecuteTime": {
     "end_time": "2024-02-20T14:31:05.623033500Z",
     "start_time": "2024-02-20T14:31:05.380959100Z"
    }
   },
   "outputs": [
    {
     "data": {
      "text/plain": "array([[ 0.12168678,  0.44586899, -0.85057286,  0.79083571, -0.26546753],\n       [ 0.3261034 ,  0.5709333 ,  0.51578748,  0.03461761,  0.47706143]])"
     },
     "execution_count": 180,
     "metadata": {},
     "output_type": "execute_result"
    }
   ],
   "source": [
    "rand_arr = np.random.uniform(-1, 1, size=(2, 5))\n",
    "rand_arr"
   ]
  },
  {
   "cell_type": "code",
   "execution_count": 181,
   "metadata": {
    "ExecuteTime": {
     "end_time": "2024-02-20T14:31:05.700142800Z",
     "start_time": "2024-02-20T14:31:05.606708500Z"
    }
   },
   "outputs": [
    {
     "data": {
      "text/plain": "array([0.12168678, 0.44586899, 0.79083571, 0.3261034 , 0.5709333 ,\n       0.51578748, 0.03461761, 0.47706143])"
     },
     "execution_count": 181,
     "metadata": {},
     "output_type": "execute_result"
    }
   ],
   "source": [
    "rand_arr[rand_arr > 0]"
   ]
  },
  {
   "cell_type": "markdown",
   "metadata": {},
   "source": [
    "Считаем сумму по строкам/столбцам"
   ]
  },
  {
   "cell_type": "code",
   "execution_count": 182,
   "metadata": {
    "ExecuteTime": {
     "end_time": "2024-02-20T14:31:05.873864700Z",
     "start_time": "2024-02-20T14:31:05.683033100Z"
    }
   },
   "outputs": [
    {
     "data": {
      "text/plain": "array([ 0.44779018,  1.0168023 , -0.33478538,  0.82545332,  0.21159389])"
     },
     "execution_count": 182,
     "metadata": {},
     "output_type": "execute_result"
    }
   ],
   "source": [
    "rand_arr.sum(axis=0)  # суммируем по столбцам "
   ]
  },
  {
   "cell_type": "code",
   "execution_count": 183,
   "metadata": {
    "ExecuteTime": {
     "end_time": "2024-02-20T14:31:06.008274Z",
     "start_time": "2024-02-20T14:31:05.839146400Z"
    }
   },
   "outputs": [
    {
     "data": {
      "text/plain": "array([0.24235108, 1.92450322])"
     },
     "execution_count": 183,
     "metadata": {},
     "output_type": "execute_result"
    }
   ],
   "source": [
    "rand_arr.sum(axis=1)  # суммируем по строкам"
   ]
  },
  {
   "cell_type": "markdown",
   "metadata": {},
   "source": [
    "Находим минимум максимум во всем массиве и по строкам/столбцам"
   ]
  },
  {
   "cell_type": "code",
   "execution_count": 184,
   "metadata": {
    "ExecuteTime": {
     "end_time": "2024-02-20T14:31:06.190531500Z",
     "start_time": "2024-02-20T14:31:05.987870200Z"
    }
   },
   "outputs": [
    {
     "data": {
      "text/plain": "(0.7908357088089901, -0.8505728608989278)"
     },
     "execution_count": 184,
     "metadata": {},
     "output_type": "execute_result"
    }
   ],
   "source": [
    "rand_arr.max(), rand_arr.min()"
   ]
  },
  {
   "cell_type": "code",
   "execution_count": 185,
   "metadata": {
    "ExecuteTime": {
     "end_time": "2024-02-20T14:31:06.285017500Z",
     "start_time": "2024-02-20T14:31:06.175344300Z"
    }
   },
   "outputs": [
    {
     "data": {
      "text/plain": "array([0.3261034 , 0.5709333 , 0.51578748, 0.79083571, 0.47706143])"
     },
     "execution_count": 185,
     "metadata": {},
     "output_type": "execute_result"
    }
   ],
   "source": [
    "rand_arr.max(axis=0)"
   ]
  },
  {
   "cell_type": "markdown",
   "metadata": {},
   "source": [
    "Также можно применять любые математические операции к массиву"
   ]
  },
  {
   "cell_type": "code",
   "execution_count": 186,
   "metadata": {
    "ExecuteTime": {
     "end_time": "2024-02-20T14:31:06.485342200Z",
     "start_time": "2024-02-20T14:31:06.253503800Z"
    }
   },
   "outputs": [
    {
     "name": "stderr",
     "output_type": "stream",
     "text": [
      "C:\\Users\\lizag\\AppData\\Local\\Temp\\ipykernel_14800\\3678188328.py:1: RuntimeWarning: invalid value encountered in sqrt\n",
      "  np.sqrt(rand_arr)\n"
     ]
    },
    {
     "data": {
      "text/plain": "array([[0.34883632, 0.66773422,        nan, 0.88928944,        nan],\n       [0.57105464, 0.75560129, 0.71818346, 0.18605808, 0.69069633]])"
     },
     "execution_count": 186,
     "metadata": {},
     "output_type": "execute_result"
    }
   ],
   "source": [
    "np.sqrt(rand_arr)"
   ]
  },
  {
   "cell_type": "code",
   "execution_count": 187,
   "metadata": {
    "ExecuteTime": {
     "end_time": "2024-02-20T14:31:06.593167600Z",
     "start_time": "2024-02-20T14:31:06.469993700Z"
    }
   },
   "outputs": [
    {
     "data": {
      "text/plain": "array([[1.12940029, 1.56184684, 0.42717015, 2.20523859, 0.76684734],\n       [1.38555863, 1.76991815, 1.67495698, 1.03522377, 1.61133242]])"
     },
     "execution_count": 187,
     "metadata": {},
     "output_type": "execute_result"
    }
   ],
   "source": [
    "np.exp(rand_arr)"
   ]
  },
  {
   "cell_type": "code",
   "execution_count": 188,
   "metadata": {
    "ExecuteTime": {
     "end_time": "2024-02-20T14:31:06.843843400Z",
     "start_time": "2024-02-20T14:31:06.591323700Z"
    }
   },
   "outputs": [
    {
     "name": "stderr",
     "output_type": "stream",
     "text": [
      "C:\\Users\\lizag\\AppData\\Local\\Temp\\ipykernel_14800\\1285794647.py:1: RuntimeWarning: invalid value encountered in log\n",
      "  np.log(rand_arr)\n"
     ]
    },
    {
     "data": {
      "text/plain": "array([[-2.10630495, -0.80773011,         nan, -0.23466503,         nan],\n       [-1.12054077, -0.56048288, -0.66206045, -3.36339276, -0.74011002]])"
     },
     "execution_count": 188,
     "metadata": {},
     "output_type": "execute_result"
    }
   ],
   "source": [
    "np.log(rand_arr)"
   ]
  },
  {
   "cell_type": "markdown",
   "metadata": {},
   "source": [
    "## Задача\n",
    "\n",
    "Сгенерировать случайную матрицу и посчитать сумму положительных элементов в каждой строке, в каждом столбце."
   ]
  },
  {
   "cell_type": "code",
   "execution_count": 189,
   "metadata": {
    "ExecuteTime": {
     "end_time": "2024-02-20T14:31:06.897902900Z",
     "start_time": "2024-02-20T14:31:06.755180500Z"
    }
   },
   "outputs": [
    {
     "data": {
      "text/plain": "array([0.32191027, 0.13212164, 0.        , 0.42197613])"
     },
     "execution_count": 189,
     "metadata": {},
     "output_type": "execute_result"
    }
   ],
   "source": [
    "rand_arr = np.random.uniform(-1, 1, size=(3, 4))\n",
    "rand_arr[rand_arr < 0] = 0\n",
    "rand_arr.sum(axis=0)"
   ]
  },
  {
   "cell_type": "code",
   "outputs": [
    {
     "data": {
      "text/plain": "array([0.4942464 , 0.05985138, 0.32191027])"
     },
     "execution_count": 190,
     "metadata": {},
     "output_type": "execute_result"
    }
   ],
   "source": [
    "rand_arr.sum(axis=1)"
   ],
   "metadata": {
    "collapsed": false,
    "ExecuteTime": {
     "end_time": "2024-02-20T14:31:07.158938900Z",
     "start_time": "2024-02-20T14:31:06.895845300Z"
    }
   },
   "execution_count": 190
  },
  {
   "cell_type": "markdown",
   "metadata": {},
   "source": [
    "## Индексация\n",
    "\n",
    "Индексация по массивам numpy похожа на индексацию по спискам python, но шире и гибче\n",
    "\n",
    "Общий синтаксис:\n",
    "\n",
    "`a[start:stop:step]`\n",
    "\n",
    "Аргументы можно пропускать, тогда будут взятые аргументы по-умолчанию. Например:\n",
    "\n",
    "`a[:] == a[0:len(a):1]`"
   ]
  },
  {
   "cell_type": "code",
   "execution_count": 191,
   "metadata": {
    "ExecuteTime": {
     "end_time": "2024-02-20T14:31:07.256730700Z",
     "start_time": "2024-02-20T14:31:07.132912300Z"
    }
   },
   "outputs": [],
   "source": [
    "a = np.arange(10)"
   ]
  },
  {
   "cell_type": "markdown",
   "metadata": {},
   "source": [
    "Выбираем один элемент"
   ]
  },
  {
   "cell_type": "code",
   "execution_count": 192,
   "metadata": {
    "ExecuteTime": {
     "end_time": "2024-02-20T14:31:07.460888700Z",
     "start_time": "2024-02-20T14:31:07.240902200Z"
    }
   },
   "outputs": [
    {
     "data": {
      "text/plain": "2"
     },
     "execution_count": 192,
     "metadata": {},
     "output_type": "execute_result"
    }
   ],
   "source": [
    "a[2]"
   ]
  },
  {
   "cell_type": "markdown",
   "metadata": {},
   "source": [
    "Берем подмассив"
   ]
  },
  {
   "cell_type": "code",
   "execution_count": 193,
   "metadata": {
    "ExecuteTime": {
     "end_time": "2024-02-20T14:31:07.521601400Z",
     "start_time": "2024-02-20T14:31:07.443696900Z"
    }
   },
   "outputs": [
    {
     "data": {
      "text/plain": "array([2, 3, 4])"
     },
     "execution_count": 193,
     "metadata": {},
     "output_type": "execute_result"
    }
   ],
   "source": [
    "a[2:5]"
   ]
  },
  {
   "cell_type": "markdown",
   "metadata": {},
   "source": [
    "Подмассив с заданным шагом"
   ]
  },
  {
   "cell_type": "code",
   "execution_count": 194,
   "metadata": {
    "ExecuteTime": {
     "end_time": "2024-02-20T14:31:07.739392200Z",
     "start_time": "2024-02-20T14:31:07.504888400Z"
    }
   },
   "outputs": [
    {
     "data": {
      "text/plain": "array([0, 2, 4])"
     },
     "execution_count": 194,
     "metadata": {},
     "output_type": "execute_result"
    }
   ],
   "source": [
    "a[:6:2]"
   ]
  },
  {
   "cell_type": "code",
   "execution_count": 195,
   "metadata": {
    "ExecuteTime": {
     "end_time": "2024-02-20T14:31:07.866434500Z",
     "start_time": "2024-02-20T14:31:07.682578500Z"
    }
   },
   "outputs": [
    {
     "data": {
      "text/plain": "array([1000,    1, 1000,    3, 1000,    5,    6,    7,    8,    9])"
     },
     "execution_count": 195,
     "metadata": {},
     "output_type": "execute_result"
    }
   ],
   "source": [
    "a[:6:2] = 1000\n",
    "a"
   ]
  },
  {
   "cell_type": "code",
   "execution_count": 196,
   "metadata": {
    "ExecuteTime": {
     "end_time": "2024-02-20T14:31:08.098612100Z",
     "start_time": "2024-02-20T14:31:07.850392100Z"
    }
   },
   "outputs": [
    {
     "data": {
      "text/plain": "array([   9,    8,    7,    6,    5, 1000,    3, 1000,    1, 1000])"
     },
     "execution_count": 196,
     "metadata": {},
     "output_type": "execute_result"
    }
   ],
   "source": [
    "a[::-1]  # инвертировали значения массива "
   ]
  },
  {
   "cell_type": "markdown",
   "metadata": {},
   "source": [
    "Возьмем матрицу из случайных целых чисел"
   ]
  },
  {
   "cell_type": "code",
   "execution_count": 197,
   "metadata": {
    "ExecuteTime": {
     "end_time": "2024-02-20T14:31:08.230285Z",
     "start_time": "2024-02-20T14:31:08.040436300Z"
    }
   },
   "outputs": [
    {
     "data": {
      "text/plain": "array([[1, 1, 3, 1, 3, 4],\n       [3, 2, 1, 4, 3, 1],\n       [4, 4, 1, 2, 3, 3],\n       [2, 1, 3, 4, 2, 3]])"
     },
     "execution_count": 197,
     "metadata": {},
     "output_type": "execute_result"
    }
   ],
   "source": [
    "arr = np.random.randint(1, 5, size=(4, 6))\n",
    "arr"
   ]
  },
  {
   "cell_type": "code",
   "execution_count": 198,
   "metadata": {
    "ExecuteTime": {
     "end_time": "2024-02-20T14:31:08.415885900Z",
     "start_time": "2024-02-20T14:31:08.200613300Z"
    }
   },
   "outputs": [
    {
     "data": {
      "text/plain": "array([4, 4, 1, 2, 3, 3])"
     },
     "execution_count": 198,
     "metadata": {},
     "output_type": "execute_result"
    }
   ],
   "source": [
    "arr[2]"
   ]
  },
  {
   "cell_type": "markdown",
   "metadata": {},
   "source": [
    "По матрицам можно индексироваться отдельно по каждой оси через запятую\n",
    "\n",
    "Сначала указываем индекс для строк, потом для колонок"
   ]
  },
  {
   "cell_type": "code",
   "execution_count": 199,
   "metadata": {
    "ExecuteTime": {
     "end_time": "2024-02-20T14:31:08.503036Z",
     "start_time": "2024-02-20T14:31:08.397262600Z"
    }
   },
   "outputs": [
    {
     "data": {
      "text/plain": "array([[3, 2],\n       [4, 4],\n       [2, 1]])"
     },
     "execution_count": 199,
     "metadata": {},
     "output_type": "execute_result"
    }
   ],
   "source": [
    "arr[1:, :2]"
   ]
  },
  {
   "cell_type": "code",
   "outputs": [
    {
     "data": {
      "text/plain": "array([[1, 1, 3, 1, 3, 4],\n       [3, 2, 1, 4, 3, 1],\n       [4, 4, 1, 2, 3, 3],\n       [2, 1, 3, 4, 2, 3]])"
     },
     "execution_count": 200,
     "metadata": {},
     "output_type": "execute_result"
    }
   ],
   "source": [
    "arr"
   ],
   "metadata": {
    "collapsed": false,
    "ExecuteTime": {
     "end_time": "2024-02-20T14:31:08.682207100Z",
     "start_time": "2024-02-20T14:31:08.498908Z"
    }
   },
   "execution_count": 200
  },
  {
   "cell_type": "code",
   "execution_count": 201,
   "metadata": {
    "ExecuteTime": {
     "end_time": "2024-02-20T14:31:08.779234Z",
     "start_time": "2024-02-20T14:31:08.655030800Z"
    }
   },
   "outputs": [
    {
     "data": {
      "text/plain": "array([[0, 1, 0, 1, 0, 4],\n       [0, 2, 0, 4, 0, 1],\n       [0, 4, 0, 2, 0, 3],\n       [0, 1, 0, 4, 0, 3]])"
     },
     "execution_count": 201,
     "metadata": {},
     "output_type": "execute_result"
    }
   ],
   "source": [
    "arr[::-1, ::2] = 0  # ? строки не переворачиваются, только четные становятся нулями \n",
    "arr"
   ]
  },
  {
   "cell_type": "code",
   "execution_count": 202,
   "metadata": {
    "ExecuteTime": {
     "end_time": "2024-02-20T14:31:08.943912100Z",
     "start_time": "2024-02-20T14:31:08.764206200Z"
    }
   },
   "outputs": [
    {
     "data": {
      "text/plain": "array([0, 1, 0, 4, 0, 3])"
     },
     "execution_count": 202,
     "metadata": {},
     "output_type": "execute_result"
    }
   ],
   "source": [
    "arr[-1]  # взяли последнюю строку "
   ]
  },
  {
   "cell_type": "code",
   "execution_count": 203,
   "metadata": {
    "ExecuteTime": {
     "end_time": "2024-02-20T14:31:09.041389200Z",
     "start_time": "2024-02-20T14:31:08.898209300Z"
    }
   },
   "outputs": [
    {
     "data": {
      "text/plain": "array([[0, 1, 0, 1, 0, 4],\n       [0, 2, 0, 4, 0, 1],\n       [0, 4, 0, 2, 0, 3],\n       [0, 1, 0, 4, 0, 3]])"
     },
     "execution_count": 203,
     "metadata": {},
     "output_type": "execute_result"
    }
   ],
   "source": [
    "arr[:, :]  # взяли всю матрицу "
   ]
  },
  {
   "cell_type": "markdown",
   "metadata": {},
   "source": [
    "Генерируем матрицы"
   ]
  },
  {
   "cell_type": "code",
   "execution_count": 204,
   "metadata": {
    "ExecuteTime": {
     "end_time": "2024-02-20T14:31:09.239814800Z",
     "start_time": "2024-02-20T14:31:09.026876900Z"
    }
   },
   "outputs": [
    {
     "data": {
      "text/plain": "array([[1., 1., 1.],\n       [1., 1., 1.],\n       [1., 1., 1.]])"
     },
     "execution_count": 204,
     "metadata": {},
     "output_type": "execute_result"
    }
   ],
   "source": [
    "np.ones((3, 3))  # матрица из единиц "
   ]
  },
  {
   "cell_type": "code",
   "execution_count": 205,
   "metadata": {
    "ExecuteTime": {
     "end_time": "2024-02-20T14:31:09.342730500Z",
     "start_time": "2024-02-20T14:31:09.224372300Z"
    }
   },
   "outputs": [
    {
     "data": {
      "text/plain": "array([[0., 0., 0.],\n       [0., 0., 0.],\n       [0., 0., 0.]])"
     },
     "execution_count": 205,
     "metadata": {},
     "output_type": "execute_result"
    }
   ],
   "source": [
    "np.zeros((3, 3))  # из нулей "
   ]
  },
  {
   "cell_type": "code",
   "outputs": [],
   "source": [],
   "metadata": {
    "collapsed": false,
    "ExecuteTime": {
     "end_time": "2024-02-20T14:31:09.499828400Z",
     "start_time": "2024-02-20T14:31:09.325719Z"
    }
   },
   "execution_count": 205
  },
  {
   "cell_type": "code",
   "execution_count": 206,
   "metadata": {
    "ExecuteTime": {
     "end_time": "2024-02-20T14:31:09.594858200Z",
     "start_time": "2024-02-20T14:31:09.475765500Z"
    }
   },
   "outputs": [
    {
     "data": {
      "text/plain": "array([[1., 0., 0.],\n       [0., 1., 0.],\n       [0., 0., 1.]])"
     },
     "execution_count": 206,
     "metadata": {},
     "output_type": "execute_result"
    }
   ],
   "source": [
    "np.eye(3)  # единичная матрица размера 3*3"
   ]
  },
  {
   "cell_type": "markdown",
   "metadata": {},
   "source": [
    "## Задача\n",
    "\n",
    "Вывести матрицу из нулей и единиц в шахматном порядке"
   ]
  },
  {
   "cell_type": "code",
   "execution_count": 207,
   "metadata": {
    "ExecuteTime": {
     "end_time": "2024-02-20T14:31:09.767006700Z",
     "start_time": "2024-02-20T14:31:09.572798300Z"
    }
   },
   "outputs": [
    {
     "data": {
      "text/plain": "array([[0., 1., 0., 1., 0., 1., 0., 1.],\n       [1., 0., 1., 0., 1., 0., 1., 0.],\n       [0., 1., 0., 1., 0., 1., 0., 1.],\n       [1., 0., 1., 0., 1., 0., 1., 0.],\n       [0., 1., 0., 1., 0., 1., 0., 1.],\n       [1., 0., 1., 0., 1., 0., 1., 0.],\n       [0., 1., 0., 1., 0., 1., 0., 1.],\n       [1., 0., 1., 0., 1., 0., 1., 0.]])"
     },
     "execution_count": 207,
     "metadata": {},
     "output_type": "execute_result"
    }
   ],
   "source": [
    "matr = np.ones((8, 8))\n",
    "matr[::2, ::2] = 0\n",
    "matr[1::2, 1::2] = 0\n",
    "matr"
   ]
  },
  {
   "cell_type": "markdown",
   "metadata": {},
   "source": [
    "## Расширяем массивы"
   ]
  },
  {
   "cell_type": "code",
   "execution_count": 208,
   "metadata": {
    "ExecuteTime": {
     "end_time": "2024-02-20T14:31:09.902751Z",
     "start_time": "2024-02-20T14:31:09.758822200Z"
    }
   },
   "outputs": [
    {
     "data": {
      "text/plain": "(array([0, 1, 2, 3, 4, 5, 6, 7, 8, 9]),\n array([ 1,  2,  3,  4,  5,  6,  7,  8,  9, 10]))"
     },
     "execution_count": 208,
     "metadata": {},
     "output_type": "execute_result"
    }
   ],
   "source": [
    "a = np.arange(10)\n",
    "b = a + 1\n",
    "a, b"
   ]
  },
  {
   "cell_type": "code",
   "execution_count": 209,
   "metadata": {
    "ExecuteTime": {
     "end_time": "2024-02-20T14:31:10.143384100Z",
     "start_time": "2024-02-20T14:31:09.897972400Z"
    }
   },
   "outputs": [
    {
     "data": {
      "text/plain": "((10,), (10,))"
     },
     "execution_count": 209,
     "metadata": {},
     "output_type": "execute_result"
    }
   ],
   "source": [
    "a.shape, b.shape"
   ]
  },
  {
   "cell_type": "markdown",
   "metadata": {},
   "source": [
    "Соединям по горизонтали"
   ]
  },
  {
   "cell_type": "code",
   "execution_count": 210,
   "metadata": {
    "ExecuteTime": {
     "end_time": "2024-02-20T14:31:10.300419300Z",
     "start_time": "2024-02-20T14:31:10.140753Z"
    }
   },
   "outputs": [
    {
     "data": {
      "text/plain": "array([ 0,  1,  2,  3,  4,  5,  6,  7,  8,  9,  1,  2,  3,  4,  5,  6,  7,\n        8,  9, 10])"
     },
     "execution_count": 210,
     "metadata": {},
     "output_type": "execute_result"
    }
   ],
   "source": [
    "d = np.hstack((a, b))\n",
    "d  # добавили второй под первый массив - получили 20 строк "
   ]
  },
  {
   "cell_type": "markdown",
   "metadata": {},
   "source": [
    "Соединяем по вертикали"
   ]
  },
  {
   "cell_type": "code",
   "execution_count": 211,
   "metadata": {
    "ExecuteTime": {
     "end_time": "2024-02-20T14:31:10.503457100Z",
     "start_time": "2024-02-20T14:31:10.264393500Z"
    }
   },
   "outputs": [
    {
     "data": {
      "text/plain": "array([[ 0,  1,  2,  3,  4,  5,  6,  7,  8,  9],\n       [ 1,  2,  3,  4,  5,  6,  7,  8,  9, 10]])"
     },
     "execution_count": 211,
     "metadata": {},
     "output_type": "execute_result"
    }
   ],
   "source": [
    "c = np.vstack((a, b))\n",
    "c  # получили две строки с каждым из массивов "
   ]
  },
  {
   "cell_type": "code",
   "execution_count": 212,
   "metadata": {
    "ExecuteTime": {
     "end_time": "2024-02-20T14:31:10.614454900Z",
     "start_time": "2024-02-20T14:31:10.479420800Z"
    }
   },
   "outputs": [
    {
     "data": {
      "text/plain": "array([0, 1, 2, 3, 4, 5, 6, 7, 8, 9, 1])"
     },
     "execution_count": 212,
     "metadata": {},
     "output_type": "execute_result"
    }
   ],
   "source": [
    "np.hstack((a, [1]))  # добавили 1 после первого массива "
   ]
  },
  {
   "cell_type": "markdown",
   "metadata": {},
   "source": [
    "Расширение массива в numpy происходит путем создания нового массива.\n",
    "\n",
    "Поэтому если требуется сгенерировать массив, то лучше сделать это через список, а дальше сделать из него массив numpy"
   ]
  },
  {
   "cell_type": "code",
   "execution_count": 213,
   "metadata": {
    "ExecuteTime": {
     "end_time": "2024-02-20T14:31:15.069587700Z",
     "start_time": "2024-02-20T14:31:10.589477900Z"
    }
   },
   "outputs": [
    {
     "name": "stdout",
     "output_type": "stream",
     "text": [
      "5.62 ms ± 498 µs per loop (mean ± std. dev. of 7 runs, 100 loops each)\n"
     ]
    }
   ],
   "source": [
    "%%timeit # медленно \n",
    "\n",
    "a = np.arange(10)\n",
    "for i in range(1000):\n",
    "    a = np.hstack((a, 1))\n",
    "a.shape"
   ]
  },
  {
   "cell_type": "code",
   "execution_count": 214,
   "metadata": {
    "ExecuteTime": {
     "end_time": "2024-02-20T14:31:23.134705300Z",
     "start_time": "2024-02-20T14:31:15.067591900Z"
    }
   },
   "outputs": [
    {
     "name": "stdout",
     "output_type": "stream",
     "text": [
      "90.1 µs ± 1.16 µs per loop (mean ± std. dev. of 7 runs, 10,000 loops each)\n"
     ]
    }
   ],
   "source": [
    "%%timeit # быстро \n",
    "\n",
    "a = list(range(10))\n",
    "for i in range(1000):\n",
    "    a.append(i)\n",
    "np.array(a).shape"
   ]
  },
  {
   "cell_type": "markdown",
   "metadata": {},
   "source": [
    "## Сравниваем скорость list и np.array"
   ]
  },
  {
   "cell_type": "code",
   "execution_count": 215,
   "metadata": {
    "ExecuteTime": {
     "end_time": "2024-02-20T14:31:27.443257500Z",
     "start_time": "2024-02-20T14:31:23.128702400Z"
    }
   },
   "outputs": [
    {
     "name": "stdout",
     "output_type": "stream",
     "text": [
      "5.29 ms ± 23.7 µs per loop (mean ± std. dev. of 7 runs, 100 loops each)\n"
     ]
    }
   ],
   "source": [
    "%%timeit # медленно \n",
    "\n",
    "[i * i for i in range(100000)]"
   ]
  },
  {
   "cell_type": "code",
   "execution_count": 216,
   "metadata": {
    "ExecuteTime": {
     "end_time": "2024-02-20T14:31:36.744022500Z",
     "start_time": "2024-02-20T14:31:27.440260300Z"
    }
   },
   "outputs": [
    {
     "name": "stdout",
     "output_type": "stream",
     "text": [
      "115 µs ± 2.15 µs per loop (mean ± std. dev. of 7 runs, 10,000 loops each)\n"
     ]
    }
   ],
   "source": [
    "%%timeit # быстро \n",
    "\n",
    "a = np.arange(100000)\n",
    "a * a"
   ]
  },
  {
   "cell_type": "markdown",
   "metadata": {},
   "source": [
    "# Pandas\n",
    "\n",
    " Позволяет работать с данными - читать, преобразовывать и сохранять\n",
    "\n",
    " ## Установка\n",
    "\n",
    " ```\n",
    " conda install pandas\n",
    " ```"
   ]
  },
  {
   "cell_type": "code",
   "execution_count": 217,
   "metadata": {
    "ExecuteTime": {
     "end_time": "2024-02-20T14:31:36.760121800Z",
     "start_time": "2024-02-20T14:31:36.741471200Z"
    }
   },
   "outputs": [],
   "source": [
    "import pandas as pd"
   ]
  },
  {
   "cell_type": "markdown",
   "metadata": {},
   "source": [
    "## Series\n",
    "\n",
    "Series - столбец в таблице.\n",
    "\n",
    "Он состоит из индекса (\"имена\" строк) и значений. По-умолчанию индекс - уникальные числа от 0 до длины списка."
   ]
  },
  {
   "cell_type": "markdown",
   "metadata": {},
   "source": [
    "Создавать series можно из списка или массива numpy. "
   ]
  },
  {
   "cell_type": "code",
   "execution_count": 218,
   "metadata": {
    "ExecuteTime": {
     "end_time": "2024-02-20T14:31:36.866740500Z",
     "start_time": "2024-02-20T14:31:36.745025Z"
    }
   },
   "outputs": [
    {
     "data": {
      "text/plain": "0    1\n1    2\n2    3\ndtype: int64"
     },
     "execution_count": 218,
     "metadata": {},
     "output_type": "execute_result"
    }
   ],
   "source": [
    "series = pd.Series([1, 2, 3])\n",
    "series"
   ]
  },
  {
   "cell_type": "code",
   "execution_count": 219,
   "metadata": {
    "ExecuteTime": {
     "end_time": "2024-02-20T14:31:36.903731100Z",
     "start_time": "2024-02-20T14:31:36.762145100Z"
    }
   },
   "outputs": [
    {
     "data": {
      "text/plain": "RangeIndex(start=0, stop=3, step=1)"
     },
     "execution_count": 219,
     "metadata": {},
     "output_type": "execute_result"
    }
   ],
   "source": [
    "series.index"
   ]
  },
  {
   "cell_type": "code",
   "execution_count": 220,
   "metadata": {
    "ExecuteTime": {
     "end_time": "2024-02-20T14:31:36.941772300Z",
     "start_time": "2024-02-20T14:31:36.776086900Z"
    }
   },
   "outputs": [
    {
     "data": {
      "text/plain": "array([1, 2, 3], dtype=int64)"
     },
     "execution_count": 220,
     "metadata": {},
     "output_type": "execute_result"
    }
   ],
   "source": [
    "series.values"
   ]
  },
  {
   "cell_type": "markdown",
   "metadata": {},
   "source": [
    "Индекс может быть строкой"
   ]
  },
  {
   "cell_type": "code",
   "execution_count": 221,
   "metadata": {
    "ExecuteTime": {
     "end_time": "2024-02-20T14:31:36.949333200Z",
     "start_time": "2024-02-20T14:31:36.790388700Z"
    }
   },
   "outputs": [
    {
     "data": {
      "text/plain": "cat       4\ndog       4\nspider    8\ndtype: int64"
     },
     "execution_count": 221,
     "metadata": {},
     "output_type": "execute_result"
    }
   ],
   "source": [
    "legs_counter = pd.Series([4, 4, 8], index=[\"cat\", \"dog\", \"spider\"])\n",
    "legs_counter"
   ]
  },
  {
   "cell_type": "markdown",
   "metadata": {},
   "source": [
    "По series можно индексирования при помощи `loc` и `iloc`\n",
    "\n",
    "- `loc` - если хотим взять по индексу\n",
    "- `iloc` - если хотим взять по порядковому номеру"
   ]
  },
  {
   "cell_type": "code",
   "execution_count": 222,
   "metadata": {
    "ExecuteTime": {
     "end_time": "2024-02-20T14:31:37.104169900Z",
     "start_time": "2024-02-20T14:31:36.806241Z"
    }
   },
   "outputs": [
    {
     "data": {
      "text/plain": "8"
     },
     "execution_count": 222,
     "metadata": {},
     "output_type": "execute_result"
    }
   ],
   "source": [
    "legs_counter.iloc[2]"
   ]
  },
  {
   "cell_type": "code",
   "execution_count": 223,
   "metadata": {
    "ExecuteTime": {
     "end_time": "2024-02-20T14:31:37.142027500Z",
     "start_time": "2024-02-20T14:31:36.818424900Z"
    }
   },
   "outputs": [
    {
     "data": {
      "text/plain": "4"
     },
     "execution_count": 223,
     "metadata": {},
     "output_type": "execute_result"
    }
   ],
   "source": [
    "legs_counter.loc[\"dog\"]"
   ]
  },
  {
   "cell_type": "code",
   "execution_count": 224,
   "metadata": {
    "ExecuteTime": {
     "end_time": "2024-02-20T14:31:37.168732700Z",
     "start_time": "2024-02-20T14:31:36.833891300Z"
    }
   },
   "outputs": [
    {
     "data": {
      "text/plain": "array([4, 8], dtype=int64)"
     },
     "execution_count": 224,
     "metadata": {},
     "output_type": "execute_result"
    }
   ],
   "source": [
    "legs_counter.unique()"
   ]
  },
  {
   "cell_type": "markdown",
   "metadata": {},
   "source": [
    "## DataFrame\n",
    "\n",
    "DataFrame - набор Series, то есть таблица.\n",
    "\n",
    "Индекс для датафрейма - названия строк\n",
    "\n",
    "Колонки - названия столбцов (series)"
   ]
  },
  {
   "cell_type": "code",
   "execution_count": 225,
   "metadata": {
    "ExecuteTime": {
     "end_time": "2024-02-20T14:31:37.190337Z",
     "start_time": "2024-02-20T14:31:36.847679300Z"
    }
   },
   "outputs": [
    {
     "data": {
      "text/plain": "   age  height    name\n0   25     170    Alex\n1   35     180  Polina\n2   45     190   Misha",
      "text/html": "<div>\n<style scoped>\n    .dataframe tbody tr th:only-of-type {\n        vertical-align: middle;\n    }\n\n    .dataframe tbody tr th {\n        vertical-align: top;\n    }\n\n    .dataframe thead th {\n        text-align: right;\n    }\n</style>\n<table border=\"1\" class=\"dataframe\">\n  <thead>\n    <tr style=\"text-align: right;\">\n      <th></th>\n      <th>age</th>\n      <th>height</th>\n      <th>name</th>\n    </tr>\n  </thead>\n  <tbody>\n    <tr>\n      <th>0</th>\n      <td>25</td>\n      <td>170</td>\n      <td>Alex</td>\n    </tr>\n    <tr>\n      <th>1</th>\n      <td>35</td>\n      <td>180</td>\n      <td>Polina</td>\n    </tr>\n    <tr>\n      <th>2</th>\n      <td>45</td>\n      <td>190</td>\n      <td>Misha</td>\n    </tr>\n  </tbody>\n</table>\n</div>"
     },
     "execution_count": 225,
     "metadata": {},
     "output_type": "execute_result"
    }
   ],
   "source": [
    "ages = [25, 35, 45]\n",
    "heights = [170, 180, 190]\n",
    "names = [\"Alex\", \"Polina\", \"Misha\"]\n",
    "data = {'age': ages, 'height': heights, 'name': names}\n",
    "df = pd.DataFrame(data)\n",
    "df"
   ]
  },
  {
   "cell_type": "code",
   "execution_count": 226,
   "metadata": {
    "ExecuteTime": {
     "end_time": "2024-02-20T14:31:37.240772900Z",
     "start_time": "2024-02-20T14:31:36.864739700Z"
    }
   },
   "outputs": [
    {
     "data": {
      "text/plain": "0    25\n1    35\n2    45\nName: age, dtype: int64"
     },
     "execution_count": 226,
     "metadata": {},
     "output_type": "execute_result"
    }
   ],
   "source": [
    "df['age']  #Получился Series"
   ]
  },
  {
   "cell_type": "code",
   "execution_count": 227,
   "metadata": {
    "ExecuteTime": {
     "end_time": "2024-02-20T14:31:37.247767900Z",
     "start_time": "2024-02-20T14:31:36.880458900Z"
    }
   },
   "outputs": [
    {
     "data": {
      "text/plain": "   age  height\n0   25     170\n1   35     180\n2   45     190",
      "text/html": "<div>\n<style scoped>\n    .dataframe tbody tr th:only-of-type {\n        vertical-align: middle;\n    }\n\n    .dataframe tbody tr th {\n        vertical-align: top;\n    }\n\n    .dataframe thead th {\n        text-align: right;\n    }\n</style>\n<table border=\"1\" class=\"dataframe\">\n  <thead>\n    <tr style=\"text-align: right;\">\n      <th></th>\n      <th>age</th>\n      <th>height</th>\n    </tr>\n  </thead>\n  <tbody>\n    <tr>\n      <th>0</th>\n      <td>25</td>\n      <td>170</td>\n    </tr>\n    <tr>\n      <th>1</th>\n      <td>35</td>\n      <td>180</td>\n    </tr>\n    <tr>\n      <th>2</th>\n      <td>45</td>\n      <td>190</td>\n    </tr>\n  </tbody>\n</table>\n</div>"
     },
     "execution_count": 227,
     "metadata": {},
     "output_type": "execute_result"
    }
   ],
   "source": [
    "df[['age', 'height']]  #Получился DataFrame"
   ]
  },
  {
   "cell_type": "code",
   "execution_count": 228,
   "metadata": {
    "ExecuteTime": {
     "end_time": "2024-02-20T14:31:37.292607100Z",
     "start_time": "2024-02-20T14:31:36.898696400Z"
    }
   },
   "outputs": [
    {
     "data": {
      "text/plain": "   age\n0   25\n1   35\n2   45",
      "text/html": "<div>\n<style scoped>\n    .dataframe tbody tr th:only-of-type {\n        vertical-align: middle;\n    }\n\n    .dataframe tbody tr th {\n        vertical-align: top;\n    }\n\n    .dataframe thead th {\n        text-align: right;\n    }\n</style>\n<table border=\"1\" class=\"dataframe\">\n  <thead>\n    <tr style=\"text-align: right;\">\n      <th></th>\n      <th>age</th>\n    </tr>\n  </thead>\n  <tbody>\n    <tr>\n      <th>0</th>\n      <td>25</td>\n    </tr>\n    <tr>\n      <th>1</th>\n      <td>35</td>\n    </tr>\n    <tr>\n      <th>2</th>\n      <td>45</td>\n    </tr>\n  </tbody>\n</table>\n</div>"
     },
     "execution_count": 228,
     "metadata": {},
     "output_type": "execute_result"
    }
   ],
   "source": [
    "df[['age']]  # Получился DataFrame"
   ]
  },
  {
   "cell_type": "markdown",
   "metadata": {},
   "source": [
    "Можно добавить новую колонку"
   ]
  },
  {
   "cell_type": "code",
   "execution_count": 229,
   "metadata": {
    "ExecuteTime": {
     "end_time": "2024-02-20T14:31:37.307467400Z",
     "start_time": "2024-02-20T14:31:36.915524300Z"
    }
   },
   "outputs": [
    {
     "data": {
      "text/plain": "   age  height    name  height/age\n0   25     170    Alex    6.800000\n1   35     180  Polina    5.142857\n2   45     190   Misha    4.222222",
      "text/html": "<div>\n<style scoped>\n    .dataframe tbody tr th:only-of-type {\n        vertical-align: middle;\n    }\n\n    .dataframe tbody tr th {\n        vertical-align: top;\n    }\n\n    .dataframe thead th {\n        text-align: right;\n    }\n</style>\n<table border=\"1\" class=\"dataframe\">\n  <thead>\n    <tr style=\"text-align: right;\">\n      <th></th>\n      <th>age</th>\n      <th>height</th>\n      <th>name</th>\n      <th>height/age</th>\n    </tr>\n  </thead>\n  <tbody>\n    <tr>\n      <th>0</th>\n      <td>25</td>\n      <td>170</td>\n      <td>Alex</td>\n      <td>6.800000</td>\n    </tr>\n    <tr>\n      <th>1</th>\n      <td>35</td>\n      <td>180</td>\n      <td>Polina</td>\n      <td>5.142857</td>\n    </tr>\n    <tr>\n      <th>2</th>\n      <td>45</td>\n      <td>190</td>\n      <td>Misha</td>\n      <td>4.222222</td>\n    </tr>\n  </tbody>\n</table>\n</div>"
     },
     "execution_count": 229,
     "metadata": {},
     "output_type": "execute_result"
    }
   ],
   "source": [
    "df['height/age'] = df['height'] / df['age']\n",
    "df"
   ]
  },
  {
   "cell_type": "code",
   "execution_count": 230,
   "metadata": {
    "ExecuteTime": {
     "end_time": "2024-02-20T14:31:37.335796600Z",
     "start_time": "2024-02-20T14:31:36.932743500Z"
    }
   },
   "outputs": [
    {
     "data": {
      "text/plain": "25"
     },
     "execution_count": 230,
     "metadata": {},
     "output_type": "execute_result"
    }
   ],
   "source": [
    "df[\"age\"].sum()\n",
    "df[\"age\"].min()\n",
    "# df[\"age\"].max()\n",
    "# df[\"age\"].mean()"
   ]
  },
  {
   "cell_type": "markdown",
   "metadata": {},
   "source": [
    "Можно взять содержимое датафрейма как набор numpy-массивов"
   ]
  },
  {
   "cell_type": "code",
   "execution_count": 231,
   "metadata": {
    "ExecuteTime": {
     "end_time": "2024-02-20T14:31:37.372833800Z",
     "start_time": "2024-02-20T14:31:36.946306Z"
    }
   },
   "outputs": [
    {
     "data": {
      "text/plain": "array([[25, 170, 'Alex', 6.8],\n       [35, 180, 'Polina', 5.142857142857143],\n       [45, 190, 'Misha', 4.222222222222222]], dtype=object)"
     },
     "execution_count": 231,
     "metadata": {},
     "output_type": "execute_result"
    }
   ],
   "source": [
    "df.values"
   ]
  },
  {
   "cell_type": "markdown",
   "metadata": {},
   "source": [
    "Можно фильтровать датафреймы"
   ]
  },
  {
   "cell_type": "code",
   "execution_count": 232,
   "metadata": {
    "ExecuteTime": {
     "end_time": "2024-02-20T14:31:37.387796Z",
     "start_time": "2024-02-20T14:31:36.961093600Z"
    }
   },
   "outputs": [
    {
     "data": {
      "text/plain": "   age  height  name  height/age\n0   25     170  Alex         6.8",
      "text/html": "<div>\n<style scoped>\n    .dataframe tbody tr th:only-of-type {\n        vertical-align: middle;\n    }\n\n    .dataframe tbody tr th {\n        vertical-align: top;\n    }\n\n    .dataframe thead th {\n        text-align: right;\n    }\n</style>\n<table border=\"1\" class=\"dataframe\">\n  <thead>\n    <tr style=\"text-align: right;\">\n      <th></th>\n      <th>age</th>\n      <th>height</th>\n      <th>name</th>\n      <th>height/age</th>\n    </tr>\n  </thead>\n  <tbody>\n    <tr>\n      <th>0</th>\n      <td>25</td>\n      <td>170</td>\n      <td>Alex</td>\n      <td>6.8</td>\n    </tr>\n  </tbody>\n</table>\n</div>"
     },
     "execution_count": 232,
     "metadata": {},
     "output_type": "execute_result"
    }
   ],
   "source": [
    "df[df['age'] == 25]"
   ]
  },
  {
   "cell_type": "code",
   "execution_count": 233,
   "metadata": {
    "ExecuteTime": {
     "end_time": "2024-02-20T14:31:37.394795100Z",
     "start_time": "2024-02-20T14:31:36.977697100Z"
    }
   },
   "outputs": [
    {
     "data": {
      "text/plain": "   age  height   name  height/age\n2   45     190  Misha    4.222222",
      "text/html": "<div>\n<style scoped>\n    .dataframe tbody tr th:only-of-type {\n        vertical-align: middle;\n    }\n\n    .dataframe tbody tr th {\n        vertical-align: top;\n    }\n\n    .dataframe thead th {\n        text-align: right;\n    }\n</style>\n<table border=\"1\" class=\"dataframe\">\n  <thead>\n    <tr style=\"text-align: right;\">\n      <th></th>\n      <th>age</th>\n      <th>height</th>\n      <th>name</th>\n      <th>height/age</th>\n    </tr>\n  </thead>\n  <tbody>\n    <tr>\n      <th>2</th>\n      <td>45</td>\n      <td>190</td>\n      <td>Misha</td>\n      <td>4.222222</td>\n    </tr>\n  </tbody>\n</table>\n</div>"
     },
     "execution_count": 233,
     "metadata": {},
     "output_type": "execute_result"
    }
   ],
   "source": [
    "df[(df['age'] > 35) & (df['height'] > 170)]"
   ]
  },
  {
   "cell_type": "markdown",
   "metadata": {},
   "source": [
    "Если нужно поменять какое-то значение, можно использовать [.loc](https://pandas.pydata.org/pandas-docs/stable/user_guide/indexing.html#returning-a-view-versus-a-copy)"
   ]
  },
  {
   "cell_type": "code",
   "execution_count": 234,
   "metadata": {
    "ExecuteTime": {
     "end_time": "2024-02-20T14:31:37.869754800Z",
     "start_time": "2024-02-20T14:31:36.994194500Z"
    }
   },
   "outputs": [],
   "source": [
    "df.loc[df['age'] == 25, 'age'] = 20"
   ]
  },
  {
   "cell_type": "code",
   "execution_count": 235,
   "metadata": {
    "ExecuteTime": {
     "end_time": "2024-02-20T14:31:37.928753600Z",
     "start_time": "2024-02-20T14:31:37.009433100Z"
    }
   },
   "outputs": [
    {
     "data": {
      "text/plain": "   age  height    name  height/age\n0   20     170    Alex    6.800000\n1   35     180  Polina    5.142857",
      "text/html": "<div>\n<style scoped>\n    .dataframe tbody tr th:only-of-type {\n        vertical-align: middle;\n    }\n\n    .dataframe tbody tr th {\n        vertical-align: top;\n    }\n\n    .dataframe thead th {\n        text-align: right;\n    }\n</style>\n<table border=\"1\" class=\"dataframe\">\n  <thead>\n    <tr style=\"text-align: right;\">\n      <th></th>\n      <th>age</th>\n      <th>height</th>\n      <th>name</th>\n      <th>height/age</th>\n    </tr>\n  </thead>\n  <tbody>\n    <tr>\n      <th>0</th>\n      <td>20</td>\n      <td>170</td>\n      <td>Alex</td>\n      <td>6.800000</td>\n    </tr>\n    <tr>\n      <th>1</th>\n      <td>35</td>\n      <td>180</td>\n      <td>Polina</td>\n      <td>5.142857</td>\n    </tr>\n  </tbody>\n</table>\n</div>"
     },
     "execution_count": 235,
     "metadata": {},
     "output_type": "execute_result"
    }
   ],
   "source": [
    "df[df['height/age'] > 5]"
   ]
  },
  {
   "cell_type": "markdown",
   "metadata": {},
   "source": [
    "Создадим категорию \"высокий\", если человек выше 175, а иначе \"низкий\""
   ]
  },
  {
   "cell_type": "code",
   "execution_count": 236,
   "metadata": {
    "ExecuteTime": {
     "end_time": "2024-02-20T14:31:37.958749800Z",
     "start_time": "2024-02-20T14:31:37.025859700Z"
    }
   },
   "outputs": [
    {
     "data": {
      "text/plain": "   age  height    name  height/age height_category\n0   20     170    Alex    6.800000          низкий\n1   35     180  Polina    5.142857         высокий\n2   45     190   Misha    4.222222         высокий",
      "text/html": "<div>\n<style scoped>\n    .dataframe tbody tr th:only-of-type {\n        vertical-align: middle;\n    }\n\n    .dataframe tbody tr th {\n        vertical-align: top;\n    }\n\n    .dataframe thead th {\n        text-align: right;\n    }\n</style>\n<table border=\"1\" class=\"dataframe\">\n  <thead>\n    <tr style=\"text-align: right;\">\n      <th></th>\n      <th>age</th>\n      <th>height</th>\n      <th>name</th>\n      <th>height/age</th>\n      <th>height_category</th>\n    </tr>\n  </thead>\n  <tbody>\n    <tr>\n      <th>0</th>\n      <td>20</td>\n      <td>170</td>\n      <td>Alex</td>\n      <td>6.800000</td>\n      <td>низкий</td>\n    </tr>\n    <tr>\n      <th>1</th>\n      <td>35</td>\n      <td>180</td>\n      <td>Polina</td>\n      <td>5.142857</td>\n      <td>высокий</td>\n    </tr>\n    <tr>\n      <th>2</th>\n      <td>45</td>\n      <td>190</td>\n      <td>Misha</td>\n      <td>4.222222</td>\n      <td>высокий</td>\n    </tr>\n  </tbody>\n</table>\n</div>"
     },
     "execution_count": 236,
     "metadata": {},
     "output_type": "execute_result"
    }
   ],
   "source": [
    "df[\"height_category\"] = df[\"height\"].apply(lambda x: \"высокий\" if x > 175 else \"низкий\")\n",
    "df"
   ]
  },
  {
   "cell_type": "code",
   "execution_count": 237,
   "metadata": {
    "ExecuteTime": {
     "end_time": "2024-02-20T14:31:37.978755400Z",
     "start_time": "2024-02-20T14:31:37.043856700Z"
    }
   },
   "outputs": [
    {
     "data": {
      "text/plain": "   age  height   name  height/age height_category\n2   45     190  Misha    4.222222         высокий",
      "text/html": "<div>\n<style scoped>\n    .dataframe tbody tr th:only-of-type {\n        vertical-align: middle;\n    }\n\n    .dataframe tbody tr th {\n        vertical-align: top;\n    }\n\n    .dataframe thead th {\n        text-align: right;\n    }\n</style>\n<table border=\"1\" class=\"dataframe\">\n  <thead>\n    <tr style=\"text-align: right;\">\n      <th></th>\n      <th>age</th>\n      <th>height</th>\n      <th>name</th>\n      <th>height/age</th>\n      <th>height_category</th>\n    </tr>\n  </thead>\n  <tbody>\n    <tr>\n      <th>2</th>\n      <td>45</td>\n      <td>190</td>\n      <td>Misha</td>\n      <td>4.222222</td>\n      <td>высокий</td>\n    </tr>\n  </tbody>\n</table>\n</div>"
     },
     "execution_count": 237,
     "metadata": {},
     "output_type": "execute_result"
    }
   ],
   "source": [
    "df[(df['height_category'] == \"высокий\") & (df['age'] > 40)]"
   ]
  },
  {
   "cell_type": "markdown",
   "metadata": {},
   "source": [
    "## Задача\n",
    "\n",
    "Посчитать средний рост для высоких людей"
   ]
  },
  {
   "cell_type": "code",
   "execution_count": 238,
   "metadata": {
    "ExecuteTime": {
     "end_time": "2024-02-20T14:31:37.985752400Z",
     "start_time": "2024-02-20T14:31:37.060867800Z"
    }
   },
   "outputs": [
    {
     "data": {
      "text/plain": "185.0"
     },
     "execution_count": 238,
     "metadata": {},
     "output_type": "execute_result"
    }
   ],
   "source": [
    "df[df['height_category'] == \"высокий\"]['height'].mean()\n",
    "# var['height'].mean()"
   ]
  },
  {
   "cell_type": "markdown",
   "metadata": {},
   "source": [
    "## Пропуски в данных\n",
    "\n",
    "Часто в реальных данных есть пропуски. Их надо либо убирать, либо заполнять"
   ]
  },
  {
   "cell_type": "code",
   "execution_count": 239,
   "metadata": {
    "ExecuteTime": {
     "end_time": "2024-02-20T14:31:38.001752100Z",
     "start_time": "2024-02-20T14:31:37.078384100Z"
    }
   },
   "outputs": [
    {
     "data": {
      "text/plain": "      a    b  c\n0  None  1.0  2\n1  None  2.0  3\n2  None  NaN  4",
      "text/html": "<div>\n<style scoped>\n    .dataframe tbody tr th:only-of-type {\n        vertical-align: middle;\n    }\n\n    .dataframe tbody tr th {\n        vertical-align: top;\n    }\n\n    .dataframe thead th {\n        text-align: right;\n    }\n</style>\n<table border=\"1\" class=\"dataframe\">\n  <thead>\n    <tr style=\"text-align: right;\">\n      <th></th>\n      <th>a</th>\n      <th>b</th>\n      <th>c</th>\n    </tr>\n  </thead>\n  <tbody>\n    <tr>\n      <th>0</th>\n      <td>None</td>\n      <td>1.0</td>\n      <td>2</td>\n    </tr>\n    <tr>\n      <th>1</th>\n      <td>None</td>\n      <td>2.0</td>\n      <td>3</td>\n    </tr>\n    <tr>\n      <th>2</th>\n      <td>None</td>\n      <td>NaN</td>\n      <td>4</td>\n    </tr>\n  </tbody>\n</table>\n</div>"
     },
     "execution_count": 239,
     "metadata": {},
     "output_type": "execute_result"
    }
   ],
   "source": [
    "values = [[None, 1, 2], [None, 2, 3], [None, None, 4]]\n",
    "df = pd.DataFrame(values, columns=[\"a\", \"b\", \"c\"])\n",
    "df\n",
    "# колонка b типа float, поэтому там Nan"
   ]
  },
  {
   "cell_type": "code",
   "outputs": [
    {
     "data": {
      "text/plain": "True"
     },
     "execution_count": 240,
     "metadata": {},
     "output_type": "execute_result"
    }
   ],
   "source": [
    "np.isnan(df['b'][2])"
   ],
   "metadata": {
    "collapsed": false,
    "ExecuteTime": {
     "end_time": "2024-02-20T14:31:38.016750200Z",
     "start_time": "2024-02-20T14:31:37.096211200Z"
    }
   },
   "execution_count": 240
  },
  {
   "cell_type": "code",
   "outputs": [
    {
     "data": {
      "text/plain": "True"
     },
     "execution_count": 241,
     "metadata": {},
     "output_type": "execute_result"
    }
   ],
   "source": [
    "a = 5\n",
    "b = 5\n",
    "a is b"
   ],
   "metadata": {
    "collapsed": false,
    "ExecuteTime": {
     "end_time": "2024-02-20T14:31:38.043752100Z",
     "start_time": "2024-02-20T14:31:37.106172700Z"
    }
   },
   "execution_count": 241
  },
  {
   "cell_type": "code",
   "outputs": [
    {
     "data": {
      "text/plain": "False"
     },
     "execution_count": 242,
     "metadata": {},
     "output_type": "execute_result"
    }
   ],
   "source": [
    "a = 1000\n",
    "b = 1000\n",
    "a is b  # выводит false потому что в памяти выделяется место только под первые 255 чисел, поэтому у больших чисел разные адреса (питон сравнивает по ним)"
   ],
   "metadata": {
    "collapsed": false,
    "ExecuteTime": {
     "end_time": "2024-02-20T14:31:38.059750300Z",
     "start_time": "2024-02-20T14:31:37.123347Z"
    }
   },
   "execution_count": 242
  },
  {
   "cell_type": "markdown",
   "metadata": {},
   "source": [
    "За удаление пропусков отвечает функция `dropna()`\n",
    "\n",
    "У dropna есть два важных аргумента:\n",
    "\n",
    "- axis (по-умолчанию 0) - по строкам или по колонкам будем искать наны\n",
    "- how (по-умолчанию 'any') - бывает any и all, ниже пример использования"
   ]
  },
  {
   "cell_type": "markdown",
   "metadata": {},
   "source": [
    "Удаляем столбец `a`, потому что в нем все (all) значения None\n",
    "Удаляем только этот столбец, потому что он полностью состоит из None\n",
    "\n",
    "Сохраним датафрейм, он понадобится ниже"
   ]
  },
  {
   "cell_type": "code",
   "execution_count": 243,
   "metadata": {
    "ExecuteTime": {
     "end_time": "2024-02-20T14:31:38.101749Z",
     "start_time": "2024-02-20T14:31:37.136027800Z"
    }
   },
   "outputs": [
    {
     "data": {
      "text/plain": "     b  c\n0  1.0  2\n1  2.0  3\n2  NaN  4",
      "text/html": "<div>\n<style scoped>\n    .dataframe tbody tr th:only-of-type {\n        vertical-align: middle;\n    }\n\n    .dataframe tbody tr th {\n        vertical-align: top;\n    }\n\n    .dataframe thead th {\n        text-align: right;\n    }\n</style>\n<table border=\"1\" class=\"dataframe\">\n  <thead>\n    <tr style=\"text-align: right;\">\n      <th></th>\n      <th>b</th>\n      <th>c</th>\n    </tr>\n  </thead>\n  <tbody>\n    <tr>\n      <th>0</th>\n      <td>1.0</td>\n      <td>2</td>\n    </tr>\n    <tr>\n      <th>1</th>\n      <td>2.0</td>\n      <td>3</td>\n    </tr>\n    <tr>\n      <th>2</th>\n      <td>NaN</td>\n      <td>4</td>\n    </tr>\n  </tbody>\n</table>\n</div>"
     },
     "execution_count": 243,
     "metadata": {},
     "output_type": "execute_result"
    }
   ],
   "source": [
    "dropped_a = df.dropna(axis=1, how='all')\n",
    "dropped_a"
   ]
  },
  {
   "cell_type": "markdown",
   "metadata": {},
   "source": [
    "Удаляем столбцы `a` и `b`, потому что в них есть None (any)\n",
    "Достаточно одного None в столбце для удаления "
   ]
  },
  {
   "cell_type": "code",
   "execution_count": 244,
   "metadata": {
    "ExecuteTime": {
     "end_time": "2024-02-20T14:31:38.116751100Z",
     "start_time": "2024-02-20T14:31:37.152178800Z"
    }
   },
   "outputs": [
    {
     "data": {
      "text/plain": "   c\n0  2\n1  3\n2  4",
      "text/html": "<div>\n<style scoped>\n    .dataframe tbody tr th:only-of-type {\n        vertical-align: middle;\n    }\n\n    .dataframe tbody tr th {\n        vertical-align: top;\n    }\n\n    .dataframe thead th {\n        text-align: right;\n    }\n</style>\n<table border=\"1\" class=\"dataframe\">\n  <thead>\n    <tr style=\"text-align: right;\">\n      <th></th>\n      <th>c</th>\n    </tr>\n  </thead>\n  <tbody>\n    <tr>\n      <th>0</th>\n      <td>2</td>\n    </tr>\n    <tr>\n      <th>1</th>\n      <td>3</td>\n    </tr>\n    <tr>\n      <th>2</th>\n      <td>4</td>\n    </tr>\n  </tbody>\n</table>\n</div>"
     },
     "execution_count": 244,
     "metadata": {},
     "output_type": "execute_result"
    }
   ],
   "source": [
    "df.dropna(axis=1, how='any')"
   ]
  },
  {
   "cell_type": "markdown",
   "metadata": {},
   "source": [
    "Возьмем датафрейм выше. Удалим из него последнюю строку (axis = 0), так как в ней есть None"
   ]
  },
  {
   "cell_type": "code",
   "execution_count": 245,
   "metadata": {
    "ExecuteTime": {
     "end_time": "2024-02-20T14:31:38.155756700Z",
     "start_time": "2024-02-20T14:31:37.167734Z"
    }
   },
   "outputs": [
    {
     "data": {
      "text/plain": "     b  c\n0  1.0  2\n1  2.0  3",
      "text/html": "<div>\n<style scoped>\n    .dataframe tbody tr th:only-of-type {\n        vertical-align: middle;\n    }\n\n    .dataframe tbody tr th {\n        vertical-align: top;\n    }\n\n    .dataframe thead th {\n        text-align: right;\n    }\n</style>\n<table border=\"1\" class=\"dataframe\">\n  <thead>\n    <tr style=\"text-align: right;\">\n      <th></th>\n      <th>b</th>\n      <th>c</th>\n    </tr>\n  </thead>\n  <tbody>\n    <tr>\n      <th>0</th>\n      <td>1.0</td>\n      <td>2</td>\n    </tr>\n    <tr>\n      <th>1</th>\n      <td>2.0</td>\n      <td>3</td>\n    </tr>\n  </tbody>\n</table>\n</div>"
     },
     "execution_count": 245,
     "metadata": {},
     "output_type": "execute_result"
    }
   ],
   "source": [
    "dropped_a.dropna(axis=0, how='any')"
   ]
  },
  {
   "cell_type": "markdown",
   "metadata": {},
   "source": [
    "Заполним пустые значения 0"
   ]
  },
  {
   "cell_type": "code",
   "execution_count": 246,
   "metadata": {
    "ExecuteTime": {
     "end_time": "2024-02-20T14:31:38.184749800Z",
     "start_time": "2024-02-20T14:31:37.184305500Z"
    }
   },
   "outputs": [
    {
     "data": {
      "text/plain": "   a    b  c\n0  0  1.0  2\n1  0  2.0  3\n2  0  0.0  4",
      "text/html": "<div>\n<style scoped>\n    .dataframe tbody tr th:only-of-type {\n        vertical-align: middle;\n    }\n\n    .dataframe tbody tr th {\n        vertical-align: top;\n    }\n\n    .dataframe thead th {\n        text-align: right;\n    }\n</style>\n<table border=\"1\" class=\"dataframe\">\n  <thead>\n    <tr style=\"text-align: right;\">\n      <th></th>\n      <th>a</th>\n      <th>b</th>\n      <th>c</th>\n    </tr>\n  </thead>\n  <tbody>\n    <tr>\n      <th>0</th>\n      <td>0</td>\n      <td>1.0</td>\n      <td>2</td>\n    </tr>\n    <tr>\n      <th>1</th>\n      <td>0</td>\n      <td>2.0</td>\n      <td>3</td>\n    </tr>\n    <tr>\n      <th>2</th>\n      <td>0</td>\n      <td>0.0</td>\n      <td>4</td>\n    </tr>\n  </tbody>\n</table>\n</div>"
     },
     "execution_count": 246,
     "metadata": {},
     "output_type": "execute_result"
    }
   ],
   "source": [
    "df.fillna(0)"
   ]
  },
  {
   "cell_type": "code",
   "outputs": [
    {
     "data": {
      "text/plain": "     a    b  c\n0  5.0  1.0  2\n1  NaN  2.0  3\n2  NaN  NaN  4\n3  2.0  4.0  5",
      "text/html": "<div>\n<style scoped>\n    .dataframe tbody tr th:only-of-type {\n        vertical-align: middle;\n    }\n\n    .dataframe tbody tr th {\n        vertical-align: top;\n    }\n\n    .dataframe thead th {\n        text-align: right;\n    }\n</style>\n<table border=\"1\" class=\"dataframe\">\n  <thead>\n    <tr style=\"text-align: right;\">\n      <th></th>\n      <th>a</th>\n      <th>b</th>\n      <th>c</th>\n    </tr>\n  </thead>\n  <tbody>\n    <tr>\n      <th>0</th>\n      <td>5.0</td>\n      <td>1.0</td>\n      <td>2</td>\n    </tr>\n    <tr>\n      <th>1</th>\n      <td>NaN</td>\n      <td>2.0</td>\n      <td>3</td>\n    </tr>\n    <tr>\n      <th>2</th>\n      <td>NaN</td>\n      <td>NaN</td>\n      <td>4</td>\n    </tr>\n    <tr>\n      <th>3</th>\n      <td>2.0</td>\n      <td>4.0</td>\n      <td>5</td>\n    </tr>\n  </tbody>\n</table>\n</div>"
     },
     "execution_count": 247,
     "metadata": {},
     "output_type": "execute_result"
    }
   ],
   "source": [
    "values_1 = [[5, 1, 2], [None, 2, 3], [None, None, 4], [2, 4, 5]]\n",
    "df = pd.DataFrame(values_1, columns=[\"a\", \"b\", \"c\"])\n",
    "df"
   ],
   "metadata": {
    "collapsed": false,
    "ExecuteTime": {
     "end_time": "2024-02-20T14:31:38.199751900Z",
     "start_time": "2024-02-20T14:31:37.201411900Z"
    }
   },
   "execution_count": 247
  },
  {
   "cell_type": "markdown",
   "metadata": {},
   "source": [
    "Заполним последним известным значением"
   ]
  },
  {
   "cell_type": "code",
   "execution_count": 248,
   "metadata": {
    "ExecuteTime": {
     "end_time": "2024-02-20T14:31:38.220749300Z",
     "start_time": "2024-02-20T14:31:37.219573700Z"
    }
   },
   "outputs": [
    {
     "data": {
      "text/plain": "     a    b  c\n0  5.0  1.0  2\n1  5.0  2.0  3\n2  5.0  2.0  4\n3  2.0  4.0  5",
      "text/html": "<div>\n<style scoped>\n    .dataframe tbody tr th:only-of-type {\n        vertical-align: middle;\n    }\n\n    .dataframe tbody tr th {\n        vertical-align: top;\n    }\n\n    .dataframe thead th {\n        text-align: right;\n    }\n</style>\n<table border=\"1\" class=\"dataframe\">\n  <thead>\n    <tr style=\"text-align: right;\">\n      <th></th>\n      <th>a</th>\n      <th>b</th>\n      <th>c</th>\n    </tr>\n  </thead>\n  <tbody>\n    <tr>\n      <th>0</th>\n      <td>5.0</td>\n      <td>1.0</td>\n      <td>2</td>\n    </tr>\n    <tr>\n      <th>1</th>\n      <td>5.0</td>\n      <td>2.0</td>\n      <td>3</td>\n    </tr>\n    <tr>\n      <th>2</th>\n      <td>5.0</td>\n      <td>2.0</td>\n      <td>4</td>\n    </tr>\n    <tr>\n      <th>3</th>\n      <td>2.0</td>\n      <td>4.0</td>\n      <td>5</td>\n    </tr>\n  </tbody>\n</table>\n</div>"
     },
     "execution_count": 248,
     "metadata": {},
     "output_type": "execute_result"
    }
   ],
   "source": [
    "df.fillna(method=\"ffill\")  # заполняет последним известным числом \n",
    "# Тоже самое, что и df.ffill()"
   ]
  },
  {
   "cell_type": "code",
   "outputs": [
    {
     "data": {
      "text/plain": "     a    b  c\n0  5.0  1.0  2\n1  2.0  2.0  3\n2  2.0  4.0  4\n3  2.0  4.0  5",
      "text/html": "<div>\n<style scoped>\n    .dataframe tbody tr th:only-of-type {\n        vertical-align: middle;\n    }\n\n    .dataframe tbody tr th {\n        vertical-align: top;\n    }\n\n    .dataframe thead th {\n        text-align: right;\n    }\n</style>\n<table border=\"1\" class=\"dataframe\">\n  <thead>\n    <tr style=\"text-align: right;\">\n      <th></th>\n      <th>a</th>\n      <th>b</th>\n      <th>c</th>\n    </tr>\n  </thead>\n  <tbody>\n    <tr>\n      <th>0</th>\n      <td>5.0</td>\n      <td>1.0</td>\n      <td>2</td>\n    </tr>\n    <tr>\n      <th>1</th>\n      <td>2.0</td>\n      <td>2.0</td>\n      <td>3</td>\n    </tr>\n    <tr>\n      <th>2</th>\n      <td>2.0</td>\n      <td>4.0</td>\n      <td>4</td>\n    </tr>\n    <tr>\n      <th>3</th>\n      <td>2.0</td>\n      <td>4.0</td>\n      <td>5</td>\n    </tr>\n  </tbody>\n</table>\n</div>"
     },
     "execution_count": 249,
     "metadata": {},
     "output_type": "execute_result"
    }
   ],
   "source": [
    "df.fillna(method=\"bfill\")  # заполняет первым следующим известным числом (смотрим в будущее)"
   ],
   "metadata": {
    "collapsed": false,
    "ExecuteTime": {
     "end_time": "2024-02-20T14:31:38.273751900Z",
     "start_time": "2024-02-20T14:31:37.235770800Z"
    }
   },
   "execution_count": 249
  },
  {
   "cell_type": "markdown",
   "metadata": {},
   "source": [
    "Заполним средним между соседними известными значениями"
   ]
  },
  {
   "cell_type": "code",
   "execution_count": 250,
   "metadata": {
    "ExecuteTime": {
     "end_time": "2024-02-20T14:31:38.286749700Z",
     "start_time": "2024-02-20T14:31:37.260312800Z"
    }
   },
   "outputs": [
    {
     "data": {
      "text/plain": "     a    b  c\n0  5.0  1.0  2\n1  4.0  2.0  3\n2  3.0  3.0  4\n3  2.0  4.0  5",
      "text/html": "<div>\n<style scoped>\n    .dataframe tbody tr th:only-of-type {\n        vertical-align: middle;\n    }\n\n    .dataframe tbody tr th {\n        vertical-align: top;\n    }\n\n    .dataframe thead th {\n        text-align: right;\n    }\n</style>\n<table border=\"1\" class=\"dataframe\">\n  <thead>\n    <tr style=\"text-align: right;\">\n      <th></th>\n      <th>a</th>\n      <th>b</th>\n      <th>c</th>\n    </tr>\n  </thead>\n  <tbody>\n    <tr>\n      <th>0</th>\n      <td>5.0</td>\n      <td>1.0</td>\n      <td>2</td>\n    </tr>\n    <tr>\n      <th>1</th>\n      <td>4.0</td>\n      <td>2.0</td>\n      <td>3</td>\n    </tr>\n    <tr>\n      <th>2</th>\n      <td>3.0</td>\n      <td>3.0</td>\n      <td>4</td>\n    </tr>\n    <tr>\n      <th>3</th>\n      <td>2.0</td>\n      <td>4.0</td>\n      <td>5</td>\n    </tr>\n  </tbody>\n</table>\n</div>"
     },
     "execution_count": 250,
     "metadata": {},
     "output_type": "execute_result"
    }
   ],
   "source": [
    "df.interpolate()  # рисуем прямую между соседними значениями, также смотрим в будущее "
   ]
  },
  {
   "cell_type": "markdown",
   "metadata": {},
   "source": [
    "## Работаем с данными\n",
    "\n",
    "Мы можем прочитать таблицу из разных форматов: Excel, CSV, TSV, HDF и т.д.\n",
    "\n",
    "Начнем с самого простого формата - CSV. Можно открыть в блокноте файл `data/weather.csv` и посмотреть как он выглядит.\n",
    "\n",
    "Чтобы загрузить файл в DataFrame, воспользуемся методом `pd.read_csv()`"
   ]
  },
  {
   "cell_type": "code",
   "execution_count": 251,
   "metadata": {
    "ExecuteTime": {
     "end_time": "2024-02-20T14:31:38.320754200Z",
     "start_time": "2024-02-20T14:31:37.277931400Z"
    }
   },
   "outputs": [
    {
     "data": {
      "text/plain": "          Day   t\n0  2008-01-01   0\n1  2008-01-02  -5\n2  2008-01-03 -11\n3  2008-01-04 -11\n4  2008-01-05 -12",
      "text/html": "<div>\n<style scoped>\n    .dataframe tbody tr th:only-of-type {\n        vertical-align: middle;\n    }\n\n    .dataframe tbody tr th {\n        vertical-align: top;\n    }\n\n    .dataframe thead th {\n        text-align: right;\n    }\n</style>\n<table border=\"1\" class=\"dataframe\">\n  <thead>\n    <tr style=\"text-align: right;\">\n      <th></th>\n      <th>Day</th>\n      <th>t</th>\n    </tr>\n  </thead>\n  <tbody>\n    <tr>\n      <th>0</th>\n      <td>2008-01-01</td>\n      <td>0</td>\n    </tr>\n    <tr>\n      <th>1</th>\n      <td>2008-01-02</td>\n      <td>-5</td>\n    </tr>\n    <tr>\n      <th>2</th>\n      <td>2008-01-03</td>\n      <td>-11</td>\n    </tr>\n    <tr>\n      <th>3</th>\n      <td>2008-01-04</td>\n      <td>-11</td>\n    </tr>\n    <tr>\n      <th>4</th>\n      <td>2008-01-05</td>\n      <td>-12</td>\n    </tr>\n  </tbody>\n</table>\n</div>"
     },
     "execution_count": 251,
     "metadata": {},
     "output_type": "execute_result"
    }
   ],
   "source": [
    "df = pd.read_csv('../data/weather.csv')\n",
    "df.head()  # по умолчанию первые 5 строк выводим/указываем число строк, которые хотим вывести"
   ]
  },
  {
   "cell_type": "code",
   "execution_count": 252,
   "metadata": {
    "ExecuteTime": {
     "end_time": "2024-02-20T14:31:38.333752200Z",
     "start_time": "2024-02-20T14:31:37.293610100Z"
    }
   },
   "outputs": [
    {
     "data": {
      "text/plain": "                 t\ncount  3285.000000\nmean      8.137595\nstd      10.403138\nmin     -23.000000\n25%       1.000000\n50%       8.000000\n75%      17.000000\nmax      34.000000",
      "text/html": "<div>\n<style scoped>\n    .dataframe tbody tr th:only-of-type {\n        vertical-align: middle;\n    }\n\n    .dataframe tbody tr th {\n        vertical-align: top;\n    }\n\n    .dataframe thead th {\n        text-align: right;\n    }\n</style>\n<table border=\"1\" class=\"dataframe\">\n  <thead>\n    <tr style=\"text-align: right;\">\n      <th></th>\n      <th>t</th>\n    </tr>\n  </thead>\n  <tbody>\n    <tr>\n      <th>count</th>\n      <td>3285.000000</td>\n    </tr>\n    <tr>\n      <th>mean</th>\n      <td>8.137595</td>\n    </tr>\n    <tr>\n      <th>std</th>\n      <td>10.403138</td>\n    </tr>\n    <tr>\n      <th>min</th>\n      <td>-23.000000</td>\n    </tr>\n    <tr>\n      <th>25%</th>\n      <td>1.000000</td>\n    </tr>\n    <tr>\n      <th>50%</th>\n      <td>8.000000</td>\n    </tr>\n    <tr>\n      <th>75%</th>\n      <td>17.000000</td>\n    </tr>\n    <tr>\n      <th>max</th>\n      <td>34.000000</td>\n    </tr>\n  </tbody>\n</table>\n</div>"
     },
     "execution_count": 252,
     "metadata": {},
     "output_type": "execute_result"
    }
   ],
   "source": [
    "df.describe()"
   ]
  },
  {
   "cell_type": "code",
   "execution_count": 253,
   "metadata": {
    "ExecuteTime": {
     "end_time": "2024-02-20T14:31:38.384750900Z",
     "start_time": "2024-02-20T14:31:37.305467800Z"
    }
   },
   "outputs": [
    {
     "data": {
      "text/plain": "         Day   t  year  month  day\n0 2008-01-01   0  2008      1    1\n1 2008-01-02  -5  2008      1    2\n2 2008-01-03 -11  2008      1    3\n3 2008-01-04 -11  2008      1    4\n4 2008-01-05 -12  2008      1    5",
      "text/html": "<div>\n<style scoped>\n    .dataframe tbody tr th:only-of-type {\n        vertical-align: middle;\n    }\n\n    .dataframe tbody tr th {\n        vertical-align: top;\n    }\n\n    .dataframe thead th {\n        text-align: right;\n    }\n</style>\n<table border=\"1\" class=\"dataframe\">\n  <thead>\n    <tr style=\"text-align: right;\">\n      <th></th>\n      <th>Day</th>\n      <th>t</th>\n      <th>year</th>\n      <th>month</th>\n      <th>day</th>\n    </tr>\n  </thead>\n  <tbody>\n    <tr>\n      <th>0</th>\n      <td>2008-01-01</td>\n      <td>0</td>\n      <td>2008</td>\n      <td>1</td>\n      <td>1</td>\n    </tr>\n    <tr>\n      <th>1</th>\n      <td>2008-01-02</td>\n      <td>-5</td>\n      <td>2008</td>\n      <td>1</td>\n      <td>2</td>\n    </tr>\n    <tr>\n      <th>2</th>\n      <td>2008-01-03</td>\n      <td>-11</td>\n      <td>2008</td>\n      <td>1</td>\n      <td>3</td>\n    </tr>\n    <tr>\n      <th>3</th>\n      <td>2008-01-04</td>\n      <td>-11</td>\n      <td>2008</td>\n      <td>1</td>\n      <td>4</td>\n    </tr>\n    <tr>\n      <th>4</th>\n      <td>2008-01-05</td>\n      <td>-12</td>\n      <td>2008</td>\n      <td>1</td>\n      <td>5</td>\n    </tr>\n  </tbody>\n</table>\n</div>"
     },
     "execution_count": 253,
     "metadata": {},
     "output_type": "execute_result"
    }
   ],
   "source": [
    "df[\"Day\"] = pd.to_datetime(df[\"Day\"])\n",
    "df[\"year\"] = df.Day.dt.year  # dt - datetime, через него достаем год, месяц, день \n",
    "df[\"month\"] = df.Day.dt.month\n",
    "df[\"day\"] = df.Day.dt.day\n",
    "df.head()"
   ]
  },
  {
   "cell_type": "markdown",
   "metadata": {},
   "source": [
    "## Задача\n",
    "\n",
    "Вывести среднюю температуру за январь 2010 года"
   ]
  },
  {
   "cell_type": "code",
   "execution_count": 254,
   "metadata": {
    "ExecuteTime": {
     "end_time": "2024-02-20T14:31:38.407749700Z",
     "start_time": "2024-02-20T14:31:37.323551100Z"
    }
   },
   "outputs": [
    {
     "data": {
      "text/plain": "-11.419354838709678"
     },
     "execution_count": 254,
     "metadata": {},
     "output_type": "execute_result"
    }
   ],
   "source": [
    "df[(df[\"year\"] == 2010) & (df[\"month\"] == 1)][\"t\"].mean()\n",
    "df.loc[(df['year'] == 2010) & (df['month'] == 1), 't'].mean()  # лучше через loc "
   ]
  },
  {
   "cell_type": "markdown",
   "metadata": {},
   "source": [
    "## Группировка и агрегация данных\n",
    "\n",
    "Иногда нужно объединять строки, в которых есть какие-то одинаковые значения.\n",
    "\n",
    "Например, мы хотим посчитать среднюю температуру для каждого месяца. Это значит, что нам нужны строки, в которых совпадают year и month"
   ]
  },
  {
   "cell_type": "code",
   "execution_count": 255,
   "metadata": {
    "ExecuteTime": {
     "end_time": "2024-02-20T14:31:38.558750400Z",
     "start_time": "2024-02-20T14:31:37.334795700Z"
    }
   },
   "outputs": [
    {
     "name": "stdout",
     "output_type": "stream",
     "text": [
      "(2008, 1)\n",
      "         Day  t  year  month  day\n",
      "0 2008-01-01  0  2008      1    1\n",
      "1 2008-01-02 -5  2008      1    2\n",
      "(2008, 2)\n",
      "          Day  t  year  month  day\n",
      "31 2008-02-01  0  2008      2    1\n",
      "32 2008-02-02  2  2008      2    2\n",
      "(2008, 3)\n",
      "          Day  t  year  month  day\n",
      "60 2008-03-01  1  2008      3    1\n",
      "61 2008-03-02 -1  2008      3    2\n",
      "(2008, 4)\n",
      "          Day   t  year  month  day\n",
      "91 2008-04-01  13  2008      4    1\n",
      "92 2008-04-02  11  2008      4    2\n",
      "(2008, 5)\n",
      "           Day   t  year  month  day\n",
      "121 2008-05-01  21  2008      5    1\n",
      "122 2008-05-02  22  2008      5    2\n",
      "(2008, 6)\n",
      "           Day   t  year  month  day\n",
      "151 2008-06-01  15  2008      6    1\n",
      "152 2008-06-02  17  2008      6    2\n",
      "(2008, 7)\n",
      "           Day   t  year  month  day\n",
      "181 2008-07-01  24  2008      7    1\n",
      "182 2008-07-02  23  2008      7    2\n",
      "(2008, 8)\n",
      "           Day   t  year  month  day\n",
      "212 2008-08-01  22  2008      8    1\n",
      "213 2008-08-02  16  2008      8    2\n",
      "(2008, 9)\n",
      "           Day   t  year  month  day\n",
      "243 2008-09-01  12  2008      9    1\n",
      "244 2008-09-02  13  2008      9    2\n",
      "(2008, 10)\n",
      "           Day   t  year  month  day\n",
      "273 2008-10-01   7  2008     10    1\n",
      "274 2008-10-02  12  2008     10    2\n",
      "(2008, 11)\n",
      "           Day  t  year  month  day\n",
      "304 2008-11-01  6  2008     11    1\n",
      "305 2008-11-02  4  2008     11    2\n",
      "(2008, 12)\n",
      "           Day  t  year  month  day\n",
      "334 2008-12-01  4  2008     12    1\n",
      "335 2008-12-02  4  2008     12    2\n",
      "(2009, 1)\n",
      "           Day  t  year  month  day\n",
      "365 2009-01-01 -5  2009      1    1\n",
      "366 2009-01-02 -9  2009      1    2\n",
      "(2009, 2)\n",
      "           Day   t  year  month  day\n",
      "396 2009-02-01 -10  2009      2    1\n",
      "397 2009-02-02  -3  2009      2    2\n",
      "(2009, 3)\n",
      "           Day  t  year  month  day\n",
      "424 2009-03-01 -2  2009      3    1\n",
      "425 2009-03-02 -3  2009      3    2\n",
      "(2009, 4)\n",
      "           Day  t  year  month  day\n",
      "455 2009-04-01  3  2009      4    1\n",
      "456 2009-04-02  3  2009      4    2\n",
      "(2009, 5)\n",
      "           Day   t  year  month  day\n",
      "485 2009-05-01  11  2009      5    1\n",
      "486 2009-05-02  14  2009      5    2\n",
      "(2009, 6)\n",
      "           Day   t  year  month  day\n",
      "516 2009-06-01  25  2009      6    1\n",
      "517 2009-06-02  18  2009      6    2\n",
      "(2009, 7)\n",
      "           Day   t  year  month  day\n",
      "546 2009-07-01  21  2009      7    1\n",
      "547 2009-07-02  22  2009      7    2\n",
      "(2009, 8)\n",
      "           Day   t  year  month  day\n",
      "577 2009-08-01  20  2009      8    1\n",
      "578 2009-08-02  19  2009      8    2\n",
      "(2009, 9)\n",
      "           Day   t  year  month  day\n",
      "608 2009-09-01  18  2009      9    1\n",
      "609 2009-09-02  22  2009      9    2\n",
      "(2009, 10)\n",
      "           Day  t  year  month  day\n",
      "638 2009-10-01  6  2009     10    1\n",
      "639 2009-10-02  7  2009     10    2\n",
      "(2009, 11)\n",
      "           Day  t  year  month  day\n",
      "669 2009-11-01  0  2009     11    1\n",
      "670 2009-11-02  3  2009     11    2\n",
      "(2009, 12)\n",
      "           Day  t  year  month  day\n",
      "699 2009-12-01  5  2009     12    1\n",
      "700 2009-12-02  4  2009     12    2\n",
      "(2010, 1)\n",
      "           Day   t  year  month  day\n",
      "730 2010-01-01 -14  2010      1    1\n",
      "731 2010-01-02 -13  2010      1    2\n",
      "(2010, 2)\n",
      "           Day  t  year  month  day\n",
      "761 2010-02-01 -6  2010      2    1\n",
      "762 2010-02-02 -2  2010      2    2\n",
      "(2010, 3)\n",
      "           Day  t  year  month  day\n",
      "789 2010-03-01  0  2010      3    1\n",
      "790 2010-03-02  2  2010      3    2\n",
      "(2010, 4)\n",
      "           Day   t  year  month  day\n",
      "820 2010-04-01  12  2010      4    1\n",
      "821 2010-04-02  11  2010      4    2\n",
      "(2010, 5)\n",
      "           Day   t  year  month  day\n",
      "850 2010-05-01  11  2010      5    1\n",
      "851 2010-05-02  13  2010      5    2\n",
      "(2010, 6)\n",
      "           Day   t  year  month  day\n",
      "881 2010-06-01  20  2010      6    1\n",
      "882 2010-06-02  11  2010      6    2\n",
      "(2010, 7)\n",
      "           Day   t  year  month  day\n",
      "911 2010-07-01  26  2010      7    1\n",
      "912 2010-07-02  20  2010      7    2\n",
      "(2010, 8)\n",
      "           Day   t  year  month  day\n",
      "942 2010-08-01  24  2010      8    1\n",
      "943 2010-08-02  26  2010      8    2\n",
      "(2010, 9)\n",
      "           Day   t  year  month  day\n",
      "973 2010-09-01  16  2010      9    1\n",
      "974 2010-09-02  10  2010      9    2\n",
      "(2010, 10)\n",
      "            Day   t  year  month  day\n",
      "1003 2010-10-01  12  2010     10    1\n",
      "1004 2010-10-02  10  2010     10    2\n",
      "(2010, 11)\n",
      "            Day  t  year  month  day\n",
      "1034 2010-11-01  7  2010     11    1\n",
      "1035 2010-11-02  7  2010     11    2\n",
      "(2010, 12)\n",
      "            Day   t  year  month  day\n",
      "1064 2010-12-01 -15  2010     12    1\n",
      "1065 2010-12-02  -8  2010     12    2\n",
      "(2011, 1)\n",
      "            Day   t  year  month  day\n",
      "1095 2011-01-01 -11  2011      1    1\n",
      "1096 2011-01-02  -7  2011      1    2\n",
      "(2011, 2)\n",
      "            Day  t  year  month  day\n",
      "1126 2011-02-01  0  2011      2    1\n",
      "1127 2011-02-02  1  2011      2    2\n",
      "(2011, 3)\n",
      "            Day   t  year  month  day\n",
      "1154 2011-03-01 -10  2011      3    1\n",
      "1155 2011-03-02  -3  2011      3    2\n",
      "(2011, 4)\n",
      "            Day  t  year  month  day\n",
      "1185 2011-04-01  4  2011      4    1\n",
      "1186 2011-04-02  5  2011      4    2\n",
      "(2011, 5)\n",
      "            Day  t  year  month  day\n",
      "1215 2011-05-01  5  2011      5    1\n",
      "1216 2011-05-02  3  2011      5    2\n",
      "(2011, 6)\n",
      "            Day   t  year  month  day\n",
      "1246 2011-06-01  28  2011      6    1\n",
      "1247 2011-06-02  20  2011      6    2\n",
      "(2011, 7)\n",
      "            Day   t  year  month  day\n",
      "1276 2011-07-01  30  2011      7    1\n",
      "1277 2011-07-02  30  2011      7    2\n",
      "(2011, 8)\n",
      "            Day   t  year  month  day\n",
      "1306 2011-08-01  16  2011      8    1\n",
      "1307 2011-08-02  16  2011      8    2\n",
      "(2011, 9)\n",
      "            Day   t  year  month  day\n",
      "1337 2011-09-01  15  2011      9    1\n",
      "1338 2011-09-02  17  2011      9    2\n",
      "(2011, 10)\n",
      "            Day   t  year  month  day\n",
      "1367 2011-10-01  12  2011     10    1\n",
      "1368 2011-10-02  11  2011     10    2\n",
      "(2011, 11)\n",
      "            Day   t  year  month  day\n",
      "1398 2011-11-01   9  2011     11    1\n",
      "1399 2011-11-02  11  2011     11    2\n",
      "(2011, 12)\n",
      "            Day  t  year  month  day\n",
      "1428 2011-12-01  4  2011     12    1\n",
      "1429 2011-12-02  2  2011     12    2\n",
      "(2012, 1)\n",
      "            Day  t  year  month  day\n",
      "1459 2012-01-01 -2  2012      1    1\n",
      "1460 2012-01-02 -4  2012      1    2\n",
      "(2012, 2)\n",
      "            Day   t  year  month  day\n",
      "1490 2012-02-01 -17  2012      2    1\n",
      "1491 2012-02-02 -18  2012      2    2\n",
      "(2012, 3)\n",
      "            Day  t  year  month  day\n",
      "1519 2012-03-01  2  2012      3    1\n",
      "1520 2012-03-02  1  2012      3    2\n",
      "(2012, 4)\n",
      "            Day  t  year  month  day\n",
      "1550 2012-04-01 -1  2012      4    1\n",
      "1551 2012-04-02  4  2012      4    2\n",
      "(2012, 5)\n",
      "            Day   t  year  month  day\n",
      "1580 2012-05-01  11  2012      5    1\n",
      "1581 2012-05-02  11  2012      5    2\n",
      "(2012, 6)\n",
      "            Day   t  year  month  day\n",
      "1611 2012-06-01  14  2012      6    1\n",
      "1612 2012-06-02  12  2012      6    2\n",
      "(2012, 7)\n",
      "            Day   t  year  month  day\n",
      "1641 2012-07-01  18  2012      7    1\n",
      "1642 2012-07-02  20  2012      7    2\n",
      "(2012, 8)\n",
      "            Day   t  year  month  day\n",
      "1672 2012-08-01  19  2012      8    1\n",
      "1673 2012-08-02  20  2012      8    2\n",
      "(2012, 9)\n",
      "            Day   t  year  month  day\n",
      "1703 2012-09-01  13  2012      9    1\n",
      "1704 2012-09-02  14  2012      9    2\n",
      "(2012, 10)\n",
      "            Day   t  year  month  day\n",
      "1733 2012-10-01  13  2012     10    1\n",
      "1734 2012-10-02  16  2012     10    2\n",
      "(2012, 11)\n",
      "            Day  t  year  month  day\n",
      "1764 2012-11-01  2  2012     11    1\n",
      "1765 2012-11-02  5  2012     11    2\n",
      "(2012, 12)\n",
      "            Day  t  year  month  day\n",
      "1794 2012-12-01 -9  2012     12    1\n",
      "1795 2012-12-02 -2  2012     12    2\n",
      "(2013, 1)\n",
      "            Day  t  year  month  day\n",
      "1824 2013-01-01  2  2013      1    1\n",
      "1825 2013-01-02  1  2013      1    2\n",
      "(2013, 2)\n",
      "            Day  t  year  month  day\n",
      "1855 2013-02-01  1  2013      2    1\n",
      "1856 2013-02-02 -2  2013      2    2\n",
      "(2013, 3)\n",
      "            Day   t  year  month  day\n",
      "1883 2013-03-01  -4  2013      3    1\n",
      "1884 2013-03-02 -10  2013      3    2\n",
      "(2013, 4)\n",
      "            Day  t  year  month  day\n",
      "1914 2013-04-01 -1  2013      4    1\n",
      "1915 2013-04-02  1  2013      4    2\n",
      "(2013, 5)\n",
      "            Day   t  year  month  day\n",
      "1944 2013-05-01   9  2013      5    1\n",
      "1945 2013-05-02  14  2013      5    2\n",
      "(2013, 6)\n",
      "            Day   t  year  month  day\n",
      "1975 2013-06-01  25  2013      6    1\n",
      "1976 2013-06-02  28  2013      6    2\n",
      "(2013, 7)\n",
      "            Day   t  year  month  day\n",
      "2005 2013-07-01  19  2013      7    1\n",
      "2006 2013-07-02  21  2013      7    2\n",
      "(2013, 8)\n",
      "            Day   t  year  month  day\n",
      "2036 2013-08-01  18  2013      8    1\n",
      "2037 2013-08-02  20  2013      8    2\n",
      "(2013, 9)\n",
      "            Day   t  year  month  day\n",
      "2067 2013-09-01  20  2013      9    1\n",
      "2068 2013-09-02  16  2013      9    2\n",
      "(2013, 10)\n",
      "            Day  t  year  month  day\n",
      "2097 2013-10-01  5  2013     10    1\n",
      "2098 2013-10-02  6  2013     10    2\n",
      "(2013, 11)\n",
      "            Day  t  year  month  day\n",
      "2128 2013-11-01  8  2013     11    1\n",
      "2129 2013-11-02  9  2013     11    2\n",
      "(2013, 12)\n",
      "            Day  t  year  month  day\n",
      "2158 2013-12-01 -1  2013     12    1\n",
      "2159 2013-12-02 -5  2013     12    2\n",
      "(2014, 1)\n",
      "            Day  t  year  month  day\n",
      "2189 2014-01-01  1  2014      1    1\n",
      "2190 2014-01-02 -3  2014      1    2\n",
      "(2014, 2)\n",
      "            Day  t  year  month  day\n",
      "2220 2014-02-01 -6  2014      2    1\n",
      "2221 2014-02-02 -5  2014      2    2\n",
      "(2014, 3)\n",
      "            Day  t  year  month  day\n",
      "2248 2014-03-01  1  2014      3    1\n",
      "2249 2014-03-02  3  2014      3    2\n",
      "(2014, 4)\n",
      "            Day  t  year  month  day\n",
      "2279 2014-04-01  3  2014      4    1\n",
      "2280 2014-04-02  2  2014      4    2\n",
      "(2014, 5)\n",
      "            Day  t  year  month  day\n",
      "2309 2014-05-01  8  2014      5    1\n",
      "2310 2014-05-02  5  2014      5    2\n",
      "(2014, 6)\n",
      "            Day   t  year  month  day\n",
      "2340 2014-06-01  16  2014      6    1\n",
      "2341 2014-06-02  14  2014      6    2\n",
      "(2014, 7)\n",
      "            Day   t  year  month  day\n",
      "2370 2014-07-01  16  2014      7    1\n",
      "2371 2014-07-02  16  2014      7    2\n",
      "(2014, 8)\n",
      "            Day   t  year  month  day\n",
      "2401 2014-08-01  25  2014      8    1\n",
      "2402 2014-08-02  24  2014      8    2\n",
      "(2014, 9)\n",
      "            Day   t  year  month  day\n",
      "2432 2014-09-01  13  2014      9    1\n",
      "2433 2014-09-02  14  2014      9    2\n",
      "(2014, 10)\n",
      "            Day   t  year  month  day\n",
      "2462 2014-10-01   8  2014     10    1\n",
      "2463 2014-10-02  11  2014     10    2\n",
      "(2014, 11)\n",
      "            Day  t  year  month  day\n",
      "2493 2014-11-01  1  2014     11    1\n",
      "2494 2014-11-02  1  2014     11    2\n",
      "(2014, 12)\n",
      "            Day  t  year  month  day\n",
      "2523 2014-12-01  0  2014     12    1\n",
      "2524 2014-12-02 -3  2014     12    2\n",
      "(2015, 1)\n",
      "            Day  t  year  month  day\n",
      "2554 2015-01-01  2  2015      1    1\n",
      "2555 2015-01-02  4  2015      1    2\n",
      "(2015, 2)\n",
      "            Day  t  year  month  day\n",
      "2585 2015-02-01  1  2015      2    1\n",
      "2586 2015-02-02  1  2015      2    2\n",
      "(2015, 3)\n",
      "            Day  t  year  month  day\n",
      "2613 2015-03-01  2  2015      3    1\n",
      "2614 2015-03-02  3  2015      3    2\n",
      "(2015, 4)\n",
      "            Day  t  year  month  day\n",
      "2644 2015-04-01  4  2015      4    1\n",
      "2645 2015-04-02  2  2015      4    2\n",
      "(2015, 5)\n",
      "            Day   t  year  month  day\n",
      "2674 2015-05-01  13  2015      5    1\n",
      "2675 2015-05-02  10  2015      5    2\n",
      "(2015, 6)\n",
      "            Day   t  year  month  day\n",
      "2705 2015-06-01  18  2015      6    1\n",
      "2706 2015-06-02  16  2015      6    2\n",
      "(2015, 7)\n",
      "            Day   t  year  month  day\n",
      "2735 2015-07-01  19  2015      7    1\n",
      "2736 2015-07-02  18  2015      7    2\n",
      "(2015, 8)\n",
      "            Day   t  year  month  day\n",
      "2766 2015-08-01  18  2015      8    1\n",
      "2767 2015-08-02  20  2015      8    2\n",
      "(2015, 9)\n",
      "            Day   t  year  month  day\n",
      "2797 2015-09-01  20  2015      9    1\n",
      "2798 2015-09-02  18  2015      9    2\n",
      "(2015, 10)\n",
      "            Day   t  year  month  day\n",
      "2827 2015-10-01  12  2015     10    1\n",
      "2828 2015-10-02  14  2015     10    2\n",
      "(2015, 11)\n",
      "            Day  t  year  month  day\n",
      "2858 2015-11-01  7  2015     11    1\n",
      "2859 2015-11-02  8  2015     11    2\n",
      "(2015, 12)\n",
      "            Day  t  year  month  day\n",
      "2888 2015-12-01  2  2015     12    1\n",
      "2889 2015-12-02  2  2015     12    2\n",
      "(2016, 1)\n",
      "            Day   t  year  month  day\n",
      "2919 2016-01-01 -11  2016      1    1\n",
      "2920 2016-01-02 -13  2016      1    2\n",
      "(2016, 2)\n",
      "            Day  t  year  month  day\n",
      "2950 2016-02-01  1  2016      2    1\n",
      "2951 2016-02-02  1  2016      2    2\n",
      "(2016, 3)\n",
      "            Day  t  year  month  day\n",
      "2979 2016-03-01  0  2016      3    1\n",
      "2980 2016-03-02 -4  2016      3    2\n",
      "(2016, 4)\n",
      "            Day  t  year  month  day\n",
      "3010 2016-04-01  2  2016      4    1\n",
      "3011 2016-04-02  2  2016      4    2\n",
      "(2016, 5)\n",
      "            Day   t  year  month  day\n",
      "3040 2016-05-01  14  2016      5    1\n",
      "3041 2016-05-02  16  2016      5    2\n",
      "(2016, 6)\n",
      "            Day   t  year  month  day\n",
      "3071 2016-06-01  24  2016      6    1\n",
      "3072 2016-06-02  23  2016      6    2\n",
      "(2016, 7)\n",
      "            Day   t  year  month  day\n",
      "3101 2016-07-01  23  2016      7    1\n",
      "3102 2016-07-02  25  2016      7    2\n",
      "(2016, 8)\n",
      "            Day   t  year  month  day\n",
      "3132 2016-08-01  21  2016      8    1\n",
      "3133 2016-08-02  21  2016      8    2\n",
      "(2016, 9)\n",
      "            Day   t  year  month  day\n",
      "3163 2016-09-01  17  2016      9    1\n",
      "3164 2016-09-02  18  2016      9    2\n",
      "(2016, 10)\n",
      "            Day   t  year  month  day\n",
      "3193 2016-10-01  14  2016     10    1\n",
      "3194 2016-10-02  12  2016     10    2\n",
      "(2016, 11)\n",
      "            Day  t  year  month  day\n",
      "3224 2016-11-01  1  2016     11    1\n",
      "3225 2016-11-02 -1  2016     11    2\n",
      "(2016, 12)\n",
      "            Day  t  year  month  day\n",
      "3254 2016-12-01  0  2016     12    1\n",
      "3255 2016-12-02 -2  2016     12    2\n"
     ]
    }
   ],
   "source": [
    "# медленно \n",
    "for name, group in df.groupby([\"year\", \"month\"]):\n",
    "    print(name)\n",
    "    print(group.head(2))\n",
    "    # break"
   ]
  },
  {
   "cell_type": "code",
   "execution_count": 256,
   "metadata": {
    "ExecuteTime": {
     "end_time": "2024-02-20T14:31:38.633749500Z",
     "start_time": "2024-02-20T14:31:37.461225300Z"
    }
   },
   "outputs": [
    {
     "data": {
      "text/plain": "                           Day          t        day\nyear month                                          \n2008 1     2008-01-16 00:00:00  -1.612903  16.000000\n     2     2008-02-15 00:00:00   0.034483  15.000000\n     3     2008-03-16 00:00:00   1.516129  16.000000\n     4     2008-04-15 12:00:00   9.566667  15.500000\n     5     2008-05-16 08:00:00  14.133333  16.333333\n...                        ...        ...        ...\n2016 8     2016-08-16 00:00:00  19.161290  16.000000\n     9     2016-09-15 12:00:00  14.366667  15.500000\n     10    2016-10-16 00:00:00   5.870968  16.000000\n     11    2016-11-15 12:00:00  -1.433333  15.500000\n     12    2016-12-16 00:00:00  -0.806452  16.000000\n\n[108 rows x 3 columns]",
      "text/html": "<div>\n<style scoped>\n    .dataframe tbody tr th:only-of-type {\n        vertical-align: middle;\n    }\n\n    .dataframe tbody tr th {\n        vertical-align: top;\n    }\n\n    .dataframe thead th {\n        text-align: right;\n    }\n</style>\n<table border=\"1\" class=\"dataframe\">\n  <thead>\n    <tr style=\"text-align: right;\">\n      <th></th>\n      <th></th>\n      <th>Day</th>\n      <th>t</th>\n      <th>day</th>\n    </tr>\n    <tr>\n      <th>year</th>\n      <th>month</th>\n      <th></th>\n      <th></th>\n      <th></th>\n    </tr>\n  </thead>\n  <tbody>\n    <tr>\n      <th rowspan=\"5\" valign=\"top\">2008</th>\n      <th>1</th>\n      <td>2008-01-16 00:00:00</td>\n      <td>-1.612903</td>\n      <td>16.000000</td>\n    </tr>\n    <tr>\n      <th>2</th>\n      <td>2008-02-15 00:00:00</td>\n      <td>0.034483</td>\n      <td>15.000000</td>\n    </tr>\n    <tr>\n      <th>3</th>\n      <td>2008-03-16 00:00:00</td>\n      <td>1.516129</td>\n      <td>16.000000</td>\n    </tr>\n    <tr>\n      <th>4</th>\n      <td>2008-04-15 12:00:00</td>\n      <td>9.566667</td>\n      <td>15.500000</td>\n    </tr>\n    <tr>\n      <th>5</th>\n      <td>2008-05-16 08:00:00</td>\n      <td>14.133333</td>\n      <td>16.333333</td>\n    </tr>\n    <tr>\n      <th>...</th>\n      <th>...</th>\n      <td>...</td>\n      <td>...</td>\n      <td>...</td>\n    </tr>\n    <tr>\n      <th rowspan=\"5\" valign=\"top\">2016</th>\n      <th>8</th>\n      <td>2016-08-16 00:00:00</td>\n      <td>19.161290</td>\n      <td>16.000000</td>\n    </tr>\n    <tr>\n      <th>9</th>\n      <td>2016-09-15 12:00:00</td>\n      <td>14.366667</td>\n      <td>15.500000</td>\n    </tr>\n    <tr>\n      <th>10</th>\n      <td>2016-10-16 00:00:00</td>\n      <td>5.870968</td>\n      <td>16.000000</td>\n    </tr>\n    <tr>\n      <th>11</th>\n      <td>2016-11-15 12:00:00</td>\n      <td>-1.433333</td>\n      <td>15.500000</td>\n    </tr>\n    <tr>\n      <th>12</th>\n      <td>2016-12-16 00:00:00</td>\n      <td>-0.806452</td>\n      <td>16.000000</td>\n    </tr>\n  </tbody>\n</table>\n<p>108 rows × 3 columns</p>\n</div>"
     },
     "execution_count": 256,
     "metadata": {},
     "output_type": "execute_result"
    }
   ],
   "source": [
    "df.groupby([\"year\", \"month\"]).mean()"
   ]
  },
  {
   "cell_type": "markdown",
   "metadata": {},
   "source": [
    "Вопрос - почему среднее по дням разное? Это арифметическая прогрессия, деленная на число дней в месяце "
   ]
  },
  {
   "cell_type": "markdown",
   "metadata": {},
   "source": [
    "Иногда мы хотим применить какую-то функцию, которой нет в стандартном pandas или хотим применить много разных функций к определенным строкам. Для этого существует метод agg (сокращение от Aggregate)"
   ]
  },
  {
   "cell_type": "code",
   "execution_count": 257,
   "metadata": {
    "ExecuteTime": {
     "end_time": "2024-02-20T14:31:39.360341100Z",
     "start_time": "2024-02-20T14:31:37.476134700Z"
    }
   },
   "outputs": [
    {
     "data": {
      "text/plain": "                                Day                                         \\\n                               mean        max                         std   \nmonth                                                                        \n1     2012-01-16 08:00:00.000000000 2016-01-31 944 days 18:22:20.795908672   \n2     2012-02-15 00:00:00.000000000 2016-02-29 948 days 05:57:22.902336480   \n3     2012-03-15 16:00:00.000000000 2016-03-31 944 days 18:22:20.795908448   \n4     2012-04-15 04:00:00.000000000 2016-04-30 944 days 19:40:01.696429200   \n5     2012-05-20 22:57:50.503597056 2016-05-31 942 days 07:41:32.579384336   \n6     2012-06-15 04:00:00.000000000 2016-06-30 944 days 19:40:01.696429200   \n7     2012-07-16 22:16:24.172661760 2016-07-31 946 days 05:36:52.941861856   \n8     2012-08-15 16:00:00.000000000 2016-08-31 944 days 18:22:20.795908448   \n9     2012-09-15 04:00:00.000000000 2016-09-30 944 days 19:40:01.696429200   \n10    2012-10-15 16:00:00.000000000 2016-10-31 944 days 18:22:20.795908448   \n11    2012-11-15 04:00:00.000000000 2016-11-30 944 days 19:40:01.696429200   \n12    2012-12-15 15:58:16.402877696 2016-12-31 946 days 11:15:50.528853920   \n\n               t                       year                        day      \\\n            mean max       std         mean   max       std       mean max   \nmonth                                                                        \n1      -5.745520   5  6.316853  2012.000000  2016  2.586629  16.000000  31   \n2      -3.505882   6  5.953805  2012.000000  2016  2.596181  14.670588  29   \n3       0.759857  13  4.252342  2012.000000  2016  2.586629  16.000000  31   \n4       7.744444  21  4.167214  2012.000000  2016  2.586784  15.500000  30   \n5      15.291367  30  5.149533  2012.014388  2016  2.580084  16.035971  31   \n6      18.325926  31  4.513227  2012.000000  2016  2.586784  15.500000  30   \n7      21.949640  33  4.418249  2012.003597  2016  2.590594  15.946043  31   \n8      19.666667  34  4.102114  2012.000000  2016  2.586629  16.000000  31   \n9      14.574074  24  3.318316  2012.000000  2016  2.586784  15.500000  30   \n10      7.326165  16  3.501962  2012.000000  2016  2.586629  16.000000  31   \n11      2.466667  11  4.134001  2012.000000  2016  2.586784  15.500000  30   \n12     -1.823741   8  5.425692  2012.000000  2016  2.591293  16.000000  31   \n\n                 \n            std  \nmonth            \n1      8.960344  \n2      8.196967  \n3      8.960344  \n4      8.671515  \n5      8.956300  \n6      8.671515  \n7      8.930981  \n8      8.960344  \n9      8.671515  \n10     8.960344  \n11     8.671515  \n12     8.976504  ",
      "text/html": "<div>\n<style scoped>\n    .dataframe tbody tr th:only-of-type {\n        vertical-align: middle;\n    }\n\n    .dataframe tbody tr th {\n        vertical-align: top;\n    }\n\n    .dataframe thead tr th {\n        text-align: left;\n    }\n\n    .dataframe thead tr:last-of-type th {\n        text-align: right;\n    }\n</style>\n<table border=\"1\" class=\"dataframe\">\n  <thead>\n    <tr>\n      <th></th>\n      <th colspan=\"3\" halign=\"left\">Day</th>\n      <th colspan=\"3\" halign=\"left\">t</th>\n      <th colspan=\"3\" halign=\"left\">year</th>\n      <th colspan=\"3\" halign=\"left\">day</th>\n    </tr>\n    <tr>\n      <th></th>\n      <th>mean</th>\n      <th>max</th>\n      <th>std</th>\n      <th>mean</th>\n      <th>max</th>\n      <th>std</th>\n      <th>mean</th>\n      <th>max</th>\n      <th>std</th>\n      <th>mean</th>\n      <th>max</th>\n      <th>std</th>\n    </tr>\n    <tr>\n      <th>month</th>\n      <th></th>\n      <th></th>\n      <th></th>\n      <th></th>\n      <th></th>\n      <th></th>\n      <th></th>\n      <th></th>\n      <th></th>\n      <th></th>\n      <th></th>\n      <th></th>\n    </tr>\n  </thead>\n  <tbody>\n    <tr>\n      <th>1</th>\n      <td>2012-01-16 08:00:00.000000000</td>\n      <td>2016-01-31</td>\n      <td>944 days 18:22:20.795908672</td>\n      <td>-5.745520</td>\n      <td>5</td>\n      <td>6.316853</td>\n      <td>2012.000000</td>\n      <td>2016</td>\n      <td>2.586629</td>\n      <td>16.000000</td>\n      <td>31</td>\n      <td>8.960344</td>\n    </tr>\n    <tr>\n      <th>2</th>\n      <td>2012-02-15 00:00:00.000000000</td>\n      <td>2016-02-29</td>\n      <td>948 days 05:57:22.902336480</td>\n      <td>-3.505882</td>\n      <td>6</td>\n      <td>5.953805</td>\n      <td>2012.000000</td>\n      <td>2016</td>\n      <td>2.596181</td>\n      <td>14.670588</td>\n      <td>29</td>\n      <td>8.196967</td>\n    </tr>\n    <tr>\n      <th>3</th>\n      <td>2012-03-15 16:00:00.000000000</td>\n      <td>2016-03-31</td>\n      <td>944 days 18:22:20.795908448</td>\n      <td>0.759857</td>\n      <td>13</td>\n      <td>4.252342</td>\n      <td>2012.000000</td>\n      <td>2016</td>\n      <td>2.586629</td>\n      <td>16.000000</td>\n      <td>31</td>\n      <td>8.960344</td>\n    </tr>\n    <tr>\n      <th>4</th>\n      <td>2012-04-15 04:00:00.000000000</td>\n      <td>2016-04-30</td>\n      <td>944 days 19:40:01.696429200</td>\n      <td>7.744444</td>\n      <td>21</td>\n      <td>4.167214</td>\n      <td>2012.000000</td>\n      <td>2016</td>\n      <td>2.586784</td>\n      <td>15.500000</td>\n      <td>30</td>\n      <td>8.671515</td>\n    </tr>\n    <tr>\n      <th>5</th>\n      <td>2012-05-20 22:57:50.503597056</td>\n      <td>2016-05-31</td>\n      <td>942 days 07:41:32.579384336</td>\n      <td>15.291367</td>\n      <td>30</td>\n      <td>5.149533</td>\n      <td>2012.014388</td>\n      <td>2016</td>\n      <td>2.580084</td>\n      <td>16.035971</td>\n      <td>31</td>\n      <td>8.956300</td>\n    </tr>\n    <tr>\n      <th>6</th>\n      <td>2012-06-15 04:00:00.000000000</td>\n      <td>2016-06-30</td>\n      <td>944 days 19:40:01.696429200</td>\n      <td>18.325926</td>\n      <td>31</td>\n      <td>4.513227</td>\n      <td>2012.000000</td>\n      <td>2016</td>\n      <td>2.586784</td>\n      <td>15.500000</td>\n      <td>30</td>\n      <td>8.671515</td>\n    </tr>\n    <tr>\n      <th>7</th>\n      <td>2012-07-16 22:16:24.172661760</td>\n      <td>2016-07-31</td>\n      <td>946 days 05:36:52.941861856</td>\n      <td>21.949640</td>\n      <td>33</td>\n      <td>4.418249</td>\n      <td>2012.003597</td>\n      <td>2016</td>\n      <td>2.590594</td>\n      <td>15.946043</td>\n      <td>31</td>\n      <td>8.930981</td>\n    </tr>\n    <tr>\n      <th>8</th>\n      <td>2012-08-15 16:00:00.000000000</td>\n      <td>2016-08-31</td>\n      <td>944 days 18:22:20.795908448</td>\n      <td>19.666667</td>\n      <td>34</td>\n      <td>4.102114</td>\n      <td>2012.000000</td>\n      <td>2016</td>\n      <td>2.586629</td>\n      <td>16.000000</td>\n      <td>31</td>\n      <td>8.960344</td>\n    </tr>\n    <tr>\n      <th>9</th>\n      <td>2012-09-15 04:00:00.000000000</td>\n      <td>2016-09-30</td>\n      <td>944 days 19:40:01.696429200</td>\n      <td>14.574074</td>\n      <td>24</td>\n      <td>3.318316</td>\n      <td>2012.000000</td>\n      <td>2016</td>\n      <td>2.586784</td>\n      <td>15.500000</td>\n      <td>30</td>\n      <td>8.671515</td>\n    </tr>\n    <tr>\n      <th>10</th>\n      <td>2012-10-15 16:00:00.000000000</td>\n      <td>2016-10-31</td>\n      <td>944 days 18:22:20.795908448</td>\n      <td>7.326165</td>\n      <td>16</td>\n      <td>3.501962</td>\n      <td>2012.000000</td>\n      <td>2016</td>\n      <td>2.586629</td>\n      <td>16.000000</td>\n      <td>31</td>\n      <td>8.960344</td>\n    </tr>\n    <tr>\n      <th>11</th>\n      <td>2012-11-15 04:00:00.000000000</td>\n      <td>2016-11-30</td>\n      <td>944 days 19:40:01.696429200</td>\n      <td>2.466667</td>\n      <td>11</td>\n      <td>4.134001</td>\n      <td>2012.000000</td>\n      <td>2016</td>\n      <td>2.586784</td>\n      <td>15.500000</td>\n      <td>30</td>\n      <td>8.671515</td>\n    </tr>\n    <tr>\n      <th>12</th>\n      <td>2012-12-15 15:58:16.402877696</td>\n      <td>2016-12-31</td>\n      <td>946 days 11:15:50.528853920</td>\n      <td>-1.823741</td>\n      <td>8</td>\n      <td>5.425692</td>\n      <td>2012.000000</td>\n      <td>2016</td>\n      <td>2.591293</td>\n      <td>16.000000</td>\n      <td>31</td>\n      <td>8.976504</td>\n    </tr>\n  </tbody>\n</table>\n</div>"
     },
     "execution_count": 257,
     "metadata": {},
     "output_type": "execute_result"
    }
   ],
   "source": [
    "df.groupby([\"month\"]).agg(['mean', 'max', 'std'])  # Применяем много функций ко всем столбцам"
   ]
  },
  {
   "cell_type": "code",
   "execution_count": 258,
   "metadata": {
    "ExecuteTime": {
     "end_time": "2024-02-20T14:31:39.482977600Z",
     "start_time": "2024-02-20T14:31:37.495561100Z"
    }
   },
   "outputs": [
    {
     "data": {
      "text/plain": "          t                           day\n      count       mean max min       mean\nmonth                                    \n1       279  -5.745520   5 -21  16.000000\n2       255  -3.505882   6 -23  14.670588\n3       279   0.759857  13 -11  16.000000\n4       270   7.744444  21  -1  15.500000\n5       278  15.291367  30   3  16.035971\n6       270  18.325926  31   9  15.500000\n7       278  21.949640  33  12  15.946043\n8       279  19.666667  34  10  16.000000\n9       270  14.574074  24   5  15.500000\n10      279   7.326165  16  -2  16.000000\n11      270   2.466667  11 -13  15.500000\n12      278  -1.823741   8 -19  16.000000",
      "text/html": "<div>\n<style scoped>\n    .dataframe tbody tr th:only-of-type {\n        vertical-align: middle;\n    }\n\n    .dataframe tbody tr th {\n        vertical-align: top;\n    }\n\n    .dataframe thead tr th {\n        text-align: left;\n    }\n\n    .dataframe thead tr:last-of-type th {\n        text-align: right;\n    }\n</style>\n<table border=\"1\" class=\"dataframe\">\n  <thead>\n    <tr>\n      <th></th>\n      <th colspan=\"4\" halign=\"left\">t</th>\n      <th>day</th>\n    </tr>\n    <tr>\n      <th></th>\n      <th>count</th>\n      <th>mean</th>\n      <th>max</th>\n      <th>min</th>\n      <th>mean</th>\n    </tr>\n    <tr>\n      <th>month</th>\n      <th></th>\n      <th></th>\n      <th></th>\n      <th></th>\n      <th></th>\n    </tr>\n  </thead>\n  <tbody>\n    <tr>\n      <th>1</th>\n      <td>279</td>\n      <td>-5.745520</td>\n      <td>5</td>\n      <td>-21</td>\n      <td>16.000000</td>\n    </tr>\n    <tr>\n      <th>2</th>\n      <td>255</td>\n      <td>-3.505882</td>\n      <td>6</td>\n      <td>-23</td>\n      <td>14.670588</td>\n    </tr>\n    <tr>\n      <th>3</th>\n      <td>279</td>\n      <td>0.759857</td>\n      <td>13</td>\n      <td>-11</td>\n      <td>16.000000</td>\n    </tr>\n    <tr>\n      <th>4</th>\n      <td>270</td>\n      <td>7.744444</td>\n      <td>21</td>\n      <td>-1</td>\n      <td>15.500000</td>\n    </tr>\n    <tr>\n      <th>5</th>\n      <td>278</td>\n      <td>15.291367</td>\n      <td>30</td>\n      <td>3</td>\n      <td>16.035971</td>\n    </tr>\n    <tr>\n      <th>6</th>\n      <td>270</td>\n      <td>18.325926</td>\n      <td>31</td>\n      <td>9</td>\n      <td>15.500000</td>\n    </tr>\n    <tr>\n      <th>7</th>\n      <td>278</td>\n      <td>21.949640</td>\n      <td>33</td>\n      <td>12</td>\n      <td>15.946043</td>\n    </tr>\n    <tr>\n      <th>8</th>\n      <td>279</td>\n      <td>19.666667</td>\n      <td>34</td>\n      <td>10</td>\n      <td>16.000000</td>\n    </tr>\n    <tr>\n      <th>9</th>\n      <td>270</td>\n      <td>14.574074</td>\n      <td>24</td>\n      <td>5</td>\n      <td>15.500000</td>\n    </tr>\n    <tr>\n      <th>10</th>\n      <td>279</td>\n      <td>7.326165</td>\n      <td>16</td>\n      <td>-2</td>\n      <td>16.000000</td>\n    </tr>\n    <tr>\n      <th>11</th>\n      <td>270</td>\n      <td>2.466667</td>\n      <td>11</td>\n      <td>-13</td>\n      <td>15.500000</td>\n    </tr>\n    <tr>\n      <th>12</th>\n      <td>278</td>\n      <td>-1.823741</td>\n      <td>8</td>\n      <td>-19</td>\n      <td>16.000000</td>\n    </tr>\n  </tbody>\n</table>\n</div>"
     },
     "execution_count": 258,
     "metadata": {},
     "output_type": "execute_result"
    }
   ],
   "source": [
    "# применяем много функций к определенным столбцам\n",
    "df.groupby([\"month\"]).agg({'t': ['count', 'mean', 'max', 'min'], 'day': ['mean']})"
   ]
  },
  {
   "cell_type": "code",
   "execution_count": 259,
   "metadata": {
    "ExecuteTime": {
     "end_time": "2024-02-20T14:31:39.515007800Z",
     "start_time": "2024-02-20T14:31:37.509290900Z"
    }
   },
   "outputs": [
    {
     "data": {
      "text/plain": "               t                 \n             one        two three\nmonth                            \n1      -5.745520   0.000000  -0.0\n2      -3.505882   0.000000  -0.0\n3       0.759857   0.000000   0.0\n4       7.744444   0.000000   0.0\n5      15.291367   0.000000   0.0\n6      18.325926   0.000000   0.0\n7      21.949640  22.633403   0.0\n8      19.666667  24.377675   0.0\n9      14.574074   0.000000   0.0\n10      7.326165   0.000000   0.0\n11      2.466667   0.000000   0.0\n12     -1.823741   0.000000  -0.0",
      "text/html": "<div>\n<style scoped>\n    .dataframe tbody tr th:only-of-type {\n        vertical-align: middle;\n    }\n\n    .dataframe tbody tr th {\n        vertical-align: top;\n    }\n\n    .dataframe thead tr th {\n        text-align: left;\n    }\n\n    .dataframe thead tr:last-of-type th {\n        text-align: right;\n    }\n</style>\n<table border=\"1\" class=\"dataframe\">\n  <thead>\n    <tr>\n      <th></th>\n      <th colspan=\"3\" halign=\"left\">t</th>\n    </tr>\n    <tr>\n      <th></th>\n      <th>one</th>\n      <th>two</th>\n      <th>three</th>\n    </tr>\n    <tr>\n      <th>month</th>\n      <th></th>\n      <th></th>\n      <th></th>\n    </tr>\n  </thead>\n  <tbody>\n    <tr>\n      <th>1</th>\n      <td>-5.745520</td>\n      <td>0.000000</td>\n      <td>-0.0</td>\n    </tr>\n    <tr>\n      <th>2</th>\n      <td>-3.505882</td>\n      <td>0.000000</td>\n      <td>-0.0</td>\n    </tr>\n    <tr>\n      <th>3</th>\n      <td>0.759857</td>\n      <td>0.000000</td>\n      <td>0.0</td>\n    </tr>\n    <tr>\n      <th>4</th>\n      <td>7.744444</td>\n      <td>0.000000</td>\n      <td>0.0</td>\n    </tr>\n    <tr>\n      <th>5</th>\n      <td>15.291367</td>\n      <td>0.000000</td>\n      <td>0.0</td>\n    </tr>\n    <tr>\n      <th>6</th>\n      <td>18.325926</td>\n      <td>0.000000</td>\n      <td>0.0</td>\n    </tr>\n    <tr>\n      <th>7</th>\n      <td>21.949640</td>\n      <td>22.633403</td>\n      <td>0.0</td>\n    </tr>\n    <tr>\n      <th>8</th>\n      <td>19.666667</td>\n      <td>24.377675</td>\n      <td>0.0</td>\n    </tr>\n    <tr>\n      <th>9</th>\n      <td>14.574074</td>\n      <td>0.000000</td>\n      <td>0.0</td>\n    </tr>\n    <tr>\n      <th>10</th>\n      <td>7.326165</td>\n      <td>0.000000</td>\n      <td>0.0</td>\n    </tr>\n    <tr>\n      <th>11</th>\n      <td>2.466667</td>\n      <td>0.000000</td>\n      <td>0.0</td>\n    </tr>\n    <tr>\n      <th>12</th>\n      <td>-1.823741</td>\n      <td>0.000000</td>\n      <td>-0.0</td>\n    </tr>\n  </tbody>\n</table>\n</div>"
     },
     "execution_count": 259,
     "metadata": {},
     "output_type": "execute_result"
    }
   ],
   "source": [
    "df.groupby([\"month\"]).agg(\n",
    "    {'t': [\n",
    "        ('one', np.mean),\n",
    "        ('two', lambda value: 100 * ((value > 32).sum() / value.std())),\n",
    "        ('three', lambda value: 100 * ((value > 45).sum() / value.mean()))\n",
    "    ]}\n",
    ")"
   ]
  },
  {
   "cell_type": "markdown",
   "metadata": {},
   "source": [
    "## Функция map"
   ]
  },
  {
   "cell_type": "code",
   "execution_count": 260,
   "metadata": {
    "ExecuteTime": {
     "end_time": "2024-02-20T14:31:39.539003800Z",
     "start_time": "2024-02-20T14:31:37.536807500Z"
    }
   },
   "outputs": [],
   "source": [
    "month_number_to_name = {\n",
    "    1: \"Январь\",\n",
    "    2: \"Февраль\",\n",
    "    3: \"Март\",\n",
    "    4: \"Апрель\",\n",
    "    5: \"Май\",\n",
    "    6: \"Июнь\",\n",
    "    7: \"Июль\",\n",
    "    8: \"Август\",\n",
    "    9: \"Сентябрь\",\n",
    "    10: \"Октябрь\",\n",
    "    11: \"Ноябрь\",\n",
    "    12: \"Декабрь\"\n",
    "}"
   ]
  },
  {
   "cell_type": "code",
   "execution_count": 261,
   "metadata": {
    "ExecuteTime": {
     "end_time": "2024-02-20T14:31:39.560011400Z",
     "start_time": "2024-02-20T14:31:37.540324600Z"
    }
   },
   "outputs": [
    {
     "data": {
      "text/plain": "         Day   t  year  month  day month_name\n0 2008-01-01   0  2008      1    1     Январь\n1 2008-01-02  -5  2008      1    2     Январь\n2 2008-01-03 -11  2008      1    3     Январь\n3 2008-01-04 -11  2008      1    4     Январь\n4 2008-01-05 -12  2008      1    5     Январь",
      "text/html": "<div>\n<style scoped>\n    .dataframe tbody tr th:only-of-type {\n        vertical-align: middle;\n    }\n\n    .dataframe tbody tr th {\n        vertical-align: top;\n    }\n\n    .dataframe thead th {\n        text-align: right;\n    }\n</style>\n<table border=\"1\" class=\"dataframe\">\n  <thead>\n    <tr style=\"text-align: right;\">\n      <th></th>\n      <th>Day</th>\n      <th>t</th>\n      <th>year</th>\n      <th>month</th>\n      <th>day</th>\n      <th>month_name</th>\n    </tr>\n  </thead>\n  <tbody>\n    <tr>\n      <th>0</th>\n      <td>2008-01-01</td>\n      <td>0</td>\n      <td>2008</td>\n      <td>1</td>\n      <td>1</td>\n      <td>Январь</td>\n    </tr>\n    <tr>\n      <th>1</th>\n      <td>2008-01-02</td>\n      <td>-5</td>\n      <td>2008</td>\n      <td>1</td>\n      <td>2</td>\n      <td>Январь</td>\n    </tr>\n    <tr>\n      <th>2</th>\n      <td>2008-01-03</td>\n      <td>-11</td>\n      <td>2008</td>\n      <td>1</td>\n      <td>3</td>\n      <td>Январь</td>\n    </tr>\n    <tr>\n      <th>3</th>\n      <td>2008-01-04</td>\n      <td>-11</td>\n      <td>2008</td>\n      <td>1</td>\n      <td>4</td>\n      <td>Январь</td>\n    </tr>\n    <tr>\n      <th>4</th>\n      <td>2008-01-05</td>\n      <td>-12</td>\n      <td>2008</td>\n      <td>1</td>\n      <td>5</td>\n      <td>Январь</td>\n    </tr>\n  </tbody>\n</table>\n</div>"
     },
     "execution_count": 261,
     "metadata": {},
     "output_type": "execute_result"
    }
   ],
   "source": [
    "df[\"month_name\"] = df[\"month\"].map(month_number_to_name)\n",
    "df.head()"
   ]
  },
  {
   "cell_type": "markdown",
   "metadata": {},
   "source": [
    "Сохраним результаты"
   ]
  },
  {
   "cell_type": "markdown",
   "metadata": {},
   "source": [
    "## Функций apply"
   ]
  },
  {
   "cell_type": "code",
   "execution_count": 276,
   "metadata": {
    "ExecuteTime": {
     "end_time": "2024-02-20T14:39:30.617724200Z",
     "start_time": "2024-02-20T14:39:30.573915300Z"
    }
   },
   "outputs": [
    {
     "data": {
      "text/plain": "         Day   t  year  month  day month_name   T_f\n0 2008-01-01   0  2008      1    1     Январь  32.0\n1 2008-01-02  -5  2008      1    2     Январь  23.0\n2 2008-01-03 -11  2008      1    3     Январь  12.2\n3 2008-01-04 -11  2008      1    4     Январь  12.2\n4 2008-01-05 -12  2008      1    5     Январь  10.4",
      "text/html": "<div>\n<style scoped>\n    .dataframe tbody tr th:only-of-type {\n        vertical-align: middle;\n    }\n\n    .dataframe tbody tr th {\n        vertical-align: top;\n    }\n\n    .dataframe thead th {\n        text-align: right;\n    }\n</style>\n<table border=\"1\" class=\"dataframe\">\n  <thead>\n    <tr style=\"text-align: right;\">\n      <th></th>\n      <th>Day</th>\n      <th>t</th>\n      <th>year</th>\n      <th>month</th>\n      <th>day</th>\n      <th>month_name</th>\n      <th>T_f</th>\n    </tr>\n  </thead>\n  <tbody>\n    <tr>\n      <th>0</th>\n      <td>2008-01-01</td>\n      <td>0</td>\n      <td>2008</td>\n      <td>1</td>\n      <td>1</td>\n      <td>Январь</td>\n      <td>32.0</td>\n    </tr>\n    <tr>\n      <th>1</th>\n      <td>2008-01-02</td>\n      <td>-5</td>\n      <td>2008</td>\n      <td>1</td>\n      <td>2</td>\n      <td>Январь</td>\n      <td>23.0</td>\n    </tr>\n    <tr>\n      <th>2</th>\n      <td>2008-01-03</td>\n      <td>-11</td>\n      <td>2008</td>\n      <td>1</td>\n      <td>3</td>\n      <td>Январь</td>\n      <td>12.2</td>\n    </tr>\n    <tr>\n      <th>3</th>\n      <td>2008-01-04</td>\n      <td>-11</td>\n      <td>2008</td>\n      <td>1</td>\n      <td>4</td>\n      <td>Январь</td>\n      <td>12.2</td>\n    </tr>\n    <tr>\n      <th>4</th>\n      <td>2008-01-05</td>\n      <td>-12</td>\n      <td>2008</td>\n      <td>1</td>\n      <td>5</td>\n      <td>Январь</td>\n      <td>10.4</td>\n    </tr>\n  </tbody>\n</table>\n</div>"
     },
     "execution_count": 276,
     "metadata": {},
     "output_type": "execute_result"
    }
   ],
   "source": [
    "df['T_f'] = df.t.apply(lambda x: 9 / 5 * x + 32)\n",
    "df.head()"
   ]
  },
  {
   "cell_type": "code",
   "execution_count": 277,
   "metadata": {
    "ExecuteTime": {
     "end_time": "2024-02-20T14:39:32.798715200Z",
     "start_time": "2024-02-20T14:39:32.722172100Z"
    }
   },
   "outputs": [],
   "source": [
    "df.to_csv('result.csv')"
   ]
  },
  {
   "cell_type": "markdown",
   "metadata": {},
   "source": [
    "## Задача\n",
    "\n",
    "**Во всех задачах ниже стараемся избегать циклов**\n",
    "\n",
    "\n",
    "Найти насколько отличалась температура в самый жаркий и самый холодный день"
   ]
  },
  {
   "cell_type": "code",
   "execution_count": 269,
   "metadata": {
    "ExecuteTime": {
     "end_time": "2024-02-20T14:34:14.965780Z",
     "start_time": "2024-02-20T14:34:14.908189200Z"
    }
   },
   "outputs": [
    {
     "data": {
      "text/plain": "57"
     },
     "execution_count": 269,
     "metadata": {},
     "output_type": "execute_result"
    }
   ],
   "source": [
    "abs(df[\"t\"].max() - df[\"t\"].min())"
   ]
  },
  {
   "cell_type": "markdown",
   "metadata": {},
   "source": [
    "## Задача\n",
    "\n",
    "Вывести среднее, максимальное, минимальное, стандартное отклонение и медиану температуры за каждый год"
   ]
  },
  {
   "cell_type": "code",
   "execution_count": 272,
   "metadata": {
    "ExecuteTime": {
     "end_time": "2024-02-20T14:38:16.532426Z",
     "start_time": "2024-02-20T14:38:16.433361500Z"
    }
   },
   "outputs": [
    {
     "data": {
      "text/plain": "             t                          \n          mean max min        std median\nyear                                    \n2008  8.545205  27 -14   8.221605    9.0\n2009  7.610959  26 -13   9.767455    6.0\n2010  7.117808  34 -23  12.953206    8.0\n2011  8.337912  31 -20  10.839861    8.0\n2012  6.980822  31 -19  11.060134    7.0\n2013  8.728767  31 -16  10.619822    8.0\n2014  8.931507  31 -18  10.485637    8.0\n2015  9.079452  27 -11   8.307070    8.0\n2016  7.907104  30 -21  10.453923    7.0",
      "text/html": "<div>\n<style scoped>\n    .dataframe tbody tr th:only-of-type {\n        vertical-align: middle;\n    }\n\n    .dataframe tbody tr th {\n        vertical-align: top;\n    }\n\n    .dataframe thead tr th {\n        text-align: left;\n    }\n\n    .dataframe thead tr:last-of-type th {\n        text-align: right;\n    }\n</style>\n<table border=\"1\" class=\"dataframe\">\n  <thead>\n    <tr>\n      <th></th>\n      <th colspan=\"5\" halign=\"left\">t</th>\n    </tr>\n    <tr>\n      <th></th>\n      <th>mean</th>\n      <th>max</th>\n      <th>min</th>\n      <th>std</th>\n      <th>median</th>\n    </tr>\n    <tr>\n      <th>year</th>\n      <th></th>\n      <th></th>\n      <th></th>\n      <th></th>\n      <th></th>\n    </tr>\n  </thead>\n  <tbody>\n    <tr>\n      <th>2008</th>\n      <td>8.545205</td>\n      <td>27</td>\n      <td>-14</td>\n      <td>8.221605</td>\n      <td>9.0</td>\n    </tr>\n    <tr>\n      <th>2009</th>\n      <td>7.610959</td>\n      <td>26</td>\n      <td>-13</td>\n      <td>9.767455</td>\n      <td>6.0</td>\n    </tr>\n    <tr>\n      <th>2010</th>\n      <td>7.117808</td>\n      <td>34</td>\n      <td>-23</td>\n      <td>12.953206</td>\n      <td>8.0</td>\n    </tr>\n    <tr>\n      <th>2011</th>\n      <td>8.337912</td>\n      <td>31</td>\n      <td>-20</td>\n      <td>10.839861</td>\n      <td>8.0</td>\n    </tr>\n    <tr>\n      <th>2012</th>\n      <td>6.980822</td>\n      <td>31</td>\n      <td>-19</td>\n      <td>11.060134</td>\n      <td>7.0</td>\n    </tr>\n    <tr>\n      <th>2013</th>\n      <td>8.728767</td>\n      <td>31</td>\n      <td>-16</td>\n      <td>10.619822</td>\n      <td>8.0</td>\n    </tr>\n    <tr>\n      <th>2014</th>\n      <td>8.931507</td>\n      <td>31</td>\n      <td>-18</td>\n      <td>10.485637</td>\n      <td>8.0</td>\n    </tr>\n    <tr>\n      <th>2015</th>\n      <td>9.079452</td>\n      <td>27</td>\n      <td>-11</td>\n      <td>8.307070</td>\n      <td>8.0</td>\n    </tr>\n    <tr>\n      <th>2016</th>\n      <td>7.907104</td>\n      <td>30</td>\n      <td>-21</td>\n      <td>10.453923</td>\n      <td>7.0</td>\n    </tr>\n  </tbody>\n</table>\n</div>"
     },
     "execution_count": 272,
     "metadata": {},
     "output_type": "execute_result"
    }
   ],
   "source": [
    "df.groupby([\"year\"]).agg({'t': ['mean', 'max', 'min', 'std', 'median']})"
   ]
  },
  {
   "cell_type": "markdown",
   "metadata": {},
   "source": [
    "## Задача"
   ]
  },
  {
   "cell_type": "markdown",
   "metadata": {},
   "source": [
    "Необходимо узнать насколько медиана отличалась от среднего в каждом месяце. Использовать agg для решения"
   ]
  },
  {
   "cell_type": "code",
   "execution_count": 283,
   "metadata": {
    "ExecuteTime": {
     "end_time": "2024-02-20T14:46:38.000011700Z",
     "start_time": "2024-02-20T14:46:37.898984100Z"
    }
   },
   "outputs": [
    {
     "data": {
      "text/plain": "              t\n              x\nmonth          \n1      0.745520\n2      1.505882\n3      0.240143\n4      0.744444\n5      0.291367\n6      0.325926\n7      0.050360\n8      0.666667\n9      0.425926\n10     0.673835\n11     0.533333\n12     1.323741",
      "text/html": "<div>\n<style scoped>\n    .dataframe tbody tr th:only-of-type {\n        vertical-align: middle;\n    }\n\n    .dataframe tbody tr th {\n        vertical-align: top;\n    }\n\n    .dataframe thead tr th {\n        text-align: left;\n    }\n\n    .dataframe thead tr:last-of-type th {\n        text-align: right;\n    }\n</style>\n<table border=\"1\" class=\"dataframe\">\n  <thead>\n    <tr>\n      <th></th>\n      <th>t</th>\n    </tr>\n    <tr>\n      <th></th>\n      <th>x</th>\n    </tr>\n    <tr>\n      <th>month</th>\n      <th></th>\n    </tr>\n  </thead>\n  <tbody>\n    <tr>\n      <th>1</th>\n      <td>0.745520</td>\n    </tr>\n    <tr>\n      <th>2</th>\n      <td>1.505882</td>\n    </tr>\n    <tr>\n      <th>3</th>\n      <td>0.240143</td>\n    </tr>\n    <tr>\n      <th>4</th>\n      <td>0.744444</td>\n    </tr>\n    <tr>\n      <th>5</th>\n      <td>0.291367</td>\n    </tr>\n    <tr>\n      <th>6</th>\n      <td>0.325926</td>\n    </tr>\n    <tr>\n      <th>7</th>\n      <td>0.050360</td>\n    </tr>\n    <tr>\n      <th>8</th>\n      <td>0.666667</td>\n    </tr>\n    <tr>\n      <th>9</th>\n      <td>0.425926</td>\n    </tr>\n    <tr>\n      <th>10</th>\n      <td>0.673835</td>\n    </tr>\n    <tr>\n      <th>11</th>\n      <td>0.533333</td>\n    </tr>\n    <tr>\n      <th>12</th>\n      <td>1.323741</td>\n    </tr>\n  </tbody>\n</table>\n</div>"
     },
     "execution_count": 283,
     "metadata": {},
     "output_type": "execute_result"
    }
   ],
   "source": [
    "df.groupby('month').agg({'t': [('x', lambda x: abs(x.mean() - x.median()))]})"
   ]
  },
  {
   "cell_type": "markdown",
   "metadata": {},
   "source": [
    "## Задача\n",
    "\n",
    "Вывести день, в который максимально изменилась температура\n",
    "\n",
    "Подсказка: `diff()`"
   ]
  },
  {
   "cell_type": "code",
   "execution_count": 297,
   "metadata": {
    "ExecuteTime": {
     "end_time": "2024-02-20T14:56:37.906891900Z",
     "start_time": "2024-02-20T14:56:37.857020Z"
    }
   },
   "outputs": [
    {
     "data": {
      "text/plain": "Timestamp('2014-05-27 00:00:00')"
     },
     "execution_count": 297,
     "metadata": {},
     "output_type": "execute_result"
    }
   ],
   "source": [
    "df.loc[abs(df[\"t\"].diff()).argmax(), \"Day\"]"
   ]
  },
  {
   "cell_type": "markdown",
   "metadata": {},
   "source": [
    "## Поработаем с экселем"
   ]
  },
  {
   "cell_type": "markdown",
   "metadata": {},
   "source": [
    "Сохраним датафрейм в эксель"
   ]
  },
  {
   "cell_type": "code",
   "execution_count": 298,
   "metadata": {
    "ExecuteTime": {
     "end_time": "2024-02-20T14:56:58.840460100Z",
     "start_time": "2024-02-20T14:56:57.534484300Z"
    }
   },
   "outputs": [],
   "source": [
    "df.to_excel('../data/excel.xlsx')"
   ]
  },
  {
   "cell_type": "markdown",
   "metadata": {},
   "source": [
    "Прочитаем из экселя"
   ]
  },
  {
   "cell_type": "code",
   "execution_count": 299,
   "metadata": {
    "ExecuteTime": {
     "end_time": "2024-02-20T14:57:02.594748200Z",
     "start_time": "2024-02-20T14:57:02.218305300Z"
    }
   },
   "outputs": [
    {
     "data": {
      "text/plain": "            Day   t  year  month  day month_name   T_f\n0    2008-01-01   0  2008      1    1     Январь  32.0\n1    2008-01-02  -5  2008      1    2     Январь  23.0\n2    2008-01-03 -11  2008      1    3     Январь  12.2\n3    2008-01-04 -11  2008      1    4     Январь  12.2\n4    2008-01-05 -12  2008      1    5     Январь  10.4\n...         ...  ..   ...    ...  ...        ...   ...\n3280 2016-12-27   1  2016     12   27    Декабрь  33.8\n3281 2016-12-28  -3  2016     12   28    Декабрь  26.6\n3282 2016-12-29   0  2016     12   29    Декабрь  32.0\n3283 2016-12-30   3  2016     12   30    Декабрь  37.4\n3284 2016-12-31   4  2016     12   31    Декабрь  39.2\n\n[3285 rows x 7 columns]",
      "text/html": "<div>\n<style scoped>\n    .dataframe tbody tr th:only-of-type {\n        vertical-align: middle;\n    }\n\n    .dataframe tbody tr th {\n        vertical-align: top;\n    }\n\n    .dataframe thead th {\n        text-align: right;\n    }\n</style>\n<table border=\"1\" class=\"dataframe\">\n  <thead>\n    <tr style=\"text-align: right;\">\n      <th></th>\n      <th>Day</th>\n      <th>t</th>\n      <th>year</th>\n      <th>month</th>\n      <th>day</th>\n      <th>month_name</th>\n      <th>T_f</th>\n    </tr>\n  </thead>\n  <tbody>\n    <tr>\n      <th>0</th>\n      <td>2008-01-01</td>\n      <td>0</td>\n      <td>2008</td>\n      <td>1</td>\n      <td>1</td>\n      <td>Январь</td>\n      <td>32.0</td>\n    </tr>\n    <tr>\n      <th>1</th>\n      <td>2008-01-02</td>\n      <td>-5</td>\n      <td>2008</td>\n      <td>1</td>\n      <td>2</td>\n      <td>Январь</td>\n      <td>23.0</td>\n    </tr>\n    <tr>\n      <th>2</th>\n      <td>2008-01-03</td>\n      <td>-11</td>\n      <td>2008</td>\n      <td>1</td>\n      <td>3</td>\n      <td>Январь</td>\n      <td>12.2</td>\n    </tr>\n    <tr>\n      <th>3</th>\n      <td>2008-01-04</td>\n      <td>-11</td>\n      <td>2008</td>\n      <td>1</td>\n      <td>4</td>\n      <td>Январь</td>\n      <td>12.2</td>\n    </tr>\n    <tr>\n      <th>4</th>\n      <td>2008-01-05</td>\n      <td>-12</td>\n      <td>2008</td>\n      <td>1</td>\n      <td>5</td>\n      <td>Январь</td>\n      <td>10.4</td>\n    </tr>\n    <tr>\n      <th>...</th>\n      <td>...</td>\n      <td>...</td>\n      <td>...</td>\n      <td>...</td>\n      <td>...</td>\n      <td>...</td>\n      <td>...</td>\n    </tr>\n    <tr>\n      <th>3280</th>\n      <td>2016-12-27</td>\n      <td>1</td>\n      <td>2016</td>\n      <td>12</td>\n      <td>27</td>\n      <td>Декабрь</td>\n      <td>33.8</td>\n    </tr>\n    <tr>\n      <th>3281</th>\n      <td>2016-12-28</td>\n      <td>-3</td>\n      <td>2016</td>\n      <td>12</td>\n      <td>28</td>\n      <td>Декабрь</td>\n      <td>26.6</td>\n    </tr>\n    <tr>\n      <th>3282</th>\n      <td>2016-12-29</td>\n      <td>0</td>\n      <td>2016</td>\n      <td>12</td>\n      <td>29</td>\n      <td>Декабрь</td>\n      <td>32.0</td>\n    </tr>\n    <tr>\n      <th>3283</th>\n      <td>2016-12-30</td>\n      <td>3</td>\n      <td>2016</td>\n      <td>12</td>\n      <td>30</td>\n      <td>Декабрь</td>\n      <td>37.4</td>\n    </tr>\n    <tr>\n      <th>3284</th>\n      <td>2016-12-31</td>\n      <td>4</td>\n      <td>2016</td>\n      <td>12</td>\n      <td>31</td>\n      <td>Декабрь</td>\n      <td>39.2</td>\n    </tr>\n  </tbody>\n</table>\n<p>3285 rows × 7 columns</p>\n</div>"
     },
     "execution_count": 299,
     "metadata": {},
     "output_type": "execute_result"
    }
   ],
   "source": [
    "pd.read_excel('../data/excel.xlsx', index_col=0)"
   ]
  },
  {
   "cell_type": "code",
   "execution_count": 300,
   "metadata": {
    "ExecuteTime": {
     "end_time": "2024-02-20T14:57:05.867099100Z",
     "start_time": "2024-02-20T14:57:05.827512800Z"
    }
   },
   "outputs": [],
   "source": [
    "import os\n",
    "\n",
    "os.remove('../data/excel.xlsx')\n",
    "os.remove('result.csv')"
   ]
  },
  {
   "cell_type": "markdown",
   "metadata": {},
   "source": [
    "# Полезные ссылки\n",
    "\n",
    "- [Git](https://git-scm.com/downloads)\n",
    "\n",
    "- [Anaconda](https://www.anaconda.com/products/individual#Downloads)\n",
    "\n",
    "- [VS Code](https://code.visualstudio.com/download)\n",
    "\n",
    "- [Шпаргалка по анаконде](https://docs.conda.io/projects/conda/en/4.6.0/_downloads/52a95608c49671267e40c689e0bc00ca/conda-cheatsheet.pdf)\n",
    "\n",
    "- [Шпаргалка по гиту](https://education.github.com/git-cheat-sheet-education.pdf)\n",
    "\n",
    "- [Установка jupyterlab (вариант с conda install, не забываем активировать окружение)](https://jupyterlab.readthedocs.io/en/stable/getting_started/installation.html)\n",
    "\n",
    "- [Небольшой курс по numpy-pandas-matplotlib, если хочется интерактивных задач](https://www.sololearn.com/learning/1161)"
   ]
  }
 ],
 "metadata": {
  "interpreter": {
   "hash": "3c60d125f86ecb331b65a8423cf0cca4676faa8812a500d14a58b02fbd427a36"
  },
  "kernelspec": {
   "display_name": "Python 3 (ipykernel)",
   "language": "python",
   "name": "python3"
  },
  "language_info": {
   "codemirror_mode": {
    "name": "ipython",
    "version": 3
   },
   "file_extension": ".py",
   "mimetype": "text/x-python",
   "name": "python",
   "nbconvert_exporter": "python",
   "pygments_lexer": "ipython3",
   "version": "3.9.12"
  }
 },
 "nbformat": 4,
 "nbformat_minor": 4
}
